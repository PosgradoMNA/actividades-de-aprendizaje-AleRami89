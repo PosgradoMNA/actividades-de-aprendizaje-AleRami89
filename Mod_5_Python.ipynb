{
  "nbformat": 4,
  "nbformat_minor": 0,
  "metadata": {
    "colab": {
      "provenance": [],
      "authorship_tag": "ABX9TyPIolrFULx3hi22yHClDJer",
      "include_colab_link": true
    },
    "kernelspec": {
      "name": "python3",
      "display_name": "Python 3"
    },
    "language_info": {
      "name": "python"
    }
  },
  "cells": [
    {
      "cell_type": "markdown",
      "metadata": {
        "id": "view-in-github",
        "colab_type": "text"
      },
      "source": [
        "<a href=\"https://colab.research.google.com/github/PosgradoMNA/actividades-de-aprendizaje-AleRami89/blob/main/Mod_5_Python.ipynb\" target=\"_parent\"><img src=\"https://colab.research.google.com/assets/colab-badge.svg\" alt=\"Open In Colab\"/></a>"
      ]
    },
    {
      "cell_type": "markdown",
      "source": [
        "#Proyecto: Módulo 5 Python\n",
        "\n",
        "- Maestría: Inteligencia Artificial Aplicada\n",
        "\n",
        "- Materia: Ciencia y analítica de datos\n",
        "\n",
        "- Alumna: Alejandra Ramírez Romano\n",
        "\n",
        "- Matricula: A01793144\n"
      ],
      "metadata": {
        "id": "JwoDrCBv02tv"
      }
    },
    {
      "cell_type": "markdown",
      "source": [
        "#LAB1"
      ],
      "metadata": {
        "id": "1UyL-pa21pZ3"
      }
    },
    {
      "cell_type": "markdown",
      "source": [
        "##1D Numpy in Python"
      ],
      "metadata": {
        "id": "ii5qHpvW1Bao"
      }
    },
    {
      "cell_type": "markdown",
      "source": [
        "Create a Python List as follows:"
      ],
      "metadata": {
        "id": "OjXVjdiK1IyX"
      }
    },
    {
      "cell_type": "code",
      "source": [
        "# Create a python list\n",
        "\n",
        "a = [\"0\", 1, \"two\", \"3\", 4]"
      ],
      "metadata": {
        "id": "RjTYvnYo1UFu"
      },
      "execution_count": 1,
      "outputs": []
    },
    {
      "cell_type": "markdown",
      "source": [
        "We can access each element using a square bracket as follows:"
      ],
      "metadata": {
        "id": "2Ni3Dcid1VxF"
      }
    },
    {
      "cell_type": "code",
      "source": [
        "# Print each element\n",
        "\n",
        "print(\"a[0]:\", a[0])\n",
        "print(\"a[1]:\", a[1])\n",
        "print(\"a[2]:\", a[2])\n",
        "print(\"a[3]:\", a[3])\n",
        "print(\"a[4]:\", a[4])"
      ],
      "metadata": {
        "id": "w1Z_QEMr1aWD",
        "colab": {
          "base_uri": "https://localhost:8080/"
        },
        "outputId": "f57815ae-3ba7-437c-976c-0a184e43dc1a"
      },
      "execution_count": 2,
      "outputs": [
        {
          "output_type": "stream",
          "name": "stdout",
          "text": [
            "a[0]: 0\n",
            "a[1]: 1\n",
            "a[2]: two\n",
            "a[3]: 3\n",
            "a[4]: 4\n"
          ]
        }
      ]
    },
    {
      "cell_type": "markdown",
      "source": [
        "What is Numpy?¶\n",
        "\n",
        "A numpy array is similar to a list. NumPy stands for Numerical Python and it is an open source project.**The array object in NumPy is called ndarray = np**\n"
      ],
      "metadata": {
        "id": "Q5ttM_c71cz8"
      }
    },
    {
      "cell_type": "markdown",
      "source": [
        "Asi importamos la libreria"
      ],
      "metadata": {
        "id": "OOxrGXbq2cyD"
      }
    },
    {
      "cell_type": "code",
      "source": [
        "# import numpy library\n",
        "\n",
        "import numpy as np "
      ],
      "metadata": {
        "id": "Y32deNQk2fsB"
      },
      "execution_count": 4,
      "outputs": []
    },
    {
      "cell_type": "markdown",
      "source": [
        "We then cast the list as follows:"
      ],
      "metadata": {
        "id": "6y3uPwba2gwf"
      }
    },
    {
      "cell_type": "code",
      "source": [
        "# Create a numpy array\n",
        "\n",
        "a = np.array([0, 1, 2, 3, 4])\n",
        "a"
      ],
      "metadata": {
        "id": "r00HQRsF27hs",
        "colab": {
          "base_uri": "https://localhost:8080/"
        },
        "outputId": "4ad1cbf1-3375-452f-f500-ec116e528aaa"
      },
      "execution_count": 5,
      "outputs": [
        {
          "output_type": "execute_result",
          "data": {
            "text/plain": [
              "array([0, 1, 2, 3, 4])"
            ]
          },
          "metadata": {},
          "execution_count": 5
        }
      ]
    },
    {
      "cell_type": "markdown",
      "source": [
        "As with lists, we can **access each element** via a square bracket:"
      ],
      "metadata": {
        "id": "0ISQO5Gw28_O"
      }
    },
    {
      "cell_type": "code",
      "source": [
        "# Print each element\n",
        "\n",
        "print(\"a[0]:\", a[0])\n",
        "print(\"a[1]:\", a[1])\n",
        "print(\"a[2]:\", a[2])\n",
        "print(\"a[3]:\", a[3])\n",
        "print(\"a[4]:\", a[4])"
      ],
      "metadata": {
        "id": "2Do_Phpz3AyU",
        "colab": {
          "base_uri": "https://localhost:8080/"
        },
        "outputId": "37a959df-204a-4fe1-c271-61076abe4d38"
      },
      "execution_count": 6,
      "outputs": [
        {
          "output_type": "stream",
          "name": "stdout",
          "text": [
            "a[0]: 0\n",
            "a[1]: 1\n",
            "a[2]: 2\n",
            "a[3]: 3\n",
            "a[4]: 4\n"
          ]
        }
      ]
    },
    {
      "cell_type": "markdown",
      "source": [
        "We can** change the value of the array**. Consider the array c:"
      ],
      "metadata": {
        "id": "zPoAdDMn3DJH"
      }
    },
    {
      "cell_type": "code",
      "source": [
        "# Create numpy array\n",
        "\n",
        "c = np.array([20, 1, 2, 3, 4])\n",
        "c"
      ],
      "metadata": {
        "colab": {
          "base_uri": "https://localhost:8080/"
        },
        "id": "Rmlw8oNsQzya",
        "outputId": "e6a4397d-f429-42b3-8cee-69688cd15489"
      },
      "execution_count": 7,
      "outputs": [
        {
          "output_type": "execute_result",
          "data": {
            "text/plain": [
              "array([20,  1,  2,  3,  4])"
            ]
          },
          "metadata": {},
          "execution_count": 7
        }
      ]
    },
    {
      "cell_type": "markdown",
      "source": [
        "We can **change the first** element of the array to 100 as follows:"
      ],
      "metadata": {
        "id": "UtvcltfNQ2YG"
      }
    },
    {
      "cell_type": "code",
      "source": [
        "c[3] = 100\n",
        "c"
      ],
      "metadata": {
        "colab": {
          "base_uri": "https://localhost:8080/"
        },
        "id": "STohbfllRLsO",
        "outputId": "64f11753-b90b-4a82-9b1f-6b9583899ed5"
      },
      "execution_count": 10,
      "outputs": [
        {
          "output_type": "execute_result",
          "data": {
            "text/plain": [
              "array([100,   1,   2, 100, 100])"
            ]
          },
          "metadata": {},
          "execution_count": 10
        }
      ]
    },
    {
      "cell_type": "markdown",
      "source": [
        "#Slicing\n",
        "Slicing in python means **taking the elements from the given index to another given index**.\n",
        "\n",
        "We pass slice like this: \\**[start:end]**."
      ],
      "metadata": {
        "id": "gUX8isSdRO_R"
      }
    },
    {
      "cell_type": "code",
      "source": [
        "# Slicing the numpy array\n",
        "\n",
        "d = c[1:4]\n",
        "d\n"
      ],
      "metadata": {
        "colab": {
          "base_uri": "https://localhost:8080/"
        },
        "id": "SX6qMrVwRYka",
        "outputId": "c3bf659c-010a-4b91-b3f5-338037def041"
      },
      "execution_count": 14,
      "outputs": [
        {
          "output_type": "execute_result",
          "data": {
            "text/plain": [
              "array([  1,   2, 300])"
            ]
          },
          "metadata": {},
          "execution_count": 14
        }
      ]
    },
    {
      "cell_type": "code",
      "source": [
        "# Set the fourth element and fifth element to 300 and 400\n",
        "\n",
        "c[3:5] = 300, 400\n",
        "c"
      ],
      "metadata": {
        "colab": {
          "base_uri": "https://localhost:8080/"
        },
        "id": "wv30-x4KR8oW",
        "outputId": "54a4bbf0-88f8-43cc-95da-3e8083c7ebe9"
      },
      "execution_count": 13,
      "outputs": [
        {
          "output_type": "execute_result",
          "data": {
            "text/plain": [
              "array([100,   1,   2, 300, 400])"
            ]
          },
          "metadata": {},
          "execution_count": 13
        }
      ]
    },
    {
      "cell_type": "code",
      "source": [
        "arr = np.array([1, 2, 3, 4, 5, 6, 7])\n",
        "\n",
        "print(arr[1:5:2])"
      ],
      "metadata": {
        "colab": {
          "base_uri": "https://localhost:8080/"
        },
        "id": "A2XajXmJSDt3",
        "outputId": "5c8667ae-5306-4b16-86e9-014f626ce606"
      },
      "execution_count": 15,
      "outputs": [
        {
          "output_type": "stream",
          "name": "stdout",
          "text": [
            "[2 4]\n"
          ]
        }
      ]
    },
    {
      "cell_type": "markdown",
      "source": [
        "#Assign Value with List\n",
        "Similarly, we can **use a list to select more than one specific index.** The list select contains several values:"
      ],
      "metadata": {
        "id": "ACPwBeEHSLKf"
      }
    },
    {
      "cell_type": "code",
      "source": [
        "# Create the index list\n",
        "\n",
        "select = [0, 2, 3, 4]\n",
        "select"
      ],
      "metadata": {
        "colab": {
          "base_uri": "https://localhost:8080/"
        },
        "id": "ZYvvQE-wSTsS",
        "outputId": "34e54f95-6f69-4271-c240-c6d74e013bd1"
      },
      "execution_count": 16,
      "outputs": [
        {
          "output_type": "execute_result",
          "data": {
            "text/plain": [
              "[0, 2, 3, 4]"
            ]
          },
          "metadata": {},
          "execution_count": 16
        }
      ]
    },
    {
      "cell_type": "code",
      "source": [
        "# Assign the specified elements to new value\n",
        "\n",
        "c[select] = 100000\n",
        "c"
      ],
      "metadata": {
        "colab": {
          "base_uri": "https://localhost:8080/"
        },
        "id": "4M1_QtktSZcn",
        "outputId": "4f5e1fd2-c44b-4896-bc45-9745f13094f2"
      },
      "execution_count": 17,
      "outputs": [
        {
          "output_type": "execute_result",
          "data": {
            "text/plain": [
              "array([100000,      1, 100000, 100000, 100000])"
            ]
          },
          "metadata": {},
          "execution_count": 17
        }
      ]
    },
    {
      "cell_type": "markdown",
      "source": [
        "#Numpy Statistical Functions"
      ],
      "metadata": {
        "id": "iI1kahVRSbOi"
      }
    },
    {
      "cell_type": "code",
      "source": [
        "# Create a numpy array\n",
        "\n",
        "a = np.array([1, -1, 1, -1])"
      ],
      "metadata": {
        "id": "OpJ_F5fjSa7T"
      },
      "execution_count": null,
      "outputs": []
    },
    {
      "cell_type": "code",
      "source": [
        "# Get the mean of numpy array\n",
        "\n",
        "mean = a.mean()\n",
        "mean"
      ],
      "metadata": {
        "id": "t-1Z83jISinX"
      },
      "execution_count": null,
      "outputs": []
    },
    {
      "cell_type": "code",
      "source": [
        "# Get the standard deviation of numpy array\n",
        "\n",
        "standard_deviation=a.std()\n",
        "standard_deviation"
      ],
      "metadata": {
        "id": "Z_PKuApGSkqR"
      },
      "execution_count": null,
      "outputs": []
    },
    {
      "cell_type": "code",
      "source": [
        "# Create a numpy array\n",
        "\n",
        "b = np.array([-1, 2, 3, 4, 5])\n",
        "b"
      ],
      "metadata": {
        "id": "eOzojrrFSonB"
      },
      "execution_count": null,
      "outputs": []
    },
    {
      "cell_type": "code",
      "source": [
        "# Get the biggest value in the numpy array\n",
        "\n",
        "max_b = b.max()\n",
        "max_b"
      ],
      "metadata": {
        "id": "qa-PNXCeSrzt"
      },
      "execution_count": null,
      "outputs": []
    },
    {
      "cell_type": "code",
      "source": [
        "# Get the smallest value in the numpy array\n",
        "\n",
        "min_b = b.min()\n",
        "min_b"
      ],
      "metadata": {
        "id": "Nldn1GZWSstx"
      },
      "execution_count": null,
      "outputs": []
    },
    {
      "cell_type": "markdown",
      "source": [
        "#Addition"
      ],
      "metadata": {
        "id": "l0pSWPU7SiGD"
      }
    },
    {
      "cell_type": "code",
      "source": [
        "u = np.array([1, 0])\n",
        "u\n",
        "v = np.array([0, 1])\n",
        "v\n",
        "# Numpy Array Addition\n",
        "\n",
        "z = np.add(u, v)\n",
        "z"
      ],
      "metadata": {
        "colab": {
          "base_uri": "https://localhost:8080/"
        },
        "id": "hVDmYYRzS2h-",
        "outputId": "a005ee43-2e2f-4f0e-fe0f-d0326912e924"
      },
      "execution_count": 18,
      "outputs": [
        {
          "output_type": "execute_result",
          "data": {
            "text/plain": [
              "array([1, 1])"
            ]
          },
          "metadata": {},
          "execution_count": 18
        }
      ]
    },
    {
      "cell_type": "code",
      "source": [
        "# Plotting functions\n",
        "\n",
        "\n",
        "import time \n",
        "import sys\n",
        "import numpy as np \n",
        "\n",
        "import matplotlib.pyplot as plt\n",
        "%matplotlib inline  \n",
        "\n",
        "def Plotvec1(u, z, v):\n",
        "    \n",
        "    ax = plt.axes() # to generate the full window axes\n",
        "    ax.arrow(0, 0, *u, head_width=0.05, color='r', head_length=0.1)# Add an arrow to the  U Axes with arrow head width 0.05, color red and arrow head length 0.1\n",
        "    plt.text(*(u + 0.1), 'u')#Adds the text u to the Axes \n",
        "    \n",
        "    ax.arrow(0, 0, *v, head_width=0.05, color='b', head_length=0.1)# Add an arrow to the  v Axes with arrow head width 0.05, color red and arrow head length 0.1\n",
        "    plt.text(*(v + 0.1), 'v')#Adds the text v to the Axes \n",
        "    \n",
        "    ax.arrow(0, 0, *z, head_width=0.05, head_length=0.1)\n",
        "    plt.text(*(z + 0.1), 'z')#Adds the text z to the Axes \n",
        "    plt.ylim(-2, 2)#set the ylim to bottom(-2), top(2)\n",
        "    plt.xlim(-2, 2)#set the xlim to left(-2), right(2)\n",
        "    # Plot numpy arrays\n",
        "\n",
        "Plotvec1(u, z, v)\n"
      ],
      "metadata": {
        "colab": {
          "base_uri": "https://localhost:8080/",
          "height": 269
        },
        "id": "HYT9RNZsTC6h",
        "outputId": "d6add555-12b2-46ea-d7c7-cfa8cc71f899"
      },
      "execution_count": 20,
      "outputs": [
        {
          "output_type": "display_data",
          "data": {
            "text/plain": [
              "<Figure size 432x288 with 1 Axes>"
            ],
            "image/png": "[encoded data removed]"
          },
          "metadata": {
            "needs_background": "light"
          }
        }
      ]
    },
    {
      "cell_type": "markdown",
      "source": [
        "#Array Subtraction"
      ],
      "metadata": {
        "id": "gQsFLr9NThb5"
      }
    },
    {
      "cell_type": "code",
      "source": [
        "a = np.array([10, 20, 30])\n",
        "a\n",
        "b = np.array([5, 10, 15])\n",
        "b\n",
        "c = np.subtract(a, b)\n",
        "\n",
        "print(c)\n"
      ],
      "metadata": {
        "colab": {
          "base_uri": "https://localhost:8080/"
        },
        "id": "3AEaWHpmThHV",
        "outputId": "32a7fe44-581c-4e63-84a1-3afa30c6ec74"
      },
      "execution_count": 21,
      "outputs": [
        {
          "output_type": "stream",
          "name": "stdout",
          "text": [
            "[ 5 10 15]\n"
          ]
        }
      ]
    },
    {
      "cell_type": "markdown",
      "source": [
        "#Array Multiplication"
      ],
      "metadata": {
        "id": "HIQyIWhuTvZV"
      }
    },
    {
      "cell_type": "code",
      "source": [
        "# Create a numpy array\n",
        "\n",
        "x = np.array([1, 2])\n",
        "x\n",
        "# Create a numpy array\n",
        "\n",
        "y = np.array([2, 1])\n",
        "y\n",
        "# Numpy Array Multiplication\n",
        "\n",
        "z = np.multiply(x, y)\n",
        "z"
      ],
      "metadata": {
        "colab": {
          "base_uri": "https://localhost:8080/"
        },
        "id": "OSWAV0JTTxJp",
        "outputId": "e8286a96-c837-4431-b7b5-706ea58a8d0d"
      },
      "execution_count": 22,
      "outputs": [
        {
          "output_type": "execute_result",
          "data": {
            "text/plain": [
              "array([2, 2])"
            ]
          },
          "metadata": {},
          "execution_count": 22
        }
      ]
    },
    {
      "cell_type": "markdown",
      "source": [
        "#Array Division"
      ],
      "metadata": {
        "id": "rz6G4mEDT3Lp"
      }
    },
    {
      "cell_type": "code",
      "source": [
        "a = np.array([10, 20, 30])\n",
        "a\n",
        "b = np.array([2, 10, 5])\n",
        "b\n",
        "c = np.divide(a, b)\n",
        "c"
      ],
      "metadata": {
        "colab": {
          "base_uri": "https://localhost:8080/"
        },
        "id": "hOGnMfKpT22Q",
        "outputId": "e80c7440-2ff8-4691-ec6d-434271a72f4c"
      },
      "execution_count": 23,
      "outputs": [
        {
          "output_type": "execute_result",
          "data": {
            "text/plain": [
              "array([5., 2., 6.])"
            ]
          },
          "metadata": {},
          "execution_count": 23
        }
      ]
    },
    {
      "cell_type": "markdown",
      "source": [
        "#Dot Product"
      ],
      "metadata": {
        "id": "Kx-aXpCxT_wu"
      }
    },
    {
      "cell_type": "code",
      "source": [
        "X = np.array([1, 2])\n",
        "Y = np.array([3, 2])\n",
        "# Calculate the dot product\n",
        "\n",
        "np.dot(X, Y)\n",
        "#Elements of X\n",
        "print(X[0],Y[0])\n",
        "\n",
        "#Elements of Y\n",
        "print(x[1],Y[1])\n"
      ],
      "metadata": {
        "colab": {
          "base_uri": "https://localhost:8080/"
        },
        "id": "1_atpPKjUA8x",
        "outputId": "61e1d645-c5cb-4b7f-d1f7-4f596a9339d0"
      },
      "execution_count": 29,
      "outputs": [
        {
          "output_type": "stream",
          "name": "stdout",
          "text": [
            "1 3\n",
            "2 2\n"
          ]
        }
      ]
    },
    {
      "cell_type": "code",
      "source": [
        "X = np.array([1, 2])\n",
        "Y = np.array([3, 2])\n",
        "# Calculate the dot product\n",
        "\n",
        "np.dot(X, Y)"
      ],
      "metadata": {
        "colab": {
          "base_uri": "https://localhost:8080/"
        },
        "id": "l3ePe1xGUQSZ",
        "outputId": "f04e2ca9-e7f2-48eb-eb83-936bb0341586"
      },
      "execution_count": 30,
      "outputs": [
        {
          "output_type": "execute_result",
          "data": {
            "text/plain": [
              "7"
            ]
          },
          "metadata": {},
          "execution_count": 30
        }
      ]
    },
    {
      "cell_type": "markdown",
      "source": [
        "#Linspace\n",
        "A useful function for **plotting mathematical functions** is linspace. Linspace **returns evenly spaced numbers** over a specified **interval.**"
      ],
      "metadata": {
        "id": "3GIlReCiVBwI"
      }
    },
    {
      "cell_type": "code",
      "source": [
        "# Makeup a numpy array within [-2, 2] and 5 elements\n",
        "\n",
        "np.linspace(-2, 2, num=5)\n"
      ],
      "metadata": {
        "colab": {
          "base_uri": "https://localhost:8080/"
        },
        "id": "XbEkZ87AVLcB",
        "outputId": "5f8d7ff3-3d2f-457a-e684-d4b7029cdeb7"
      },
      "execution_count": 35,
      "outputs": [
        {
          "output_type": "execute_result",
          "data": {
            "text/plain": [
              "array([-2., -1.,  0.,  1.,  2.])"
            ]
          },
          "metadata": {},
          "execution_count": 35
        }
      ]
    },
    {
      "cell_type": "code",
      "source": [
        "\n",
        "# Make a numpy array within [-2, 2] and 9 elements\n",
        "\n",
        "np.linspace(-2, 2, num=9)"
      ],
      "metadata": {
        "colab": {
          "base_uri": "https://localhost:8080/"
        },
        "id": "sWCbYkN2VUP9",
        "outputId": "ab36efe8-f33f-400d-b79d-7cafc8193dc0"
      },
      "execution_count": 36,
      "outputs": [
        {
          "output_type": "execute_result",
          "data": {
            "text/plain": [
              "array([-2. , -1.5, -1. , -0.5,  0. ,  0.5,  1. ,  1.5,  2. ])"
            ]
          },
          "metadata": {},
          "execution_count": 36
        }
      ]
    },
    {
      "cell_type": "code",
      "source": [
        "# Make a numpy array within [0, 2π] and 100 elements \n",
        "\n",
        "x = np.linspace(0, 2*np.pi, num=100)"
      ],
      "metadata": {
        "id": "bKFjiy8qVc1y"
      },
      "execution_count": 38,
      "outputs": []
    },
    {
      "cell_type": "code",
      "source": [
        "# Calculate the sine of x list\n",
        "\n",
        "y = np.sin(x)"
      ],
      "metadata": {
        "id": "3vmHS4XzVino"
      },
      "execution_count": 39,
      "outputs": []
    },
    {
      "cell_type": "code",
      "source": [
        "# Plot the result\n",
        "\n",
        "plt.plot(x, y)"
      ],
      "metadata": {
        "colab": {
          "base_uri": "https://localhost:8080/",
          "height": 282
        },
        "id": "TOWt4EQDVkIo",
        "outputId": "ad0ba140-9f11-443e-8f68-68c63ebd2c94"
      },
      "execution_count": 40,
      "outputs": [
        {
          "output_type": "execute_result",
          "data": {
            "text/plain": [
              "[<matplotlib.lines.Line2D at 0x7faa4dab3650>]"
            ]
          },
          "metadata": {},
          "execution_count": 40
        },
        {
          "output_type": "display_data",
          "data": {
            "text/plain": [
              "<Figure size 432x288 with 1 Axes>"
            ],
            "image/png": "[encoded data removed]"
          },
          "metadata": {
            "needs_background": "light"
          }
        }
      ]
    },
    {
      "cell_type": "markdown",
      "source": [
        "#LAB2"
      ],
      "metadata": {
        "id": "7npPCFKYVzmF"
      }
    },
    {
      "cell_type": "code",
      "source": [
        "# Import the libraries\n",
        "\n",
        "import numpy as np \n",
        "import matplotlib.pyplot as plt"
      ],
      "metadata": {
        "id": "TT5DXEXDV7yK"
      },
      "execution_count": 41,
      "outputs": []
    },
    {
      "cell_type": "markdown",
      "source": [
        "Consider the list a, which contains** three nested lists each of equal size.**"
      ],
      "metadata": {
        "id": "WPH5kjijWIJ0"
      }
    },
    {
      "cell_type": "code",
      "source": [
        "# Create a list\n",
        "\n",
        "a = [[11, 12, 13], [21, 22, 23], [31, 32, 33]]\n",
        "a"
      ],
      "metadata": {
        "colab": {
          "base_uri": "https://localhost:8080/"
        },
        "id": "rkqTvgCxWHbQ",
        "outputId": "d234af7f-1bdd-4005-fb0a-75f9b50f60aa"
      },
      "execution_count": 42,
      "outputs": [
        {
          "output_type": "execute_result",
          "data": {
            "text/plain": [
              "[[11, 12, 13], [21, 22, 23], [31, 32, 33]]"
            ]
          },
          "metadata": {},
          "execution_count": 42
        }
      ]
    },
    {
      "cell_type": "markdown",
      "source": [
        "We can **cast the list to a Numpy Array** as follows:"
      ],
      "metadata": {
        "id": "kZMovFtOWd9w"
      }
    },
    {
      "cell_type": "code",
      "source": [
        "# Convert list to Numpy Array\n",
        "# Every element is the same type\n",
        "\n",
        "A = np.array(a)\n",
        "A"
      ],
      "metadata": {
        "colab": {
          "base_uri": "https://localhost:8080/"
        },
        "id": "8NU72DUhWhA5",
        "outputId": "5349092b-953d-4076-ec70-932f6eac609c"
      },
      "execution_count": 43,
      "outputs": [
        {
          "output_type": "execute_result",
          "data": {
            "text/plain": [
              "array([[11, 12, 13],\n",
              "       [21, 22, 23],\n",
              "       [31, 32, 33]])"
            ]
          },
          "metadata": {},
          "execution_count": 43
        }
      ]
    },
    {
      "cell_type": "markdown",
      "source": [
        "#Attributes"
      ],
      "metadata": {
        "id": "3dBh_x8wWjjb"
      }
    },
    {
      "cell_type": "code",
      "source": [
        "# Show the numpy array dimensions\n",
        "\n",
        "A.ndim"
      ],
      "metadata": {
        "colab": {
          "base_uri": "https://localhost:8080/"
        },
        "id": "vaSiRnCSWoBk",
        "outputId": "23a2f18a-8307-4e5c-f9ac-a6fa835acf83"
      },
      "execution_count": 44,
      "outputs": [
        {
          "output_type": "execute_result",
          "data": {
            "text/plain": [
              "2"
            ]
          },
          "metadata": {},
          "execution_count": 44
        }
      ]
    },
    {
      "cell_type": "code",
      "source": [
        "# Show the numpy array shape\n",
        "\n",
        "A.shape"
      ],
      "metadata": {
        "colab": {
          "base_uri": "https://localhost:8080/"
        },
        "id": "WHdqrWgmWqjk",
        "outputId": "a581020c-62b8-4190-80cc-8d8f1d1c4bb1"
      },
      "execution_count": 45,
      "outputs": [
        {
          "output_type": "execute_result",
          "data": {
            "text/plain": [
              "(3, 3)"
            ]
          },
          "metadata": {},
          "execution_count": 45
        }
      ]
    },
    {
      "cell_type": "code",
      "source": [
        "# Show the numpy array size\n",
        "\n",
        "A.size"
      ],
      "metadata": {
        "colab": {
          "base_uri": "https://localhost:8080/"
        },
        "id": "IxRJkUYyWsqS",
        "outputId": "813d4d72-8373-431e-d4c2-00d48576f2da"
      },
      "execution_count": 46,
      "outputs": [
        {
          "output_type": "execute_result",
          "data": {
            "text/plain": [
              "9"
            ]
          },
          "metadata": {},
          "execution_count": 46
        }
      ]
    },
    {
      "cell_type": "markdown",
      "source": [
        "#Accessing different elements of a Numpy Array\n",
        "We can use rectangular brackets to access the different elements of the array. "
      ],
      "metadata": {
        "id": "LLiuBB4RW09J"
      }
    },
    {
      "cell_type": "code",
      "source": [
        "# Access the element on the second row and third column\n",
        "\n",
        "A[1, 2]"
      ],
      "metadata": {
        "colab": {
          "base_uri": "https://localhost:8080/"
        },
        "id": "XivR_-f8W3Qa",
        "outputId": "015d83fe-6e72-4146-cc08-3a7c884c7fdc"
      },
      "execution_count": 47,
      "outputs": [
        {
          "output_type": "execute_result",
          "data": {
            "text/plain": [
              "23"
            ]
          },
          "metadata": {},
          "execution_count": 47
        }
      ]
    },
    {
      "cell_type": "code",
      "source": [
        "# Access the element on the second row and third column\n",
        "\n",
        "A[1][2]"
      ],
      "metadata": {
        "colab": {
          "base_uri": "https://localhost:8080/"
        },
        "id": "1p06FWOVXI0J",
        "outputId": "4d4ac403-23a7-465f-8234-eda9a2834e31"
      },
      "execution_count": 48,
      "outputs": [
        {
          "output_type": "execute_result",
          "data": {
            "text/plain": [
              "23"
            ]
          },
          "metadata": {},
          "execution_count": 48
        }
      ]
    },
    {
      "cell_type": "code",
      "source": [
        "# Access the element on the first row and first column\n",
        "\n",
        "A[0][0]"
      ],
      "metadata": {
        "colab": {
          "base_uri": "https://localhost:8080/"
        },
        "id": "UJbimYbqXMUd",
        "outputId": "f2421f60-2876-49c5-89ae-789a3b2d86e8"
      },
      "execution_count": 49,
      "outputs": [
        {
          "output_type": "execute_result",
          "data": {
            "text/plain": [
              "11"
            ]
          },
          "metadata": {},
          "execution_count": 49
        }
      ]
    },
    {
      "cell_type": "code",
      "source": [
        "# Access the element on the first row and first and second columns\n",
        "\n",
        "A[0][0:2]"
      ],
      "metadata": {
        "colab": {
          "base_uri": "https://localhost:8080/"
        },
        "id": "8nWkchRIXOnY",
        "outputId": "682a614a-c981-4dd4-c950-3937c0f86acd"
      },
      "execution_count": 50,
      "outputs": [
        {
          "output_type": "execute_result",
          "data": {
            "text/plain": [
              "array([11, 12])"
            ]
          },
          "metadata": {},
          "execution_count": 50
        }
      ]
    },
    {
      "cell_type": "code",
      "source": [
        "# Access the element on the first and second rows and third column\n",
        "\n",
        "A[0:2, 2]"
      ],
      "metadata": {
        "colab": {
          "base_uri": "https://localhost:8080/"
        },
        "id": "PQ7uhuaCXQqV",
        "outputId": "db1b2a26-6a23-4e5f-ca7a-68afebae3887"
      },
      "execution_count": 51,
      "outputs": [
        {
          "output_type": "execute_result",
          "data": {
            "text/plain": [
              "array([13, 23])"
            ]
          },
          "metadata": {},
          "execution_count": 51
        }
      ]
    },
    {
      "cell_type": "markdown",
      "source": [
        "#Basic Operations\n",
        "#Additons\n",
        "The process is identical to matrix addition. "
      ],
      "metadata": {
        "id": "C0bWLsP1XULN"
      }
    },
    {
      "cell_type": "code",
      "source": [
        "# Create a numpy array X\n",
        "\n",
        "X = np.array([[1, 0], [0, 1]]) \n",
        "X"
      ],
      "metadata": {
        "colab": {
          "base_uri": "https://localhost:8080/"
        },
        "id": "J5xwm6-kXdaM",
        "outputId": "8c164b37-2614-457c-c62b-d1b0b5e47f67"
      },
      "execution_count": 52,
      "outputs": [
        {
          "output_type": "execute_result",
          "data": {
            "text/plain": [
              "array([[1, 0],\n",
              "       [0, 1]])"
            ]
          },
          "metadata": {},
          "execution_count": 52
        }
      ]
    },
    {
      "cell_type": "code",
      "source": [
        "# Create a numpy array Y\n",
        "\n",
        "Y = np.array([[2, 1], [1, 2]]) \n",
        "Y"
      ],
      "metadata": {
        "colab": {
          "base_uri": "https://localhost:8080/"
        },
        "id": "8qeHk6fhXe7k",
        "outputId": "870d078d-39d3-4067-8a7c-e389fc057eff"
      },
      "execution_count": 53,
      "outputs": [
        {
          "output_type": "execute_result",
          "data": {
            "text/plain": [
              "array([[2, 1],\n",
              "       [1, 2]])"
            ]
          },
          "metadata": {},
          "execution_count": 53
        }
      ]
    },
    {
      "cell_type": "code",
      "source": [
        "# Add X and Y\n",
        "\n",
        "Z = X + Y\n",
        "Z"
      ],
      "metadata": {
        "colab": {
          "base_uri": "https://localhost:8080/"
        },
        "id": "EpSkR-KmXgsl",
        "outputId": "77d6ac8a-4650-4358-d39c-88677b662f8c"
      },
      "execution_count": 54,
      "outputs": [
        {
          "output_type": "execute_result",
          "data": {
            "text/plain": [
              "array([[3, 1],\n",
              "       [1, 3]])"
            ]
          },
          "metadata": {},
          "execution_count": 54
        }
      ]
    },
    {
      "cell_type": "markdown",
      "source": [
        "#Multiplying a numpy array by a scaler\n",
        " is identical to multiplying a matrix by a scaler. "
      ],
      "metadata": {
        "id": "S_LycYhpXoBE"
      }
    },
    {
      "cell_type": "code",
      "source": [
        "# Create a numpy array Y\n",
        "\n",
        "Y = np.array([[2, 1], [1, 2]]) \n",
        "Y"
      ],
      "metadata": {
        "colab": {
          "base_uri": "https://localhost:8080/"
        },
        "id": "XQ0hqL-LXqtT",
        "outputId": "cf59fafa-fe16-4bf6-c41d-c6c67853f86e"
      },
      "execution_count": 55,
      "outputs": [
        {
          "output_type": "execute_result",
          "data": {
            "text/plain": [
              "array([[2, 1],\n",
              "       [1, 2]])"
            ]
          },
          "metadata": {},
          "execution_count": 55
        }
      ]
    },
    {
      "cell_type": "code",
      "source": [
        "# Multiply Y with 2\n",
        "\n",
        "Z = 2 * Y\n",
        "Z"
      ],
      "metadata": {
        "colab": {
          "base_uri": "https://localhost:8080/"
        },
        "id": "p60bECg-XtCR",
        "outputId": "1b21acd1-2c71-4356-8d97-239d946bb8d6"
      },
      "execution_count": 56,
      "outputs": [
        {
          "output_type": "execute_result",
          "data": {
            "text/plain": [
              "array([[4, 2],\n",
              "       [2, 4]])"
            ]
          },
          "metadata": {},
          "execution_count": 56
        }
      ]
    },
    {
      "cell_type": "markdown",
      "source": [
        "#Hadamard product\n",
        " corresponds to multiplying each of the elements in the same position"
      ],
      "metadata": {
        "id": "OUiPozOGX1N2"
      }
    },
    {
      "cell_type": "code",
      "source": [
        "# Create a numpy array Y\n",
        "\n",
        "Y = np.array([[2, 1], [1, 2]]) \n",
        "Y"
      ],
      "metadata": {
        "id": "xE2qWfu1X0ZS"
      },
      "execution_count": null,
      "outputs": []
    },
    {
      "cell_type": "code",
      "source": [
        "# Create a numpy array X\n",
        "\n",
        "X = np.array([[1, 0], [0, 1]]) \n",
        "X"
      ],
      "metadata": {
        "id": "hdGfJLUEX5jI"
      },
      "execution_count": null,
      "outputs": []
    },
    {
      "cell_type": "code",
      "source": [
        "# Multiply X with Y\n",
        "\n",
        "Z = X * Y\n",
        "Z"
      ],
      "metadata": {
        "id": "jNxyR67oX7Sh"
      },
      "execution_count": null,
      "outputs": []
    },
    {
      "cell_type": "markdown",
      "source": [
        "#Matrix multiplication with the numpy arrays"
      ],
      "metadata": {
        "id": "6IDWObq5YCCj"
      }
    },
    {
      "cell_type": "code",
      "source": [
        "# Create a matrix A\n",
        "\n",
        "A = np.array([[0, 1, 1], [1, 0, 1]])\n",
        "A"
      ],
      "metadata": {
        "id": "ahR6VOwLYHJ7"
      },
      "execution_count": null,
      "outputs": []
    },
    {
      "cell_type": "code",
      "source": [
        "# Create a matrix B\n",
        "\n",
        "B = np.array([[1, 1], [1, 1], [-1, 1]])\n",
        "B"
      ],
      "metadata": {
        "id": "5Vs0QTEmYJK_"
      },
      "execution_count": null,
      "outputs": []
    },
    {
      "cell_type": "code",
      "source": [
        "# Calculate the dot product\n",
        "\n",
        "Z = np.dot(A,B)\n",
        "Z"
      ],
      "metadata": {
        "id": "4PuoQKrfYKni"
      },
      "execution_count": null,
      "outputs": []
    },
    {
      "cell_type": "code",
      "source": [
        "# Calculate the sine of Z\n",
        "\n",
        "np.sin(Z)"
      ],
      "metadata": {
        "id": "Qk7JRCB-YNHT"
      },
      "execution_count": null,
      "outputs": []
    },
    {
      "cell_type": "code",
      "source": [
        "# Create a matrix C\n",
        "\n",
        "C = np.array([[1,1],[2,2],[3,3]])\n",
        "C"
      ],
      "metadata": {
        "id": "J3TtEXb1YR4h"
      },
      "execution_count": null,
      "outputs": []
    },
    {
      "cell_type": "code",
      "source": [
        "# Get the transposed of C\n",
        "\n",
        "C.T"
      ],
      "metadata": {
        "id": "Ub34x56IYT2f"
      },
      "execution_count": null,
      "outputs": []
    },
    {
      "cell_type": "markdown",
      "source": [
        "#LAB3"
      ],
      "metadata": {
        "id": "ij0Es2ZpZOiz"
      }
    },
    {
      "cell_type": "markdown",
      "source": [
        "#API"
      ],
      "metadata": {
        "id": "KNjmkJvqZUmb"
      }
    },
    {
      "cell_type": "markdown",
      "source": [
        "An API lets **two pieces of software talk to each other.** Just like a function, you d**on’t have to know how the API works, only its inputs and outputs**. An essential type of API is a REST API that allows you to access resources via the internet."
      ],
      "metadata": {
        "id": "pShNNmHKZVyj"
      }
    },
    {
      "cell_type": "code",
      "source": [
        "# Uncomment if running locally, else let the following code run\n",
        "# !pip install nba_api\n",
        "\n",
        "import piplite\n",
        "await piplite.install(['nba_api'])"
      ],
      "metadata": {
        "id": "WbTDZfh-Zr9s"
      },
      "execution_count": null,
      "outputs": []
    },
    {
      "cell_type": "markdown",
      "source": [
        "#Pandas = API"
      ],
      "metadata": {
        "id": "WzN80rlUZxNv"
      }
    },
    {
      "cell_type": "code",
      "source": [
        "def one_dict(list_dict):\n",
        "    keys=list_dict[0].keys()\n",
        "    out_dict={key:[] for key in keys}\n",
        "    for dict_ in list_dict:\n",
        "        for key, value in dict_.items():\n",
        "            out_dict[key].append(value)\n",
        "    return out_dict    "
      ],
      "metadata": {
        "id": "4FNLz5QVZtvX"
      },
      "execution_count": 58,
      "outputs": []
    },
    {
      "cell_type": "code",
      "source": [
        "import pandas as pd\n",
        "import matplotlib.pyplot as plt"
      ],
      "metadata": {
        "id": "DfgDUu8TZ3aS"
      },
      "execution_count": 59,
      "outputs": []
    },
    {
      "cell_type": "code",
      "source": [
        "dict_={'a':[11,21,31],'b':[12,22,32]}"
      ],
      "metadata": {
        "id": "rtTQEDGRZ7qf"
      },
      "execution_count": 61,
      "outputs": []
    },
    {
      "cell_type": "markdown",
      "source": [
        "When you **create a Pandas object **with the Dataframe constructor, in API lingo **this is an \"instance\"**. The data in the dictionary is passed along to the pandas API. **You then use the dataframe to communicate with the API.**"
      ],
      "metadata": {
        "id": "e_ULGGOiaCHq"
      }
    },
    {
      "cell_type": "code",
      "source": [
        "df=pd.DataFrame(dict_)\n",
        "type(df)"
      ],
      "metadata": {
        "colab": {
          "base_uri": "https://localhost:8080/"
        },
        "id": "tYAaVVzhaLDX",
        "outputId": "d43d3253-3f1b-4ac1-f4b0-d634d4a9a61d"
      },
      "execution_count": 62,
      "outputs": [
        {
          "output_type": "execute_result",
          "data": {
            "text/plain": [
              "pandas.core.frame.DataFrame"
            ]
          },
          "metadata": {},
          "execution_count": 62
        }
      ]
    },
    {
      "cell_type": "markdown",
      "source": [
        "When you **call the method head** the dataframe **communicates with the API **displaying the first few rows of the dataframe."
      ],
      "metadata": {
        "id": "27l8QVW6aW5r"
      }
    },
    {
      "cell_type": "code",
      "source": [
        "df.head()"
      ],
      "metadata": {
        "colab": {
          "base_uri": "https://localhost:8080/",
          "height": 143
        },
        "id": "Bja2-YzEaWbT",
        "outputId": "68444d8c-508f-4a3b-8852-2ccd7ba56cf7"
      },
      "execution_count": 63,
      "outputs": [
        {
          "output_type": "execute_result",
          "data": {
            "text/plain": [
              "    a   b\n",
              "0  11  12\n",
              "1  21  22\n",
              "2  31  32"
            ],
            "text/html": [
              "\n",
              "  <div id=\"df-3b29ec38-4f7f-4c27-a8a5-040b25ee3a5b\">\n",
              "    <div class=\"colab-df-container\">\n",
              "      <div>\n",
              "<style scoped>\n",
              "    .dataframe tbody tr th:only-of-type {\n",
              "        vertical-align: middle;\n",
              "    }\n",
              "\n",
              "    .dataframe tbody tr th {\n",
              "        vertical-align: top;\n",
              "    }\n",
              "\n",
              "    .dataframe thead th {\n",
              "        text-align: right;\n",
              "    }\n",
              "</style>\n",
              "<table border=\"1\" class=\"dataframe\">\n",
              "  <thead>\n",
              "    <tr style=\"text-align: right;\">\n",
              "      <th></th>\n",
              "      <th>a</th>\n",
              "      <th>b</th>\n",
              "    </tr>\n",
              "  </thead>\n",
              "  <tbody>\n",
              "    <tr>\n",
              "      <th>0</th>\n",
              "      <td>11</td>\n",
              "      <td>12</td>\n",
              "    </tr>\n",
              "    <tr>\n",
              "      <th>1</th>\n",
              "      <td>21</td>\n",
              "      <td>22</td>\n",
              "    </tr>\n",
              "    <tr>\n",
              "      <th>2</th>\n",
              "      <td>31</td>\n",
              "      <td>32</td>\n",
              "    </tr>\n",
              "  </tbody>\n",
              "</table>\n",
              "</div>\n",
              "      <button class=\"colab-df-convert\" onclick=\"convertToInteractive('df-3b29ec38-4f7f-4c27-a8a5-040b25ee3a5b')\"\n",
              "              title=\"Convert this dataframe to an interactive table.\"\n",
              "              style=\"display:none;\">\n",
              "        \n",
              "  <svg xmlns=\"http://www.w3.org/2000/svg\" height=\"24px\"viewBox=\"0 0 24 24\"\n",
              "       width=\"24px\">\n",
              "    <path d=\"M0 0h24v24H0V0z\" fill=\"none\"/>\n",
              "    <path d=\"M18.56 5.44l.94 2.06.94-2.06 2.06-.94-2.06-.94-.94-2.06-.94 2.06-2.06.94zm-11 1L8.5 8.5l.94-2.06 2.06-.94-2.06-.94L8.5 2.5l-.94 2.06-2.06.94zm10 10l.94 2.06.94-2.06 2.06-.94-2.06-.94-.94-2.06-.94 2.06-2.06.94z\"/><path d=\"M17.41 7.96l-1.37-1.37c-.4-.4-.92-.59-1.43-.59-.52 0-1.04.2-1.43.59L10.3 9.45l-7.72 7.72c-.78.78-.78 2.05 0 2.83L4 21.41c.39.39.9.59 1.41.59.51 0 1.02-.2 1.41-.59l7.78-7.78 2.81-2.81c.8-.78.8-2.07 0-2.86zM5.41 20L4 18.59l7.72-7.72 1.47 1.35L5.41 20z\"/>\n",
              "  </svg>\n",
              "      </button>\n",
              "      \n",
              "  <style>\n",
              "    .colab-df-container {\n",
              "      display:flex;\n",
              "      flex-wrap:wrap;\n",
              "      gap: 12px;\n",
              "    }\n",
              "\n",
              "    .colab-df-convert {\n",
              "      background-color: #E8F0FE;\n",
              "      border: none;\n",
              "      border-radius: 50%;\n",
              "      cursor: pointer;\n",
              "      display: none;\n",
              "      fill: #1967D2;\n",
              "      height: 32px;\n",
              "      padding: 0 0 0 0;\n",
              "      width: 32px;\n",
              "    }\n",
              "\n",
              "    .colab-df-convert:hover {\n",
              "      background-color: #E2EBFA;\n",
              "      box-shadow: 0px 1px 2px rgba(60, 64, 67, 0.3), 0px 1px 3px 1px rgba(60, 64, 67, 0.15);\n",
              "      fill: #174EA6;\n",
              "    }\n",
              "\n",
              "    [theme=dark] .colab-df-convert {\n",
              "      background-color: #3B4455;\n",
              "      fill: #D2E3FC;\n",
              "    }\n",
              "\n",
              "    [theme=dark] .colab-df-convert:hover {\n",
              "      background-color: #434B5C;\n",
              "      box-shadow: 0px 1px 3px 1px rgba(0, 0, 0, 0.15);\n",
              "      filter: drop-shadow(0px 1px 2px rgba(0, 0, 0, 0.3));\n",
              "      fill: #FFFFFF;\n",
              "    }\n",
              "  </style>\n",
              "\n",
              "      <script>\n",
              "        const buttonEl =\n",
              "          document.querySelector('#df-3b29ec38-4f7f-4c27-a8a5-040b25ee3a5b button.colab-df-convert');\n",
              "        buttonEl.style.display =\n",
              "          google.colab.kernel.accessAllowed ? 'block' : 'none';\n",
              "\n",
              "        async function convertToInteractive(key) {\n",
              "          const element = document.querySelector('#df-3b29ec38-4f7f-4c27-a8a5-040b25ee3a5b');\n",
              "          const dataTable =\n",
              "            await google.colab.kernel.invokeFunction('convertToInteractive',\n",
              "                                                     [key], {});\n",
              "          if (!dataTable) return;\n",
              "\n",
              "          const docLinkHtml = 'Like what you see? Visit the ' +\n",
              "            '<a target=\"_blank\" href=https://colab.research.google.com/notebooks/data_table.ipynb>data table notebook</a>'\n",
              "            + ' to learn more about interactive tables.';\n",
              "          element.innerHTML = '';\n",
              "          dataTable['output_type'] = 'display_data';\n",
              "          await google.colab.output.renderOutput(dataTable, element);\n",
              "          const docLink = document.createElement('div');\n",
              "          docLink.innerHTML = docLinkHtml;\n",
              "          element.appendChild(docLink);\n",
              "        }\n",
              "      </script>\n",
              "    </div>\n",
              "  </div>\n",
              "  "
            ]
          },
          "metadata": {},
          "execution_count": 63
        }
      ]
    },
    {
      "cell_type": "markdown",
      "source": [
        "#REST APIs\n",
        "**Rest API’s function by sending a request, the request is communicated via HTTP message.** The HTTP message usually contains a JSON file. This contains instructions for what operation we would like the service or resource to perform. In a similar manner, **API returns a response, via an HTTP message, this response is usually contained within a JSON.**"
      ],
      "metadata": {
        "id": "fO1id4wIatb2"
      }
    },
    {
      "cell_type": "markdown",
      "source": [
        "#LAB5"
      ],
      "metadata": {
        "id": "6MOI6hqscDSq"
      }
    },
    {
      "cell_type": "markdown",
      "source": [
        "#Requests in Python\n",
        "Requests is a Python Library that allows you to send HTTP/1.1 requests easily."
      ],
      "metadata": {
        "id": "iXlGCw4kcT2-"
      }
    },
    {
      "cell_type": "code",
      "source": [
        "import requests"
      ],
      "metadata": {
        "id": "95RTzONRcW9m"
      },
      "execution_count": 70,
      "outputs": []
    },
    {
      "cell_type": "code",
      "source": [
        "import os \n",
        "from PIL import Image\n",
        "from IPython.display import IFrame"
      ],
      "metadata": {
        "id": "wx-xxgF8cYJm"
      },
      "execution_count": 71,
      "outputs": []
    },
    {
      "cell_type": "code",
      "source": [
        "url='https://www.ibm.com/'\n",
        "r=requests.get(url)\n"
      ],
      "metadata": {
        "id": "1bDhZ2hhccCy"
      },
      "execution_count": 73,
      "outputs": []
    },
    {
      "cell_type": "code",
      "source": [
        "r.status_code"
      ],
      "metadata": {
        "colab": {
          "base_uri": "https://localhost:8080/"
        },
        "id": "_aFqhLKxchXn",
        "outputId": "5a5a5a1d-5bce-49f4-c66e-add5ed6bd08a"
      },
      "execution_count": 74,
      "outputs": [
        {
          "output_type": "execute_result",
          "data": {
            "text/plain": [
              "200"
            ]
          },
          "metadata": {},
          "execution_count": 74
        }
      ]
    },
    {
      "cell_type": "code",
      "source": [
        "print(r.request.headers)"
      ],
      "metadata": {
        "colab": {
          "base_uri": "https://localhost:8080/"
        },
        "id": "yeO4RX8lcipP",
        "outputId": "bfe24582-1f54-45ab-b5bf-dc764ec1379f"
      },
      "execution_count": 75,
      "outputs": [
        {
          "output_type": "stream",
          "name": "stdout",
          "text": [
            "{'User-Agent': 'python-requests/2.23.0', 'Accept-Encoding': 'gzip, deflate', 'Accept': '*/*', 'Connection': 'keep-alive', 'Cookie': '_abck=EACABA9DF6EA178B3FFE12C28FE54857~-1~YAAQo50ZuF5mI1yDAQAAlelxoQiYNg5gtlAf5eAbXNM2AILMulb/go2j30d/nakPXi6FaTU4/ckcowWR5Z6krJpPXde/iWRnc+ljFE6LVp/w1VyZT37PUSaT1bF/w6nCggIAhKQqJn7v4eCyRvOAZ4WfKNN2yC+xG33oMAcQ84GHrIG3rC6TpFRXtnshFFMa16YsrR9i/W+Y5csam/j8x+kwnRtM/SzHNFjZKJvLPl4S+GFtL1XMIUatAEQIDrEGEOKq8kmjIISAARBl3RfXBnGb2tM4fGw1SHmK+1GbHgAf9wX6Xmi7gExDNSs+SPqRSv/5KPShLkMRdZZyUXmrK0X+XbitEtzaqT+tnGPz1fOJqkqFtds=~-1~-1~-1; bm_sz=BE0746E8FB049A10A1AE6A0E0D3FF8A3~YAAQo50ZuF9mI1yDAQAAlelxoREM2LskWWLbVobYwAooxz/v5nADotm9DmLb63Wfx8g+OAoRgDNW1ZYOErIEW9fPkZNKSLu0hz+gZ5gMHujeSiMwf52MgUIBjh6m7liwwD8/knkH3SsnUQkidOAQjoBKCU7RF3Se0tG2BHQAHv0ngMQRoE2Ij1e4xxT7jX3lR887c6bLa9PXo6/6ZuXILU+yYNcrp5cE9h8k1952vgTycp45MOq2TLjPy3wa+MfecM2Q5qExYfNw4OArVtM+p4sBufXjWB6vCahpFj9MTwQ=~3224134~3158576'}\n"
          ]
        }
      ]
    },
    {
      "cell_type": "code",
      "source": [
        "print(\"request body:\", r.request.body)"
      ],
      "metadata": {
        "colab": {
          "base_uri": "https://localhost:8080/"
        },
        "id": "Lq9wblZucpEC",
        "outputId": "11da1144-61f1-4d95-9bfc-de7007269727"
      },
      "execution_count": 77,
      "outputs": [
        {
          "output_type": "stream",
          "name": "stdout",
          "text": [
            "request body: None\n"
          ]
        }
      ]
    },
    {
      "cell_type": "code",
      "source": [
        "header=r.headers\n",
        "print(r.headers)"
      ],
      "metadata": {
        "colab": {
          "base_uri": "https://localhost:8080/"
        },
        "id": "HpTOMimdcxCm",
        "outputId": "f37c91a0-c633-4bbf-9483-31a757f5583f"
      },
      "execution_count": 78,
      "outputs": [
        {
          "output_type": "stream",
          "name": "stdout",
          "text": [
            "{'Server': 'Apache', 'Last-Modified': 'Mon, 03 Oct 2022 12:34:16 GMT', 'ETag': '\"17fce-5ea208fcd503e-gzip\"', 'Accept-Ranges': 'bytes', 'Content-Encoding': 'gzip', 'Content-Type': 'text/html', 'Cache-Control': 'max-age=3600', 'Expires': 'Tue, 04 Oct 2022 06:22:20 GMT', 'X-Akamai-Transformed': '9 21227 0 pmb=mTOE,2', 'Date': 'Tue, 04 Oct 2022 05:22:20 GMT', 'Content-Length': '21404', 'Connection': 'keep-alive', 'Vary': 'Accept-Encoding', 'x-content-type-options': 'nosniff', 'X-XSS-Protection': '1; mode=block', 'Content-Security-Policy': 'upgrade-insecure-requests', 'Strict-Transport-Security': 'max-age=31536000'}\n"
          ]
        }
      ]
    },
    {
      "cell_type": "code",
      "source": [
        "header['date']"
      ],
      "metadata": {
        "colab": {
          "base_uri": "https://localhost:8080/",
          "height": 36
        },
        "id": "na2jD6mCczc8",
        "outputId": "01d8f364-a03f-4467-bb0b-2a72060e78b0"
      },
      "execution_count": 79,
      "outputs": [
        {
          "output_type": "execute_result",
          "data": {
            "text/plain": [
              "'Tue, 04 Oct 2022 05:22:20 GMT'"
            ],
            "application/vnd.google.colaboratory.intrinsic+json": {
              "type": "string"
            }
          },
          "metadata": {},
          "execution_count": 79
        }
      ]
    },
    {
      "cell_type": "code",
      "source": [
        "header['Content-Type']"
      ],
      "metadata": {
        "colab": {
          "base_uri": "https://localhost:8080/",
          "height": 36
        },
        "id": "s4KHARpOc28X",
        "outputId": "b7058ed1-dce6-440a-cb33-aec11721b2bc"
      },
      "execution_count": 80,
      "outputs": [
        {
          "output_type": "execute_result",
          "data": {
            "text/plain": [
              "'text/html'"
            ],
            "application/vnd.google.colaboratory.intrinsic+json": {
              "type": "string"
            }
          },
          "metadata": {},
          "execution_count": 80
        }
      ]
    },
    {
      "cell_type": "code",
      "source": [
        " r.encoding"
      ],
      "metadata": {
        "colab": {
          "base_uri": "https://localhost:8080/",
          "height": 36
        },
        "id": "DpYRuGnbc4G-",
        "outputId": "c6d3a748-9399-470f-b976-4366bdb36de8"
      },
      "execution_count": 81,
      "outputs": [
        {
          "output_type": "execute_result",
          "data": {
            "text/plain": [
              "'ISO-8859-1'"
            ],
            "application/vnd.google.colaboratory.intrinsic+json": {
              "type": "string"
            }
          },
          "metadata": {},
          "execution_count": 81
        }
      ]
    },
    {
      "cell_type": "code",
      "source": [
        "r.text[0:100]"
      ],
      "metadata": {
        "colab": {
          "base_uri": "https://localhost:8080/",
          "height": 53
        },
        "id": "gudQ1i1oc8RH",
        "outputId": "f2cf54ee-bfb6-40c7-8517-608c8989a09c"
      },
      "execution_count": 82,
      "outputs": [
        {
          "output_type": "execute_result",
          "data": {
            "text/plain": [
              "'<!DOCTYPE html><html lang=\"en-US\"><head><meta name=\"viewport\" content=\"width=device-width\"/><meta ch'"
            ],
            "application/vnd.google.colaboratory.intrinsic+json": {
              "type": "string"
            }
          },
          "metadata": {},
          "execution_count": 82
        }
      ]
    },
    {
      "cell_type": "code",
      "source": [
        "# Use single quotation marks for defining string\n",
        "url='https://cf-courses-data.s3.us.cloud-object-storage.appdomain.cloud/IBMDeveloperSkillsNetwork-PY0101EN-SkillsNetwork/IDSNlogo.png'"
      ],
      "metadata": {
        "id": "eieSfNX8dBye"
      },
      "execution_count": 83,
      "outputs": []
    },
    {
      "cell_type": "code",
      "source": [
        "r=requests.get(url)"
      ],
      "metadata": {
        "id": "L5QRAmFYdG1e"
      },
      "execution_count": 84,
      "outputs": []
    },
    {
      "cell_type": "code",
      "source": [
        "print(r.headers)"
      ],
      "metadata": {
        "colab": {
          "base_uri": "https://localhost:8080/"
        },
        "id": "ah4dVmGLdIkC",
        "outputId": "54e31121-80a0-4376-dd17-d71c39caecce"
      },
      "execution_count": 85,
      "outputs": [
        {
          "output_type": "stream",
          "name": "stdout",
          "text": [
            "{'Date': 'Tue, 04 Oct 2022 05:25:07 GMT', 'X-Clv-Request-Id': '9ee2580a-8ac4-4c1c-bd08-b8e2fd474471', 'Server': 'Cleversafe', 'X-Clv-S3-Version': '2.5', 'Accept-Ranges': 'bytes', 'x-amz-request-id': '9ee2580a-8ac4-4c1c-bd08-b8e2fd474471', 'Cache-Control': 'max-age=0,public', 'ETag': '\"a831e767d02efd21b904ec485ac0c769\"', 'Content-Type': 'image/png', 'Last-Modified': 'Wed, 14 Sep 2022 05:47:46 GMT', 'Content-Length': '21590'}\n"
          ]
        }
      ]
    },
    {
      "cell_type": "code",
      "source": [
        "print(r.headers)"
      ],
      "metadata": {
        "colab": {
          "base_uri": "https://localhost:8080/"
        },
        "id": "qQHRYA5EdMS2",
        "outputId": "08a0b01c-dc99-4d5e-9beb-2818d8cfe39c"
      },
      "execution_count": 86,
      "outputs": [
        {
          "output_type": "stream",
          "name": "stdout",
          "text": [
            "{'Date': 'Tue, 04 Oct 2022 05:25:07 GMT', 'X-Clv-Request-Id': '9ee2580a-8ac4-4c1c-bd08-b8e2fd474471', 'Server': 'Cleversafe', 'X-Clv-S3-Version': '2.5', 'Accept-Ranges': 'bytes', 'x-amz-request-id': '9ee2580a-8ac4-4c1c-bd08-b8e2fd474471', 'Cache-Control': 'max-age=0,public', 'ETag': '\"a831e767d02efd21b904ec485ac0c769\"', 'Content-Type': 'image/png', 'Last-Modified': 'Wed, 14 Sep 2022 05:47:46 GMT', 'Content-Length': '21590'}\n"
          ]
        }
      ]
    },
    {
      "cell_type": "code",
      "source": [
        "path=os.path.join(os.getcwd(),'image.png')\n",
        "path"
      ],
      "metadata": {
        "colab": {
          "base_uri": "https://localhost:8080/",
          "height": 36
        },
        "id": "-SJZvjSMdOpN",
        "outputId": "c5c3e76f-8f4c-4b84-9a32-21849af9db3b"
      },
      "execution_count": 87,
      "outputs": [
        {
          "output_type": "execute_result",
          "data": {
            "text/plain": [
              "'/content/image.png'"
            ],
            "application/vnd.google.colaboratory.intrinsic+json": {
              "type": "string"
            }
          },
          "metadata": {},
          "execution_count": 87
        }
      ]
    },
    {
      "cell_type": "code",
      "source": [
        "with open(path,'wb') as f:\n",
        "    f.write(r.content)"
      ],
      "metadata": {
        "id": "c1cGno1tdRZj"
      },
      "execution_count": 88,
      "outputs": []
    },
    {
      "cell_type": "code",
      "source": [
        "Image.open(path)"
      ],
      "metadata": {
        "colab": {
          "base_uri": "https://localhost:8080/",
          "height": 662
        },
        "id": "aBvGey-tdTVc",
        "outputId": "d922f4df-67fb-43d1-d7f4-6609c10ddb1c"
      },
      "execution_count": 89,
      "outputs": [
        {
          "output_type": "execute_result",
          "data": {
            "text/plain": [
              "<PIL.PngImagePlugin.PngImageFile image mode=P size=800x800 at 0x7FAA47EFDD10>"
            ],
            "image/png": "[encoded data removed]"
          },
          "metadata": {},
          "execution_count": 89
        }
      ]
    }
  ]
}