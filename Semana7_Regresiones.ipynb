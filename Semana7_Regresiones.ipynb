{
  "nbformat": 4,
  "nbformat_minor": 0,
  "metadata": {
    "kernelspec": {
      "display_name": "Python 3",
      "language": "python",
      "name": "python3"
    },
    "language_info": {
      "codemirror_mode": {
        "name": "ipython",
        "version": 3
      },
      "file_extension": ".py",
      "mimetype": "text/x-python",
      "name": "python",
      "nbconvert_exporter": "python",
      "pygments_lexer": "ipython3",
      "version": "3.7.7"
    },
    "colab": {
      "provenance": [],
      "collapsed_sections": [],
      "toc_visible": true,
      "include_colab_link": true
    },
    "accelerator": "GPU",
    "widgets": {
      "application/vnd.jupyter.widget-state+json": {
        "73ff971065144e438cae45a15a5a987f": {
          "model_module": "@jupyter-widgets/controls",
          "model_name": "VBoxModel",
          "model_module_version": "1.5.0",
          "state": {
            "_dom_classes": [
              "widget-interact"
            ],
            "_model_module": "@jupyter-widgets/controls",
            "_model_module_version": "1.5.0",
            "_model_name": "VBoxModel",
            "_view_count": null,
            "_view_module": "@jupyter-widgets/controls",
            "_view_module_version": "1.5.0",
            "_view_name": "VBoxView",
            "box_style": "",
            "children": [
              "IPY_MODEL_80b34ca2cc2f446990ddc96d4accf26f",
              "IPY_MODEL_59260797ed354f66bb1aaf3b4a723979",
              "IPY_MODEL_fa0c21ba6c7e4501ac54a9b863b07f3c"
            ],
            "layout": "IPY_MODEL_ce2c2ea8d0c348fda666ae5627aeae6a"
          }
        },
        "80b34ca2cc2f446990ddc96d4accf26f": {
          "model_module": "@jupyter-widgets/controls",
          "model_name": "IntSliderModel",
          "model_module_version": "1.5.0",
          "state": {
            "_dom_classes": [],
            "_model_module": "@jupyter-widgets/controls",
            "_model_module_version": "1.5.0",
            "_model_name": "IntSliderModel",
            "_view_count": null,
            "_view_module": "@jupyter-widgets/controls",
            "_view_module_version": "1.5.0",
            "_view_name": "IntSliderView",
            "continuous_update": true,
            "description": "order",
            "description_tooltip": null,
            "disabled": false,
            "layout": "IPY_MODEL_2856263b7c6e477cb45d23c2594bb97f",
            "max": 6,
            "min": 0,
            "orientation": "horizontal",
            "readout": true,
            "readout_format": "d",
            "step": 1,
            "style": "IPY_MODEL_ba61d465a29d430098fa1ea4ee1bfc95",
            "value": 3
          }
        },
        "59260797ed354f66bb1aaf3b4a723979": {
          "model_module": "@jupyter-widgets/controls",
          "model_name": "FloatSliderModel",
          "model_module_version": "1.5.0",
          "state": {
            "_dom_classes": [],
            "_model_module": "@jupyter-widgets/controls",
            "_model_module_version": "1.5.0",
            "_model_name": "FloatSliderModel",
            "_view_count": null,
            "_view_module": "@jupyter-widgets/controls",
            "_view_module_version": "1.5.0",
            "_view_name": "FloatSliderView",
            "continuous_update": true,
            "description": "test_data",
            "description_tooltip": null,
            "disabled": false,
            "layout": "IPY_MODEL_ae09d6daed354afbb91ca0c4b10fc272",
            "max": 0.95,
            "min": 0.05,
            "orientation": "horizontal",
            "readout": true,
            "readout_format": ".2f",
            "step": 0.05,
            "style": "IPY_MODEL_fb9bb809fc1247809df23d31274974ad",
            "value": 0.45
          }
        },
        "fa0c21ba6c7e4501ac54a9b863b07f3c": {
          "model_module": "@jupyter-widgets/output",
          "model_name": "OutputModel",
          "model_module_version": "1.0.0",
          "state": {
            "_dom_classes": [],
            "_model_module": "@jupyter-widgets/output",
            "_model_module_version": "1.0.0",
            "_model_name": "OutputModel",
            "_view_count": null,
            "_view_module": "@jupyter-widgets/output",
            "_view_module_version": "1.0.0",
            "_view_name": "OutputView",
            "layout": "IPY_MODEL_bb66e5cfe4944aca97dbb4d9f743126f",
            "msg_id": "",
            "outputs": [
              {
                "output_type": "display_data",
                "data": {
                  "text/plain": "<Figure size 432x360 with 1 Axes>",
                  "image/png": "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\n"
                },
                "metadata": {
                  "needs_background": "light"
                }
              }
            ]
          }
        },
        "ce2c2ea8d0c348fda666ae5627aeae6a": {
          "model_module": "@jupyter-widgets/base",
          "model_name": "LayoutModel",
          "model_module_version": "1.2.0",
          "state": {
            "_model_module": "@jupyter-widgets/base",
            "_model_module_version": "1.2.0",
            "_model_name": "LayoutModel",
            "_view_count": null,
            "_view_module": "@jupyter-widgets/base",
            "_view_module_version": "1.2.0",
            "_view_name": "LayoutView",
            "align_content": null,
            "align_items": null,
            "align_self": null,
            "border": null,
            "bottom": null,
            "display": null,
            "flex": null,
            "flex_flow": null,
            "grid_area": null,
            "grid_auto_columns": null,
            "grid_auto_flow": null,
            "grid_auto_rows": null,
            "grid_column": null,
            "grid_gap": null,
            "grid_row": null,
            "grid_template_areas": null,
            "grid_template_columns": null,
            "grid_template_rows": null,
            "height": null,
            "justify_content": null,
            "justify_items": null,
            "left": null,
            "margin": null,
            "max_height": null,
            "max_width": null,
            "min_height": null,
            "min_width": null,
            "object_fit": null,
            "object_position": null,
            "order": null,
            "overflow": null,
            "overflow_x": null,
            "overflow_y": null,
            "padding": null,
            "right": null,
            "top": null,
            "visibility": null,
            "width": null
          }
        },
        "2856263b7c6e477cb45d23c2594bb97f": {
          "model_module": "@jupyter-widgets/base",
          "model_name": "LayoutModel",
          "model_module_version": "1.2.0",
          "state": {
            "_model_module": "@jupyter-widgets/base",
            "_model_module_version": "1.2.0",
            "_model_name": "LayoutModel",
            "_view_count": null,
            "_view_module": "@jupyter-widgets/base",
            "_view_module_version": "1.2.0",
            "_view_name": "LayoutView",
            "align_content": null,
            "align_items": null,
            "align_self": null,
            "border": null,
            "bottom": null,
            "display": null,
            "flex": null,
            "flex_flow": null,
            "grid_area": null,
            "grid_auto_columns": null,
            "grid_auto_flow": null,
            "grid_auto_rows": null,
            "grid_column": null,
            "grid_gap": null,
            "grid_row": null,
            "grid_template_areas": null,
            "grid_template_columns": null,
            "grid_template_rows": null,
            "height": null,
            "justify_content": null,
            "justify_items": null,
            "left": null,
            "margin": null,
            "max_height": null,
            "max_width": null,
            "min_height": null,
            "min_width": null,
            "object_fit": null,
            "object_position": null,
            "order": null,
            "overflow": null,
            "overflow_x": null,
            "overflow_y": null,
            "padding": null,
            "right": null,
            "top": null,
            "visibility": null,
            "width": null
          }
        },
        "ba61d465a29d430098fa1ea4ee1bfc95": {
          "model_module": "@jupyter-widgets/controls",
          "model_name": "SliderStyleModel",
          "model_module_version": "1.5.0",
          "state": {
            "_model_module": "@jupyter-widgets/controls",
            "_model_module_version": "1.5.0",
            "_model_name": "SliderStyleModel",
            "_view_count": null,
            "_view_module": "@jupyter-widgets/base",
            "_view_module_version": "1.2.0",
            "_view_name": "StyleView",
            "description_width": "",
            "handle_color": null
          }
        },
        "ae09d6daed354afbb91ca0c4b10fc272": {
          "model_module": "@jupyter-widgets/base",
          "model_name": "LayoutModel",
          "model_module_version": "1.2.0",
          "state": {
            "_model_module": "@jupyter-widgets/base",
            "_model_module_version": "1.2.0",
            "_model_name": "LayoutModel",
            "_view_count": null,
            "_view_module": "@jupyter-widgets/base",
            "_view_module_version": "1.2.0",
            "_view_name": "LayoutView",
            "align_content": null,
            "align_items": null,
            "align_self": null,
            "border": null,
            "bottom": null,
            "display": null,
            "flex": null,
            "flex_flow": null,
            "grid_area": null,
            "grid_auto_columns": null,
            "grid_auto_flow": null,
            "grid_auto_rows": null,
            "grid_column": null,
            "grid_gap": null,
            "grid_row": null,
            "grid_template_areas": null,
            "grid_template_columns": null,
            "grid_template_rows": null,
            "height": null,
            "justify_content": null,
            "justify_items": null,
            "left": null,
            "margin": null,
            "max_height": null,
            "max_width": null,
            "min_height": null,
            "min_width": null,
            "object_fit": null,
            "object_position": null,
            "order": null,
            "overflow": null,
            "overflow_x": null,
            "overflow_y": null,
            "padding": null,
            "right": null,
            "top": null,
            "visibility": null,
            "width": null
          }
        },
        "fb9bb809fc1247809df23d31274974ad": {
          "model_module": "@jupyter-widgets/controls",
          "model_name": "SliderStyleModel",
          "model_module_version": "1.5.0",
          "state": {
            "_model_module": "@jupyter-widgets/controls",
            "_model_module_version": "1.5.0",
            "_model_name": "SliderStyleModel",
            "_view_count": null,
            "_view_module": "@jupyter-widgets/base",
            "_view_module_version": "1.2.0",
            "_view_name": "StyleView",
            "description_width": "",
            "handle_color": null
          }
        },
        "bb66e5cfe4944aca97dbb4d9f743126f": {
          "model_module": "@jupyter-widgets/base",
          "model_name": "LayoutModel",
          "model_module_version": "1.2.0",
          "state": {
            "_model_module": "@jupyter-widgets/base",
            "_model_module_version": "1.2.0",
            "_model_name": "LayoutModel",
            "_view_count": null,
            "_view_module": "@jupyter-widgets/base",
            "_view_module_version": "1.2.0",
            "_view_name": "LayoutView",
            "align_content": null,
            "align_items": null,
            "align_self": null,
            "border": null,
            "bottom": null,
            "display": null,
            "flex": null,
            "flex_flow": null,
            "grid_area": null,
            "grid_auto_columns": null,
            "grid_auto_flow": null,
            "grid_auto_rows": null,
            "grid_column": null,
            "grid_gap": null,
            "grid_row": null,
            "grid_template_areas": null,
            "grid_template_columns": null,
            "grid_template_rows": null,
            "height": null,
            "justify_content": null,
            "justify_items": null,
            "left": null,
            "margin": null,
            "max_height": null,
            "max_width": null,
            "min_height": null,
            "min_width": null,
            "object_fit": null,
            "object_position": null,
            "order": null,
            "overflow": null,
            "overflow_x": null,
            "overflow_y": null,
            "padding": null,
            "right": null,
            "top": null,
            "visibility": null,
            "width": null
          }
        }
      }
    }
  },
  "cells": [
    {
      "cell_type": "markdown",
      "metadata": {
        "id": "view-in-github",
        "colab_type": "text"
      },
      "source": [
        "<a href=\"https://colab.research.google.com/github/PosgradoMNA/actividades-de-aprendizaje-AleRami89/blob/main/Semana7_Regresiones.ipynb\" target=\"_parent\"><img src=\"https://colab.research.google.com/assets/colab-badge.svg\" alt=\"Open In Colab\"/></a>"
      ]
    },
    {
      "cell_type": "markdown",
      "source": [
        "# **Semana 7 - Regresiones**\n",
        "\n",
        "\n",
        "## **Maestría:** Inteligencia Artificial Aplicada\n",
        "## **Alumno:** Alejandra Ramírez Romano A01793144\n",
        "## **Fecha de entrega:** 09 de Noviembre de 2022\n",
        "\n",
        "![Picture1.png](data:image/png;base64,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)"
      ],
      "metadata": {
        "id": "gJBj03BmpyrX"
      }
    },
    {
      "cell_type": "markdown",
      "metadata": {
        "id": "WUO-kdryVQwK"
      },
      "source": [
        "# Linear Models - Explicación en Clase\n"
      ]
    },
    {
      "cell_type": "code",
      "source": [],
      "metadata": {
        "id": "Msm89naSzi21"
      },
      "execution_count": 83,
      "outputs": []
    },
    {
      "cell_type": "markdown",
      "metadata": {
        "id": "u3ytB4LpVQwM"
      },
      "source": [
        "- In supervised learning, the training data fed to the algorithm includes the desired solutions, called labels. \n",
        "- In **regression**, the labels are continuous quantities.\n",
        "- Linear models predict by computing a weighted sum of input features plus a bias term."
      ]
    },
    {
      "cell_type": "code",
      "metadata": {
        "id": "HMp_I4Y6VQwN"
      },
      "source": [
        "import numpy as np\n",
        "%matplotlib inline\n",
        "import matplotlib\n",
        "import matplotlib.pyplot as plt\n",
        "import pandas as pd\n",
        "import seaborn as sns\n",
        "# to make this notebook's output stable across runs\n",
        "np.random.seed(42)"
      ],
      "execution_count": 84,
      "outputs": []
    },
    {
      "cell_type": "code",
      "source": [
        "5-2"
      ],
      "metadata": {
        "colab": {
          "base_uri": "https://localhost:8080/"
        },
        "id": "exg6xSYf3F5D",
        "outputId": "b5c0595c-94b7-4a11-ca9f-96563c6ecd3d"
      },
      "execution_count": 85,
      "outputs": [
        {
          "output_type": "execute_result",
          "data": {
            "text/plain": [
              "3"
            ]
          },
          "metadata": {},
          "execution_count": 85
        }
      ]
    },
    {
      "cell_type": "markdown",
      "metadata": {
        "id": "szpzFXgiVQwN"
      },
      "source": [
        "## Simple Linear Regression\n",
        "\n",
        "Simple linear regression equation:\n",
        "\n",
        "$y = ax + b$\n",
        "<br>\n",
        "$a$: slope\n",
        "<br>\n",
        "$b$: intercept\n",
        "\n",
        "Generate linear-looking data with the equation:\n",
        "\n",
        "$y = 3X + 4 + noise$"
      ]
    },
    {
      "cell_type": "code",
      "metadata": {
        "colab": {
          "base_uri": "https://localhost:8080/"
        },
        "id": "mitJFYeiMQqD",
        "outputId": "9d37777b-8c4b-4c65-b462-09b3b5ae1d01"
      },
      "source": [
        "np.random.rand(100, 1)"
      ],
      "execution_count": 86,
      "outputs": [
        {
          "output_type": "execute_result",
          "data": {
            "text/plain": [
              "array([[0.37454012],\n",
              "       [0.95071431],\n",
              "       [0.73199394],\n",
              "       [0.59865848],\n",
              "       [0.15601864],\n",
              "       [0.15599452],\n",
              "       [0.05808361],\n",
              "       [0.86617615],\n",
              "       [0.60111501],\n",
              "       [0.70807258],\n",
              "       [0.02058449],\n",
              "       [0.96990985],\n",
              "       [0.83244264],\n",
              "       [0.21233911],\n",
              "       [0.18182497],\n",
              "       [0.18340451],\n",
              "       [0.30424224],\n",
              "       [0.52475643],\n",
              "       [0.43194502],\n",
              "       [0.29122914],\n",
              "       [0.61185289],\n",
              "       [0.13949386],\n",
              "       [0.29214465],\n",
              "       [0.36636184],\n",
              "       [0.45606998],\n",
              "       [0.78517596],\n",
              "       [0.19967378],\n",
              "       [0.51423444],\n",
              "       [0.59241457],\n",
              "       [0.04645041],\n",
              "       [0.60754485],\n",
              "       [0.17052412],\n",
              "       [0.06505159],\n",
              "       [0.94888554],\n",
              "       [0.96563203],\n",
              "       [0.80839735],\n",
              "       [0.30461377],\n",
              "       [0.09767211],\n",
              "       [0.68423303],\n",
              "       [0.44015249],\n",
              "       [0.12203823],\n",
              "       [0.49517691],\n",
              "       [0.03438852],\n",
              "       [0.9093204 ],\n",
              "       [0.25877998],\n",
              "       [0.66252228],\n",
              "       [0.31171108],\n",
              "       [0.52006802],\n",
              "       [0.54671028],\n",
              "       [0.18485446],\n",
              "       [0.96958463],\n",
              "       [0.77513282],\n",
              "       [0.93949894],\n",
              "       [0.89482735],\n",
              "       [0.59789998],\n",
              "       [0.92187424],\n",
              "       [0.0884925 ],\n",
              "       [0.19598286],\n",
              "       [0.04522729],\n",
              "       [0.32533033],\n",
              "       [0.38867729],\n",
              "       [0.27134903],\n",
              "       [0.82873751],\n",
              "       [0.35675333],\n",
              "       [0.28093451],\n",
              "       [0.54269608],\n",
              "       [0.14092422],\n",
              "       [0.80219698],\n",
              "       [0.07455064],\n",
              "       [0.98688694],\n",
              "       [0.77224477],\n",
              "       [0.19871568],\n",
              "       [0.00552212],\n",
              "       [0.81546143],\n",
              "       [0.70685734],\n",
              "       [0.72900717],\n",
              "       [0.77127035],\n",
              "       [0.07404465],\n",
              "       [0.35846573],\n",
              "       [0.11586906],\n",
              "       [0.86310343],\n",
              "       [0.62329813],\n",
              "       [0.33089802],\n",
              "       [0.06355835],\n",
              "       [0.31098232],\n",
              "       [0.32518332],\n",
              "       [0.72960618],\n",
              "       [0.63755747],\n",
              "       [0.88721274],\n",
              "       [0.47221493],\n",
              "       [0.11959425],\n",
              "       [0.71324479],\n",
              "       [0.76078505],\n",
              "       [0.5612772 ],\n",
              "       [0.77096718],\n",
              "       [0.4937956 ],\n",
              "       [0.52273283],\n",
              "       [0.42754102],\n",
              "       [0.02541913],\n",
              "       [0.10789143]])"
            ]
          },
          "metadata": {},
          "execution_count": 86
        }
      ]
    },
    {
      "cell_type": "code",
      "metadata": {
        "colab": {
          "base_uri": "https://localhost:8080/",
          "height": 265
        },
        "id": "QyubE1VEVQwN",
        "outputId": "bbd9305a-138c-4108-9f4c-e4f74df2cd5d"
      },
      "source": [
        "X = 2*np.random.rand(100, 1)\n",
        "y = 4 + 3 * X + np.random.randn(100, 1)\n",
        "plt.scatter(X, y);"
      ],
      "execution_count": 87,
      "outputs": [
        {
          "output_type": "display_data",
          "data": {
            "text/plain": [
              "<Figure size 432x288 with 1 Axes>"
            ],
            "image/png": "[encoded data removed]"
          },
          "metadata": {
            "needs_background": "light"
          }
        }
      ]
    },
    {
      "cell_type": "code",
      "source": [
        "import pandas as pd\n",
        "pd.DataFrame(y)"
      ],
      "metadata": {
        "colab": {
          "base_uri": "https://localhost:8080/",
          "height": 424
        },
        "id": "M5kaENJ4bZY5",
        "outputId": "afbd0704-6276-4325-bb2b-8d4bbe116897"
      },
      "execution_count": 88,
      "outputs": [
        {
          "output_type": "execute_result",
          "data": {
            "text/plain": [
              "            0\n",
              "0    3.508550\n",
              "1    8.050716\n",
              "2    6.179208\n",
              "3    6.337073\n",
              "4   11.311173\n",
              "..        ...\n",
              "95   5.441928\n",
              "96  10.121188\n",
              "97   9.787643\n",
              "98   8.061635\n",
              "99   9.597115\n",
              "\n",
              "[100 rows x 1 columns]"
            ],
            "text/html": [
              "\n",
              "  <div id=\"df-04502620-645b-41e9-b158-bf5bd0f44528\">\n",
              "    <div class=\"colab-df-container\">\n",
              "      <div>\n",
              "<style scoped>\n",
              "    .dataframe tbody tr th:only-of-type {\n",
              "        vertical-align: middle;\n",
              "    }\n",
              "\n",
              "    .dataframe tbody tr th {\n",
              "        vertical-align: top;\n",
              "    }\n",
              "\n",
              "    .dataframe thead th {\n",
              "        text-align: right;\n",
              "    }\n",
              "</style>\n",
              "<table border=\"1\" class=\"dataframe\">\n",
              "  <thead>\n",
              "    <tr style=\"text-align: right;\">\n",
              "      <th></th>\n",
              "      <th>0</th>\n",
              "    </tr>\n",
              "  </thead>\n",
              "  <tbody>\n",
              "    <tr>\n",
              "      <th>0</th>\n",
              "      <td>3.508550</td>\n",
              "    </tr>\n",
              "    <tr>\n",
              "      <th>1</th>\n",
              "      <td>8.050716</td>\n",
              "    </tr>\n",
              "    <tr>\n",
              "      <th>2</th>\n",
              "      <td>6.179208</td>\n",
              "    </tr>\n",
              "    <tr>\n",
              "      <th>3</th>\n",
              "      <td>6.337073</td>\n",
              "    </tr>\n",
              "    <tr>\n",
              "      <th>4</th>\n",
              "      <td>11.311173</td>\n",
              "    </tr>\n",
              "    <tr>\n",
              "      <th>...</th>\n",
              "      <td>...</td>\n",
              "    </tr>\n",
              "    <tr>\n",
              "      <th>95</th>\n",
              "      <td>5.441928</td>\n",
              "    </tr>\n",
              "    <tr>\n",
              "      <th>96</th>\n",
              "      <td>10.121188</td>\n",
              "    </tr>\n",
              "    <tr>\n",
              "      <th>97</th>\n",
              "      <td>9.787643</td>\n",
              "    </tr>\n",
              "    <tr>\n",
              "      <th>98</th>\n",
              "      <td>8.061635</td>\n",
              "    </tr>\n",
              "    <tr>\n",
              "      <th>99</th>\n",
              "      <td>9.597115</td>\n",
              "    </tr>\n",
              "  </tbody>\n",
              "</table>\n",
              "<p>100 rows × 1 columns</p>\n",
              "</div>\n",
              "      <button class=\"colab-df-convert\" onclick=\"convertToInteractive('df-04502620-645b-41e9-b158-bf5bd0f44528')\"\n",
              "              title=\"Convert this dataframe to an interactive table.\"\n",
              "              style=\"display:none;\">\n",
              "        \n",
              "  <svg xmlns=\"http://www.w3.org/2000/svg\" height=\"24px\"viewBox=\"0 0 24 24\"\n",
              "       width=\"24px\">\n",
              "    <path d=\"M0 0h24v24H0V0z\" fill=\"none\"/>\n",
              "    <path d=\"M18.56 5.44l.94 2.06.94-2.06 2.06-.94-2.06-.94-.94-2.06-.94 2.06-2.06.94zm-11 1L8.5 8.5l.94-2.06 2.06-.94-2.06-.94L8.5 2.5l-.94 2.06-2.06.94zm10 10l.94 2.06.94-2.06 2.06-.94-2.06-.94-.94-2.06-.94 2.06-2.06.94z\"/><path d=\"M17.41 7.96l-1.37-1.37c-.4-.4-.92-.59-1.43-.59-.52 0-1.04.2-1.43.59L10.3 9.45l-7.72 7.72c-.78.78-.78 2.05 0 2.83L4 21.41c.39.39.9.59 1.41.59.51 0 1.02-.2 1.41-.59l7.78-7.78 2.81-2.81c.8-.78.8-2.07 0-2.86zM5.41 20L4 18.59l7.72-7.72 1.47 1.35L5.41 20z\"/>\n",
              "  </svg>\n",
              "      </button>\n",
              "      \n",
              "  <style>\n",
              "    .colab-df-container {\n",
              "      display:flex;\n",
              "      flex-wrap:wrap;\n",
              "      gap: 12px;\n",
              "    }\n",
              "\n",
              "    .colab-df-convert {\n",
              "      background-color: #E8F0FE;\n",
              "      border: none;\n",
              "      border-radius: 50%;\n",
              "      cursor: pointer;\n",
              "      display: none;\n",
              "      fill: #1967D2;\n",
              "      height: 32px;\n",
              "      padding: 0 0 0 0;\n",
              "      width: 32px;\n",
              "    }\n",
              "\n",
              "    .colab-df-convert:hover {\n",
              "      background-color: #E2EBFA;\n",
              "      box-shadow: 0px 1px 2px rgba(60, 64, 67, 0.3), 0px 1px 3px 1px rgba(60, 64, 67, 0.15);\n",
              "      fill: #174EA6;\n",
              "    }\n",
              "\n",
              "    [theme=dark] .colab-df-convert {\n",
              "      background-color: #3B4455;\n",
              "      fill: #D2E3FC;\n",
              "    }\n",
              "\n",
              "    [theme=dark] .colab-df-convert:hover {\n",
              "      background-color: #434B5C;\n",
              "      box-shadow: 0px 1px 3px 1px rgba(0, 0, 0, 0.15);\n",
              "      filter: drop-shadow(0px 1px 2px rgba(0, 0, 0, 0.3));\n",
              "      fill: #FFFFFF;\n",
              "    }\n",
              "  </style>\n",
              "\n",
              "      <script>\n",
              "        const buttonEl =\n",
              "          document.querySelector('#df-04502620-645b-41e9-b158-bf5bd0f44528 button.colab-df-convert');\n",
              "        buttonEl.style.display =\n",
              "          google.colab.kernel.accessAllowed ? 'block' : 'none';\n",
              "\n",
              "        async function convertToInteractive(key) {\n",
              "          const element = document.querySelector('#df-04502620-645b-41e9-b158-bf5bd0f44528');\n",
              "          const dataTable =\n",
              "            await google.colab.kernel.invokeFunction('convertToInteractive',\n",
              "                                                     [key], {});\n",
              "          if (!dataTable) return;\n",
              "\n",
              "          const docLinkHtml = 'Like what you see? Visit the ' +\n",
              "            '<a target=\"_blank\" href=https://colab.research.google.com/notebooks/data_table.ipynb>data table notebook</a>'\n",
              "            + ' to learn more about interactive tables.';\n",
              "          element.innerHTML = '';\n",
              "          dataTable['output_type'] = 'display_data';\n",
              "          await google.colab.output.renderOutput(dataTable, element);\n",
              "          const docLink = document.createElement('div');\n",
              "          docLink.innerHTML = docLinkHtml;\n",
              "          element.appendChild(docLink);\n",
              "        }\n",
              "      </script>\n",
              "    </div>\n",
              "  </div>\n",
              "  "
            ]
          },
          "metadata": {},
          "execution_count": 88
        }
      ]
    },
    {
      "cell_type": "code",
      "metadata": {
        "colab": {
          "base_uri": "https://localhost:8080/"
        },
        "id": "x6XGt_iAVQwO",
        "outputId": "5e3b3431-af49-4afc-bf62-63d71b3dfed2"
      },
      "source": [
        "from sklearn.linear_model import LinearRegression\n",
        "\n",
        "linear_reg = LinearRegression(fit_intercept=True)\n",
        "linear_reg.fit(X, y)"
      ],
      "execution_count": 89,
      "outputs": [
        {
          "output_type": "execute_result",
          "data": {
            "text/plain": [
              "LinearRegression()"
            ]
          },
          "metadata": {},
          "execution_count": 89
        }
      ]
    },
    {
      "cell_type": "markdown",
      "metadata": {
        "id": "Hnm9YgjbVQwO"
      },
      "source": [
        "Plot the model's predictions:"
      ]
    },
    {
      "cell_type": "code",
      "metadata": {
        "id": "9NtrLfGGVQwP"
      },
      "source": [
        "#X_fit[]"
      ],
      "execution_count": 90,
      "outputs": []
    },
    {
      "cell_type": "code",
      "metadata": {
        "colab": {
          "base_uri": "https://localhost:8080/",
          "height": 287
        },
        "id": "1ZTT31igVQwP",
        "outputId": "c49dec64-6ddd-4642-9405-5ba012a1f5a6"
      },
      "source": [
        "# construct best fit line\n",
        "X_fit = np.linspace(0, 2, 100)\n",
        "y_fit = linear_reg.predict(X_fit[:, np.newaxis])\n",
        "\n",
        "plt.scatter(X, y)\n",
        "plt.plot(X_fit, y_fit, \"r-\", linewidth=2, label=\"Predictions\")\n",
        "plt.xlabel(\"$X$\", fontsize=18)\n",
        "plt.ylabel(\"$y$\", rotation=0, fontsize=18)\n",
        "plt.legend(loc=\"upper left\", fontsize=14);"
      ],
      "execution_count": 91,
      "outputs": [
        {
          "output_type": "display_data",
          "data": {
            "text/plain": [
              "<Figure size 432x288 with 1 Axes>"
            ],
            "image/png": "[encoded data removed]"
          },
          "metadata": {
            "needs_background": "light"
          }
        }
      ]
    },
    {
      "cell_type": "markdown",
      "metadata": {
        "id": "kIfOsEcWVQwP"
      },
      "source": [
        "Predictions are a good fit."
      ]
    },
    {
      "cell_type": "markdown",
      "metadata": {
        "id": "z2VYUeGrVQwQ"
      },
      "source": [
        "Generate new data to make predictions with the model:"
      ]
    },
    {
      "cell_type": "code",
      "metadata": {
        "colab": {
          "base_uri": "https://localhost:8080/"
        },
        "id": "FuEd0Wp0VQwQ",
        "outputId": "4137d917-f07f-46c0-d308-8416f765953b"
      },
      "source": [
        "X_new = np.array([[0], [2]])\n",
        "X_new"
      ],
      "execution_count": 92,
      "outputs": [
        {
          "output_type": "execute_result",
          "data": {
            "text/plain": [
              "array([[0],\n",
              "       [2]])"
            ]
          },
          "metadata": {},
          "execution_count": 92
        }
      ]
    },
    {
      "cell_type": "code",
      "metadata": {
        "colab": {
          "base_uri": "https://localhost:8080/"
        },
        "id": "lLCnLm7_VQwQ",
        "outputId": "160ecf1d-2825-44e7-9aac-30d27b76e5e6"
      },
      "source": [
        "X_new.shape"
      ],
      "execution_count": 93,
      "outputs": [
        {
          "output_type": "execute_result",
          "data": {
            "text/plain": [
              "(2, 1)"
            ]
          },
          "metadata": {},
          "execution_count": 93
        }
      ]
    },
    {
      "cell_type": "code",
      "metadata": {
        "colab": {
          "base_uri": "https://localhost:8080/"
        },
        "id": "zJIzUfZsVQwQ",
        "outputId": "0869a950-0cab-432b-b894-7a71f23908d6"
      },
      "source": [
        "y_new = linear_reg.predict(X_new)\n",
        "y_new"
      ],
      "execution_count": 94,
      "outputs": [
        {
          "output_type": "execute_result",
          "data": {
            "text/plain": [
              "array([[ 3.74406122],\n",
              "       [10.47517611]])"
            ]
          },
          "metadata": {},
          "execution_count": 94
        }
      ]
    },
    {
      "cell_type": "code",
      "metadata": {
        "colab": {
          "base_uri": "https://localhost:8080/"
        },
        "id": "ICiEnkbdVQwQ",
        "outputId": "a2da72e6-1782-4416-fbd3-db1f3a274743"
      },
      "source": [
        " linear_reg.coef_, linear_reg.intercept_"
      ],
      "execution_count": 95,
      "outputs": [
        {
          "output_type": "execute_result",
          "data": {
            "text/plain": [
              "(array([[3.36555744]]), array([3.74406122]))"
            ]
          },
          "metadata": {},
          "execution_count": 95
        }
      ]
    },
    {
      "cell_type": "markdown",
      "metadata": {
        "id": "iBXzOecgVQwR"
      },
      "source": [
        "The model estimates:\n",
        "\n",
        "$\\hat{y} = 3.36X + 3.74$"
      ]
    },
    {
      "cell_type": "code",
      "metadata": {
        "id": "ZNvipq0wQYfj"
      },
      "source": [
        "#|VENTAS|GANANCIAS|\n",
        "#COEF*VENTAS+B\n",
        "#|VENTAS|COMPRAS|GANANCIAS|\n",
        "#COEF1*X1+COEF2*X2+B=Y"
      ],
      "execution_count": 96,
      "outputs": []
    },
    {
      "cell_type": "markdown",
      "metadata": {
        "id": "_Rv-RJSnVQwR"
      },
      "source": [
        "## Polynomial Regression\n",
        "\n",
        "If data is more complex than a straight line, you can use a linear model ti fit non-linear data adding powers of each feature as new features and then train a linear model on the extended set of features. "
      ]
    },
    {
      "cell_type": "markdown",
      "metadata": {
        "id": "dPrpAVsZVQwR"
      },
      "source": [
        "$$y = a_0 + a_1x_1 + a_2x_2 + a_3x_3 + ...$$ to $$y = a_0 + a_1x + a_2x^2 + a_3x^3+ ...$$ "
      ]
    },
    {
      "cell_type": "markdown",
      "metadata": {
        "id": "9kjMWzEfVQwR"
      },
      "source": [
        "This is still a linear model, the linearity refers to the fact that the coefficients never multiply or divide each other."
      ]
    },
    {
      "cell_type": "markdown",
      "metadata": {
        "id": "2M3fp_CSVQwR"
      },
      "source": [
        "To generate polynomial data we use the function:\n",
        "\n",
        "$y = 0.50X^2 + X + 2 + noise$"
      ]
    },
    {
      "cell_type": "code",
      "metadata": {
        "id": "sSrueMnPVQwR"
      },
      "source": [
        "# generate non-linear data e.g. quadratic equation\n",
        "m = 100\n",
        "X = 6 * np.random.rand(m, 1) - 3\n",
        "y = 0.5 * X**2 + X + 2 + np.random.randn(m, 1)"
      ],
      "execution_count": 97,
      "outputs": []
    },
    {
      "cell_type": "code",
      "metadata": {
        "colab": {
          "base_uri": "https://localhost:8080/",
          "height": 291
        },
        "id": "GNQQoXkMVQwS",
        "outputId": "1eb7a255-dcbf-41c7-ee2c-25481898233d"
      },
      "source": [
        "plt.plot(X, y, \"b.\")\n",
        "plt.xlabel(\"$x_1$\", fontsize=18)\n",
        "plt.ylabel(\"$y$\", rotation=0, fontsize=18)\n",
        "plt.axis([-3, 3, 0, 10]);"
      ],
      "execution_count": 98,
      "outputs": [
        {
          "output_type": "display_data",
          "data": {
            "text/plain": [
              "<Figure size 432x288 with 1 Axes>"
            ],
            "image/png": "[encoded data removed]"
          },
          "metadata": {
            "needs_background": "light"
          }
        }
      ]
    },
    {
      "cell_type": "code",
      "source": [
        "import pandas as pd\n",
        "pd.DataFrame(y)"
      ],
      "metadata": {
        "id": "YtaK_dsidNcP",
        "outputId": "67fcdb73-6a00-4e66-da3d-41ef2566228e",
        "colab": {
          "base_uri": "https://localhost:8080/",
          "height": 424
        }
      },
      "execution_count": 99,
      "outputs": [
        {
          "output_type": "execute_result",
          "data": {
            "text/plain": [
              "           0\n",
              "0   8.529240\n",
              "1   3.768929\n",
              "2   3.354423\n",
              "3   2.747935\n",
              "4   0.808458\n",
              "..       ...\n",
              "95  5.346771\n",
              "96  6.338229\n",
              "97  3.488785\n",
              "98  1.372002\n",
              "99 -0.072150\n",
              "\n",
              "[100 rows x 1 columns]"
            ],
            "text/html": [
              "\n",
              "  <div id=\"df-7e79c19e-0058-4a35-845d-9842db153c43\">\n",
              "    <div class=\"colab-df-container\">\n",
              "      <div>\n",
              "<style scoped>\n",
              "    .dataframe tbody tr th:only-of-type {\n",
              "        vertical-align: middle;\n",
              "    }\n",
              "\n",
              "    .dataframe tbody tr th {\n",
              "        vertical-align: top;\n",
              "    }\n",
              "\n",
              "    .dataframe thead th {\n",
              "        text-align: right;\n",
              "    }\n",
              "</style>\n",
              "<table border=\"1\" class=\"dataframe\">\n",
              "  <thead>\n",
              "    <tr style=\"text-align: right;\">\n",
              "      <th></th>\n",
              "      <th>0</th>\n",
              "    </tr>\n",
              "  </thead>\n",
              "  <tbody>\n",
              "    <tr>\n",
              "      <th>0</th>\n",
              "      <td>8.529240</td>\n",
              "    </tr>\n",
              "    <tr>\n",
              "      <th>1</th>\n",
              "      <td>3.768929</td>\n",
              "    </tr>\n",
              "    <tr>\n",
              "      <th>2</th>\n",
              "      <td>3.354423</td>\n",
              "    </tr>\n",
              "    <tr>\n",
              "      <th>3</th>\n",
              "      <td>2.747935</td>\n",
              "    </tr>\n",
              "    <tr>\n",
              "      <th>4</th>\n",
              "      <td>0.808458</td>\n",
              "    </tr>\n",
              "    <tr>\n",
              "      <th>...</th>\n",
              "      <td>...</td>\n",
              "    </tr>\n",
              "    <tr>\n",
              "      <th>95</th>\n",
              "      <td>5.346771</td>\n",
              "    </tr>\n",
              "    <tr>\n",
              "      <th>96</th>\n",
              "      <td>6.338229</td>\n",
              "    </tr>\n",
              "    <tr>\n",
              "      <th>97</th>\n",
              "      <td>3.488785</td>\n",
              "    </tr>\n",
              "    <tr>\n",
              "      <th>98</th>\n",
              "      <td>1.372002</td>\n",
              "    </tr>\n",
              "    <tr>\n",
              "      <th>99</th>\n",
              "      <td>-0.072150</td>\n",
              "    </tr>\n",
              "  </tbody>\n",
              "</table>\n",
              "<p>100 rows × 1 columns</p>\n",
              "</div>\n",
              "      <button class=\"colab-df-convert\" onclick=\"convertToInteractive('df-7e79c19e-0058-4a35-845d-9842db153c43')\"\n",
              "              title=\"Convert this dataframe to an interactive table.\"\n",
              "              style=\"display:none;\">\n",
              "        \n",
              "  <svg xmlns=\"http://www.w3.org/2000/svg\" height=\"24px\"viewBox=\"0 0 24 24\"\n",
              "       width=\"24px\">\n",
              "    <path d=\"M0 0h24v24H0V0z\" fill=\"none\"/>\n",
              "    <path d=\"M18.56 5.44l.94 2.06.94-2.06 2.06-.94-2.06-.94-.94-2.06-.94 2.06-2.06.94zm-11 1L8.5 8.5l.94-2.06 2.06-.94-2.06-.94L8.5 2.5l-.94 2.06-2.06.94zm10 10l.94 2.06.94-2.06 2.06-.94-2.06-.94-.94-2.06-.94 2.06-2.06.94z\"/><path d=\"M17.41 7.96l-1.37-1.37c-.4-.4-.92-.59-1.43-.59-.52 0-1.04.2-1.43.59L10.3 9.45l-7.72 7.72c-.78.78-.78 2.05 0 2.83L4 21.41c.39.39.9.59 1.41.59.51 0 1.02-.2 1.41-.59l7.78-7.78 2.81-2.81c.8-.78.8-2.07 0-2.86zM5.41 20L4 18.59l7.72-7.72 1.47 1.35L5.41 20z\"/>\n",
              "  </svg>\n",
              "      </button>\n",
              "      \n",
              "  <style>\n",
              "    .colab-df-container {\n",
              "      display:flex;\n",
              "      flex-wrap:wrap;\n",
              "      gap: 12px;\n",
              "    }\n",
              "\n",
              "    .colab-df-convert {\n",
              "      background-color: #E8F0FE;\n",
              "      border: none;\n",
              "      border-radius: 50%;\n",
              "      cursor: pointer;\n",
              "      display: none;\n",
              "      fill: #1967D2;\n",
              "      height: 32px;\n",
              "      padding: 0 0 0 0;\n",
              "      width: 32px;\n",
              "    }\n",
              "\n",
              "    .colab-df-convert:hover {\n",
              "      background-color: #E2EBFA;\n",
              "      box-shadow: 0px 1px 2px rgba(60, 64, 67, 0.3), 0px 1px 3px 1px rgba(60, 64, 67, 0.15);\n",
              "      fill: #174EA6;\n",
              "    }\n",
              "\n",
              "    [theme=dark] .colab-df-convert {\n",
              "      background-color: #3B4455;\n",
              "      fill: #D2E3FC;\n",
              "    }\n",
              "\n",
              "    [theme=dark] .colab-df-convert:hover {\n",
              "      background-color: #434B5C;\n",
              "      box-shadow: 0px 1px 3px 1px rgba(0, 0, 0, 0.15);\n",
              "      filter: drop-shadow(0px 1px 2px rgba(0, 0, 0, 0.3));\n",
              "      fill: #FFFFFF;\n",
              "    }\n",
              "  </style>\n",
              "\n",
              "      <script>\n",
              "        const buttonEl =\n",
              "          document.querySelector('#df-7e79c19e-0058-4a35-845d-9842db153c43 button.colab-df-convert');\n",
              "        buttonEl.style.display =\n",
              "          google.colab.kernel.accessAllowed ? 'block' : 'none';\n",
              "\n",
              "        async function convertToInteractive(key) {\n",
              "          const element = document.querySelector('#df-7e79c19e-0058-4a35-845d-9842db153c43');\n",
              "          const dataTable =\n",
              "            await google.colab.kernel.invokeFunction('convertToInteractive',\n",
              "                                                     [key], {});\n",
              "          if (!dataTable) return;\n",
              "\n",
              "          const docLinkHtml = 'Like what you see? Visit the ' +\n",
              "            '<a target=\"_blank\" href=https://colab.research.google.com/notebooks/data_table.ipynb>data table notebook</a>'\n",
              "            + ' to learn more about interactive tables.';\n",
              "          element.innerHTML = '';\n",
              "          dataTable['output_type'] = 'display_data';\n",
              "          await google.colab.output.renderOutput(dataTable, element);\n",
              "          const docLink = document.createElement('div');\n",
              "          docLink.innerHTML = docLinkHtml;\n",
              "          element.appendChild(docLink);\n",
              "        }\n",
              "      </script>\n",
              "    </div>\n",
              "  </div>\n",
              "  "
            ]
          },
          "metadata": {},
          "execution_count": 99
        }
      ]
    },
    {
      "cell_type": "markdown",
      "metadata": {
        "id": "vrZTRaLNVQwS"
      },
      "source": [
        "Now we can use `PolynomialFeatues` to transform training data adding the square of each feature as new features."
      ]
    },
    {
      "cell_type": "code",
      "metadata": {
        "id": "BXo0Hm56VQwS"
      },
      "source": [
        "from sklearn.preprocessing import PolynomialFeatures\n",
        "\n",
        "poly_features = PolynomialFeatures(degree=2, include_bias=False)\n",
        "X_poly = poly_features.fit_transform(X)"
      ],
      "execution_count": 100,
      "outputs": []
    },
    {
      "cell_type": "code",
      "metadata": {
        "colab": {
          "base_uri": "https://localhost:8080/"
        },
        "id": "1FqY9-I4VQwS",
        "outputId": "c659e5d2-355d-4366-d3db-b03b82cdb130"
      },
      "source": [
        "X_poly"
      ],
      "execution_count": 101,
      "outputs": [
        {
          "output_type": "execute_result",
          "data": {
            "text/plain": [
              "array([[ 2.72919168e+00,  7.44848725e+00],\n",
              "       [ 1.42738150e+00,  2.03741795e+00],\n",
              "       [ 3.26124315e-01,  1.06357069e-01],\n",
              "       [ 6.70324477e-01,  4.49334905e-01],\n",
              "       [-4.82399625e-01,  2.32709399e-01],\n",
              "       [-1.51361406e+00,  2.29102753e+00],\n",
              "       [-8.64163928e-01,  7.46779295e-01],\n",
              "       [ 1.54707666e+00,  2.39344620e+00],\n",
              "       [-2.91363907e+00,  8.48929262e+00],\n",
              "       [-2.30356416e+00,  5.30640783e+00],\n",
              "       [-2.72398415e+00,  7.42008964e+00],\n",
              "       [-2.75562719e+00,  7.59348119e+00],\n",
              "       [ 2.13276350e+00,  4.54868016e+00],\n",
              "       [ 1.22194716e+00,  1.49315485e+00],\n",
              "       [-1.54957025e-01,  2.40116797e-02],\n",
              "       [-2.41299504e+00,  5.82254504e+00],\n",
              "       [-5.03047493e-02,  2.53056780e-03],\n",
              "       [-1.59169375e-01,  2.53348900e-02],\n",
              "       [-1.96078878e+00,  3.84469264e+00],\n",
              "       [-3.96890105e-01,  1.57521755e-01],\n",
              "       [-6.08971594e-01,  3.70846402e-01],\n",
              "       [ 6.95100588e-01,  4.83164828e-01],\n",
              "       [ 8.10561905e-01,  6.57010602e-01],\n",
              "       [-2.72817594e+00,  7.44294397e+00],\n",
              "       [-7.52324312e-01,  5.65991871e-01],\n",
              "       [ 7.55159494e-01,  5.70265862e-01],\n",
              "       [ 1.88175515e-02,  3.54100244e-04],\n",
              "       [ 2.13893905e+00,  4.57506025e+00],\n",
              "       [ 9.52161790e-01,  9.06612074e-01],\n",
              "       [-2.02239344e+00,  4.09007522e+00],\n",
              "       [-2.57658752e+00,  6.63880323e+00],\n",
              "       [ 8.54515669e-01,  7.30197029e-01],\n",
              "       [-2.84093214e+00,  8.07089541e+00],\n",
              "       [ 5.14653488e-01,  2.64868212e-01],\n",
              "       [ 2.64138145e+00,  6.97689596e+00],\n",
              "       [ 4.52845067e-01,  2.05068655e-01],\n",
              "       [-6.70980443e-01,  4.50214755e-01],\n",
              "       [ 8.59729311e-01,  7.39134488e-01],\n",
              "       [-2.50482657e-01,  6.27415615e-02],\n",
              "       [ 2.73700736e-01,  7.49120928e-02],\n",
              "       [ 2.64878885e+00,  7.01608239e+00],\n",
              "       [-6.83384173e-01,  4.67013928e-01],\n",
              "       [ 2.76714338e+00,  7.65708250e+00],\n",
              "       [ 2.43210385e+00,  5.91512915e+00],\n",
              "       [-1.82525319e+00,  3.33154921e+00],\n",
              "       [-2.58383219e+00,  6.67618881e+00],\n",
              "       [-2.39533199e+00,  5.73761535e+00],\n",
              "       [-2.89066905e+00,  8.35596753e+00],\n",
              "       [-2.43334224e+00,  5.92115443e+00],\n",
              "       [ 1.09804064e+00,  1.20569325e+00],\n",
              "       [-2.57286811e+00,  6.61965031e+00],\n",
              "       [-1.08614622e+00,  1.17971361e+00],\n",
              "       [ 2.06925187e+00,  4.28180328e+00],\n",
              "       [-2.86036839e+00,  8.18170730e+00],\n",
              "       [ 1.88681090e+00,  3.56005536e+00],\n",
              "       [-1.30887135e+00,  1.71314421e+00],\n",
              "       [-2.29101103e+00,  5.24873156e+00],\n",
              "       [ 1.18042299e+00,  1.39339844e+00],\n",
              "       [ 7.73657081e-01,  5.98545278e-01],\n",
              "       [ 2.26483208e+00,  5.12946436e+00],\n",
              "       [ 1.41042626e+00,  1.98930224e+00],\n",
              "       [ 1.82088558e+00,  3.31562430e+00],\n",
              "       [-1.30779256e+00,  1.71032139e+00],\n",
              "       [-1.93536274e+00,  3.74562893e+00],\n",
              "       [ 1.50368851e+00,  2.26107913e+00],\n",
              "       [ 1.84100844e+00,  3.38931206e+00],\n",
              "       [ 2.94303085e+00,  8.66143060e+00],\n",
              "       [-5.24293939e-01,  2.74884134e-01],\n",
              "       [-7.67891485e-01,  5.89657333e-01],\n",
              "       [ 1.65847776e+00,  2.75054850e+00],\n",
              "       [-9.55178758e-01,  9.12366461e-01],\n",
              "       [ 2.58454395e+00,  6.67986745e+00],\n",
              "       [ 2.15047651e+00,  4.62454922e+00],\n",
              "       [-4.26035836e-01,  1.81506533e-01],\n",
              "       [ 1.50522641e+00,  2.26570654e+00],\n",
              "       [ 1.52725724e+00,  2.33251469e+00],\n",
              "       [-2.38125679e+00,  5.67038389e+00],\n",
              "       [ 2.41531744e+00,  5.83375834e+00],\n",
              "       [ 3.15142347e-02,  9.93146988e-04],\n",
              "       [ 1.95874480e+00,  3.83668118e+00],\n",
              "       [-1.07970239e+00,  1.16575726e+00],\n",
              "       [ 2.37313937e+00,  5.63179047e+00],\n",
              "       [-6.64789928e-01,  4.41945648e-01],\n",
              "       [-2.93497409e+00,  8.61407292e+00],\n",
              "       [ 2.43229186e+00,  5.91604369e+00],\n",
              "       [-2.45227994e+00,  6.01367690e+00],\n",
              "       [-1.08411817e+00,  1.17531222e+00],\n",
              "       [ 2.70037180e+00,  7.29200787e+00],\n",
              "       [ 2.70364288e+00,  7.30968483e+00],\n",
              "       [ 4.40627329e-01,  1.94152443e-01],\n",
              "       [ 7.91023273e-01,  6.25717818e-01],\n",
              "       [-3.09326868e-01,  9.56831113e-02],\n",
              "       [-1.24073537e+00,  1.53942426e+00],\n",
              "       [-1.02801273e+00,  1.05681017e+00],\n",
              "       [ 1.03511074e+00,  1.07145424e+00],\n",
              "       [ 1.51424718e+00,  2.29294451e+00],\n",
              "       [ 1.74947426e+00,  3.06066019e+00],\n",
              "       [ 1.73770886e+00,  3.01963207e+00],\n",
              "       [-2.45276338e+00,  6.01604821e+00],\n",
              "       [-3.34781718e-02,  1.12078799e-03]])"
            ]
          },
          "metadata": {},
          "execution_count": 101
        }
      ]
    },
    {
      "cell_type": "markdown",
      "metadata": {
        "id": "GrFMRU_eVQwS"
      },
      "source": [
        "`X_poly` now contains the original feature of X plus the square of the feature:"
      ]
    },
    {
      "cell_type": "code",
      "metadata": {
        "colab": {
          "base_uri": "https://localhost:8080/"
        },
        "id": "M8FH1dY2UwgN",
        "outputId": "0241dee8-2162-42ec-8f50-a13a1b910149"
      },
      "source": [
        "print(X[0])\n",
        "print(X[0]*X[0])\n"
      ],
      "execution_count": 102,
      "outputs": [
        {
          "output_type": "stream",
          "name": "stdout",
          "text": [
            "[2.72919168]\n",
            "[7.44848725]\n"
          ]
        }
      ]
    },
    {
      "cell_type": "code",
      "metadata": {
        "colab": {
          "base_uri": "https://localhost:8080/"
        },
        "id": "PSflPniWVQwT",
        "outputId": "0d891b34-0e7c-4d2d-c0a4-86152d73536e"
      },
      "source": [
        "X_poly[0]"
      ],
      "execution_count": 103,
      "outputs": [
        {
          "output_type": "execute_result",
          "data": {
            "text/plain": [
              "array([2.72919168, 7.44848725])"
            ]
          },
          "metadata": {},
          "execution_count": 103
        }
      ]
    },
    {
      "cell_type": "markdown",
      "metadata": {
        "id": "HaXjXg7FVQwT"
      },
      "source": [
        "Fit the model to this extended training data:"
      ]
    },
    {
      "cell_type": "code",
      "metadata": {
        "colab": {
          "base_uri": "https://localhost:8080/"
        },
        "id": "c0Qu93dgVQwT",
        "outputId": "66431ecf-5a6c-4855-a809-53ca539ae4ea"
      },
      "source": [
        "lin_reg = LinearRegression(fit_intercept=True)\n",
        "lin_reg.fit(X_poly, y)\n",
        "lin_reg.coef_, lin_reg.intercept_"
      ],
      "execution_count": 104,
      "outputs": [
        {
          "output_type": "execute_result",
          "data": {
            "text/plain": [
              "(array([[1.04271531, 0.50866711]]), array([2.01873554]))"
            ]
          },
          "metadata": {},
          "execution_count": 104
        }
      ]
    },
    {
      "cell_type": "markdown",
      "metadata": {
        "id": "rKOSwvnmVQwT"
      },
      "source": [
        "The model estimates:\n",
        "\n",
        "$\\hat{y} =  0.89X +0.48X^2 + 2.09$"
      ]
    },
    {
      "cell_type": "markdown",
      "metadata": {
        "id": "_EtZEKz5VQwT"
      },
      "source": [
        "Plot the data and the predictions:"
      ]
    },
    {
      "cell_type": "code",
      "metadata": {
        "colab": {
          "base_uri": "https://localhost:8080/",
          "height": 291
        },
        "id": "6Q8dHRgdVQwT",
        "outputId": "5a284b02-5058-44ea-8255-df3d98529926"
      },
      "source": [
        "X_new=np.linspace(-3, 3, 100).reshape(100, 1)\n",
        "X_new_poly = poly_features.transform(X_new)\n",
        "y_new = lin_reg.predict(X_new_poly)\n",
        "plt.plot(X, y, \"b.\")\n",
        "plt.plot(X_new, y_new, \"r-\", linewidth=2, label=\"Predictions\")\n",
        "plt.xlabel(\"$x_1$\", fontsize=18)\n",
        "plt.ylabel(\"$y$\", rotation=0, fontsize=18)\n",
        "plt.legend(loc=\"upper left\", fontsize=14)\n",
        "plt.axis([-3, 3, 0, 10]);"
      ],
      "execution_count": 105,
      "outputs": [
        {
          "output_type": "display_data",
          "data": {
            "text/plain": [
              "<Figure size 432x288 with 1 Axes>"
            ],
            "image/png": "[encoded data removed]"
          },
          "metadata": {
            "needs_background": "light"
          }
        }
      ]
    },
    {
      "cell_type": "code",
      "source": [],
      "metadata": {
        "id": "vyq0o8f2pcqa"
      },
      "execution_count": 105,
      "outputs": []
    },
    {
      "cell_type": "markdown",
      "source": [
        "## R square\n",
        "\n",
        "R² es una medida estadística de qué tan cerca están los datos de la línea de regresión ajustada. También se conoce como el coeficiente de determinación o el coeficiente de determinación múltiple para la regresión múltiple. Para decirlo en un lenguaje más simple, R² es una medida de ajuste para los modelos de regresión lineal.\n",
        "\n",
        "\n",
        "\n",
        "R² no indica si un modelo de regresión se ajusta adecuadamente a sus datos. Un buen modelo puede tener un valor R² bajo. Por otro lado, un modelo sesgado puede tener un valor alto de R².\n",
        "\n",
        " SSres + SSreg = SStot, R² = Explained variation / Total Variation\n",
        " \n",
        " ![image.png](https://i.stack.imgur.com/xb1VY.png)\n",
        " \n",
        "![image.png](https://3.bp.blogspot.com/-MFqQLwbGwd4/WMO7tz39beI/AAAAAAAAF9I/Bjpfohgv_5E4lu7HzHJBQtXsBM--byqPwCLcB/s1600/rsquared.png)\n"
      ],
      "metadata": {
        "id": "TIFwAtW1pc6h"
      }
    },
    {
      "cell_type": "markdown",
      "metadata": {
        "id": "nTKFj4x9LMXm"
      },
      "source": [
        "# Ejercicio 1 -Costo en la industria de manufactura\n",
        "\n",
        "Utiliza la base de datos de \n",
        "https://www.kaggle.com/vinicius150987/manufacturing-cost\n",
        "\n",
        "Suponga que trabaja como consultor de una empresa de nueva creación que busca desarrollar un modelo para estimar el costo de los bienes vendidos a medida que varían el volumen de producción (número de unidades producidas). La startup recopiló datos y le pidió que desarrollara un modelo para predecir su costo frente a la cantidad de unidades vendidas."
      ]
    },
    {
      "cell_type": "code",
      "metadata": {
        "colab": {
          "base_uri": "https://localhost:8080/",
          "height": 363
        },
        "id": "oTnErQOkL3oa",
        "outputId": "4cfca849-03b7-4ce2-925d-670b6e9913b3"
      },
      "source": [
        "import pandas as pd\n",
        "df = pd.read_csv('https://raw.githubusercontent.com/marypazrf/bdd/main/EconomiesOfScale.csv')\n",
        "df.sample(10)"
      ],
      "execution_count": 106,
      "outputs": [
        {
          "output_type": "execute_result",
          "data": {
            "text/plain": [
              "     Number of Units  Manufacturing Cost\n",
              "968         7.065653           27.804027\n",
              "212         3.372115           41.127212\n",
              "416         4.194513           43.832711\n",
              "677         5.068888           41.225741\n",
              "550         4.604122           37.569764\n",
              "764         5.389522           31.191501\n",
              "386         4.104190           42.988730\n",
              "339         3.942214           46.291435\n",
              "82          2.665856           48.578425\n",
              "487         4.399514           37.567914"
            ],
            "text/html": [
              "\n",
              "  <div id=\"df-2a12522f-4f87-45a4-8eb1-3eab7530541d\">\n",
              "    <div class=\"colab-df-container\">\n",
              "      <div>\n",
              "<style scoped>\n",
              "    .dataframe tbody tr th:only-of-type {\n",
              "        vertical-align: middle;\n",
              "    }\n",
              "\n",
              "    .dataframe tbody tr th {\n",
              "        vertical-align: top;\n",
              "    }\n",
              "\n",
              "    .dataframe thead th {\n",
              "        text-align: right;\n",
              "    }\n",
              "</style>\n",
              "<table border=\"1\" class=\"dataframe\">\n",
              "  <thead>\n",
              "    <tr style=\"text-align: right;\">\n",
              "      <th></th>\n",
              "      <th>Number of Units</th>\n",
              "      <th>Manufacturing Cost</th>\n",
              "    </tr>\n",
              "  </thead>\n",
              "  <tbody>\n",
              "    <tr>\n",
              "      <th>968</th>\n",
              "      <td>7.065653</td>\n",
              "      <td>27.804027</td>\n",
              "    </tr>\n",
              "    <tr>\n",
              "      <th>212</th>\n",
              "      <td>3.372115</td>\n",
              "      <td>41.127212</td>\n",
              "    </tr>\n",
              "    <tr>\n",
              "      <th>416</th>\n",
              "      <td>4.194513</td>\n",
              "      <td>43.832711</td>\n",
              "    </tr>\n",
              "    <tr>\n",
              "      <th>677</th>\n",
              "      <td>5.068888</td>\n",
              "      <td>41.225741</td>\n",
              "    </tr>\n",
              "    <tr>\n",
              "      <th>550</th>\n",
              "      <td>4.604122</td>\n",
              "      <td>37.569764</td>\n",
              "    </tr>\n",
              "    <tr>\n",
              "      <th>764</th>\n",
              "      <td>5.389522</td>\n",
              "      <td>31.191501</td>\n",
              "    </tr>\n",
              "    <tr>\n",
              "      <th>386</th>\n",
              "      <td>4.104190</td>\n",
              "      <td>42.988730</td>\n",
              "    </tr>\n",
              "    <tr>\n",
              "      <th>339</th>\n",
              "      <td>3.942214</td>\n",
              "      <td>46.291435</td>\n",
              "    </tr>\n",
              "    <tr>\n",
              "      <th>82</th>\n",
              "      <td>2.665856</td>\n",
              "      <td>48.578425</td>\n",
              "    </tr>\n",
              "    <tr>\n",
              "      <th>487</th>\n",
              "      <td>4.399514</td>\n",
              "      <td>37.567914</td>\n",
              "    </tr>\n",
              "  </tbody>\n",
              "</table>\n",
              "</div>\n",
              "      <button class=\"colab-df-convert\" onclick=\"convertToInteractive('df-2a12522f-4f87-45a4-8eb1-3eab7530541d')\"\n",
              "              title=\"Convert this dataframe to an interactive table.\"\n",
              "              style=\"display:none;\">\n",
              "        \n",
              "  <svg xmlns=\"http://www.w3.org/2000/svg\" height=\"24px\"viewBox=\"0 0 24 24\"\n",
              "       width=\"24px\">\n",
              "    <path d=\"M0 0h24v24H0V0z\" fill=\"none\"/>\n",
              "    <path d=\"M18.56 5.44l.94 2.06.94-2.06 2.06-.94-2.06-.94-.94-2.06-.94 2.06-2.06.94zm-11 1L8.5 8.5l.94-2.06 2.06-.94-2.06-.94L8.5 2.5l-.94 2.06-2.06.94zm10 10l.94 2.06.94-2.06 2.06-.94-2.06-.94-.94-2.06-.94 2.06-2.06.94z\"/><path d=\"M17.41 7.96l-1.37-1.37c-.4-.4-.92-.59-1.43-.59-.52 0-1.04.2-1.43.59L10.3 9.45l-7.72 7.72c-.78.78-.78 2.05 0 2.83L4 21.41c.39.39.9.59 1.41.59.51 0 1.02-.2 1.41-.59l7.78-7.78 2.81-2.81c.8-.78.8-2.07 0-2.86zM5.41 20L4 18.59l7.72-7.72 1.47 1.35L5.41 20z\"/>\n",
              "  </svg>\n",
              "      </button>\n",
              "      \n",
              "  <style>\n",
              "    .colab-df-container {\n",
              "      display:flex;\n",
              "      flex-wrap:wrap;\n",
              "      gap: 12px;\n",
              "    }\n",
              "\n",
              "    .colab-df-convert {\n",
              "      background-color: #E8F0FE;\n",
              "      border: none;\n",
              "      border-radius: 50%;\n",
              "      cursor: pointer;\n",
              "      display: none;\n",
              "      fill: #1967D2;\n",
              "      height: 32px;\n",
              "      padding: 0 0 0 0;\n",
              "      width: 32px;\n",
              "    }\n",
              "\n",
              "    .colab-df-convert:hover {\n",
              "      background-color: #E2EBFA;\n",
              "      box-shadow: 0px 1px 2px rgba(60, 64, 67, 0.3), 0px 1px 3px 1px rgba(60, 64, 67, 0.15);\n",
              "      fill: #174EA6;\n",
              "    }\n",
              "\n",
              "    [theme=dark] .colab-df-convert {\n",
              "      background-color: #3B4455;\n",
              "      fill: #D2E3FC;\n",
              "    }\n",
              "\n",
              "    [theme=dark] .colab-df-convert:hover {\n",
              "      background-color: #434B5C;\n",
              "      box-shadow: 0px 1px 3px 1px rgba(0, 0, 0, 0.15);\n",
              "      filter: drop-shadow(0px 1px 2px rgba(0, 0, 0, 0.3));\n",
              "      fill: #FFFFFF;\n",
              "    }\n",
              "  </style>\n",
              "\n",
              "      <script>\n",
              "        const buttonEl =\n",
              "          document.querySelector('#df-2a12522f-4f87-45a4-8eb1-3eab7530541d button.colab-df-convert');\n",
              "        buttonEl.style.display =\n",
              "          google.colab.kernel.accessAllowed ? 'block' : 'none';\n",
              "\n",
              "        async function convertToInteractive(key) {\n",
              "          const element = document.querySelector('#df-2a12522f-4f87-45a4-8eb1-3eab7530541d');\n",
              "          const dataTable =\n",
              "            await google.colab.kernel.invokeFunction('convertToInteractive',\n",
              "                                                     [key], {});\n",
              "          if (!dataTable) return;\n",
              "\n",
              "          const docLinkHtml = 'Like what you see? Visit the ' +\n",
              "            '<a target=\"_blank\" href=https://colab.research.google.com/notebooks/data_table.ipynb>data table notebook</a>'\n",
              "            + ' to learn more about interactive tables.';\n",
              "          element.innerHTML = '';\n",
              "          dataTable['output_type'] = 'display_data';\n",
              "          await google.colab.output.renderOutput(dataTable, element);\n",
              "          const docLink = document.createElement('div');\n",
              "          docLink.innerHTML = docLinkHtml;\n",
              "          element.appendChild(docLink);\n",
              "        }\n",
              "      </script>\n",
              "    </div>\n",
              "  </div>\n",
              "  "
            ]
          },
          "metadata": {},
          "execution_count": 106
        }
      ]
    },
    {
      "cell_type": "code",
      "metadata": {
        "id": "14kGO5nkMGlV"
      },
      "source": [
        "X = df[['Number of Units']]\n",
        "y = df['Manufacturing Cost']"
      ],
      "execution_count": 107,
      "outputs": []
    },
    {
      "cell_type": "code",
      "source": [
        "len(X)"
      ],
      "metadata": {
        "id": "ksh_OrkjY3GW",
        "outputId": "a888a085-bcb3-402e-e698-42edb0a6a497",
        "colab": {
          "base_uri": "https://localhost:8080/"
        }
      },
      "execution_count": 108,
      "outputs": [
        {
          "output_type": "execute_result",
          "data": {
            "text/plain": [
              "1000"
            ]
          },
          "metadata": {},
          "execution_count": 108
        }
      ]
    },
    {
      "cell_type": "code",
      "source": [
        "y.describe"
      ],
      "metadata": {
        "colab": {
          "base_uri": "https://localhost:8080/"
        },
        "id": "bwR6SSqQDfC2",
        "outputId": "9829cada-ce64-41b6-fb3c-753ab14378cc"
      },
      "execution_count": 109,
      "outputs": [
        {
          "output_type": "execute_result",
          "data": {
            "text/plain": [
              "<bound method NDFrame.describe of 0      95.066056\n",
              "1      96.531750\n",
              "2      73.661311\n",
              "3      95.566843\n",
              "4      98.777013\n",
              "         ...    \n",
              "995    23.855067\n",
              "996    27.536542\n",
              "997    25.973787\n",
              "998    25.138311\n",
              "999    21.547777\n",
              "Name: Manufacturing Cost, Length: 1000, dtype: float64>"
            ]
          },
          "metadata": {},
          "execution_count": 109
        }
      ]
    },
    {
      "cell_type": "code",
      "metadata": {
        "colab": {
          "base_uri": "https://localhost:8080/",
          "height": 282
        },
        "id": "idoEjfEhMoxk",
        "outputId": "f9e9bf59-d080-4c52-ddcd-dc3f8fcc6422"
      },
      "source": [
        "plt.plot(X,y,'b.')"
      ],
      "execution_count": 110,
      "outputs": [
        {
          "output_type": "execute_result",
          "data": {
            "text/plain": [
              "[<matplotlib.lines.Line2D at 0x7f1c33c7c110>]"
            ]
          },
          "metadata": {},
          "execution_count": 110
        },
        {
          "output_type": "display_data",
          "data": {
            "text/plain": [
              "<Figure size 432x288 with 1 Axes>"
            ],
            "image/png": "[encoded data removed]"
          },
          "metadata": {
            "needs_background": "light"
          }
        }
      ]
    },
    {
      "cell_type": "markdown",
      "source": [
        "#Regresion Lineal"
      ],
      "metadata": {
        "id": "Q0MzrHe1ODZY"
      }
    },
    {
      "cell_type": "code",
      "source": [
        "from sklearn.model_selection import train_test_split\n",
        "\n",
        "\n",
        "x_train, x_test, y_train, y_test = train_test_split(X, y, test_size=0.30, random_state=1)\n",
        "\n",
        "\n",
        "print(\"number of test samples :\", x_test.shape[0])\n",
        "print(\"number of training samples:\",x_train.shape[0])"
      ],
      "metadata": {
        "colab": {
          "base_uri": "https://localhost:8080/"
        },
        "id": "LD6MO3-ssGnm",
        "outputId": "9ec87d64-8787-4fc1-8509-15a31ff5e391"
      },
      "execution_count": 111,
      "outputs": [
        {
          "output_type": "stream",
          "name": "stdout",
          "text": [
            "number of test samples : 300\n",
            "number of training samples: 700\n"
          ]
        }
      ]
    },
    {
      "cell_type": "code",
      "source": [
        "from sklearn.linear_model import LinearRegression\n",
        "\n",
        "lre=LinearRegression() "
      ],
      "metadata": {
        "id": "OkyDvpu9sodi"
      },
      "execution_count": 112,
      "outputs": []
    },
    {
      "cell_type": "code",
      "source": [
        "## Aqui entreno al modelo, le doy X train para que me calcule Y train\n",
        "lre.fit(x_train, y_train)"
      ],
      "metadata": {
        "colab": {
          "base_uri": "https://localhost:8080/"
        },
        "id": "wUvJyNGisuLM",
        "outputId": "5e7e8a2d-7fb6-42a2-d56c-432e0f4be402"
      },
      "execution_count": 113,
      "outputs": [
        {
          "output_type": "execute_result",
          "data": {
            "text/plain": [
              "LinearRegression()"
            ]
          },
          "metadata": {},
          "execution_count": 113
        }
      ]
    },
    {
      "cell_type": "code",
      "source": [
        "#value of the intercept (a)\n",
        "lre.intercept_"
      ],
      "metadata": {
        "colab": {
          "base_uri": "https://localhost:8080/"
        },
        "id": "2YD7nDHMuPma",
        "outputId": "f163d167-6a96-4287-9426-8c7cc1657934"
      },
      "execution_count": 114,
      "outputs": [
        {
          "output_type": "execute_result",
          "data": {
            "text/plain": [
              "66.54024495702701"
            ]
          },
          "metadata": {},
          "execution_count": 114
        }
      ]
    },
    {
      "cell_type": "code",
      "source": [
        "# value of the slope (b)\n",
        "lre.coef_"
      ],
      "metadata": {
        "colab": {
          "base_uri": "https://localhost:8080/"
        },
        "id": "DnLpmFGYuUYO",
        "outputId": "12d405b4-fb47-4b0d-c582-5b31c50587b9"
      },
      "execution_count": 115,
      "outputs": [
        {
          "output_type": "execute_result",
          "data": {
            "text/plain": [
              "array([-5.97986829])"
            ]
          },
          "metadata": {},
          "execution_count": 115
        }
      ]
    },
    {
      "cell_type": "markdown",
      "source": [
        "The model with train data estimates:\n",
        "\n",
        "$\\hat{y} = -5.97X + 66.54$"
      ],
      "metadata": {
        "id": "w_4fPg7Qup31"
      }
    },
    {
      "cell_type": "code",
      "source": [
        "#Luego hago predicciones con data de entrenamiento -Pruebo mi modelo con datos de entrenamiento\n",
        "yhat_train = lre.predict(x_train)\n",
        "yhat_train[0:5]"
      ],
      "metadata": {
        "colab": {
          "base_uri": "https://localhost:8080/"
        },
        "id": "LgbclCWb2p5u",
        "outputId": "86bbfa7b-4730-4a45-d2a5-cb4ac3e895c1"
      },
      "execution_count": 116,
      "outputs": [
        {
          "output_type": "execute_result",
          "data": {
            "text/plain": [
              "array([35.04441734, 35.37964761, 36.81223785, 33.32101541, 34.9384962 ])"
            ]
          },
          "metadata": {},
          "execution_count": 116
        }
      ]
    },
    {
      "cell_type": "code",
      "source": [
        "#Luego hago predicciones con data de validacion - pruebo mi modelo con datos de validacion\n",
        "yhat_test = lre.predict(x_test)\n",
        "yhat_test[0:5]"
      ],
      "metadata": {
        "colab": {
          "base_uri": "https://localhost:8080/"
        },
        "id": "jeaPOx-a3CbF",
        "outputId": "4bbc5986-ae64-44ab-8cb1-21b4c3888878"
      },
      "execution_count": 117,
      "outputs": [
        {
          "output_type": "execute_result",
          "data": {
            "text/plain": [
              "array([39.86042656, 32.94475465, 40.91624257, 42.31234513, 45.29678439])"
            ]
          },
          "metadata": {},
          "execution_count": 117
        }
      ]
    },
    {
      "cell_type": "code",
      "source": [
        "from matplotlib import pyplot as plt \n",
        "\n",
        "import seaborn as sns \n",
        "\n",
        "plt.scatter(x_train, y_train,color='g') \n",
        "plt.plot(x_test, yhat_test,color='k')\n",
        "plt.show()"
      ],
      "metadata": {
        "colab": {
          "base_uri": "https://localhost:8080/",
          "height": 265
        },
        "id": "FPVHkcGZ8yIu",
        "outputId": "20f1834a-cee0-4ed1-bcec-1d91a4a3d596"
      },
      "execution_count": 118,
      "outputs": [
        {
          "output_type": "display_data",
          "data": {
            "text/plain": [
              "<Figure size 432x288 with 1 Axes>"
            ],
            "image/png": "[encoded data removed]"
          },
          "metadata": {
            "needs_background": "light"
          }
        }
      ]
    },
    {
      "cell_type": "code",
      "source": [
        "from sklearn.metrics import r2_score\n",
        "from sklearn.metrics import mean_absolute_error\n",
        "from sklearn.metrics import mean_absolute_percentage_error\n",
        "from sklearn.metrics import mean_squared_error\n",
        "\n",
        "RLRsquare =r2_score(y_test, yhat_test)\n",
        "RLMAE=  mean_absolute_error(y_test, yhat_test)\n",
        "RLMAPE= mean_absolute_percentage_error(y_test, yhat_test)\n",
        "RLRMSE = mean_squared_error (y_test, yhat_test,squared=True)\n",
        "\n",
        "\n",
        "print(RLRsquare, ': R^2')\n",
        "print(RLMAE, ': MAE Mean absolute error')\n",
        "print(RLMAPE, ': MAPE mean absolute percentage error')\n",
        "print(RLRMSE, ': RMSE root mean squared error')\n"
      ],
      "metadata": {
        "colab": {
          "base_uri": "https://localhost:8080/"
        },
        "id": "OAHgtrE2M6f4",
        "outputId": "c0e48d83-25c7-4146-929f-71ab93f50def"
      },
      "execution_count": 119,
      "outputs": [
        {
          "output_type": "stream",
          "name": "stdout",
          "text": [
            "0.5733759051176386 : R^2\n",
            "5.102686032375684 : MAE Mean absolute error\n",
            "0.1282992506825898 : MAPE mean absolute percentage error\n",
            "52.64363355549199 : RMSE root mean squared error\n"
          ]
        }
      ]
    },
    {
      "cell_type": "markdown",
      "source": [
        "#Regresion Polinomial"
      ],
      "metadata": {
        "id": "JS36Yy0NOMn8"
      }
    },
    {
      "cell_type": "code",
      "source": [
        "from ipywidgets import interact, interactive, fixed, interact_manual\n",
        "from sklearn.preprocessing import PolynomialFeatures"
      ],
      "metadata": {
        "id": "KdTrBfBXVoY0"
      },
      "execution_count": 120,
      "outputs": []
    },
    {
      "cell_type": "code",
      "source": [
        "def PollyPlot(xtrain, xtest, y_train, y_test, lr,poly_transform):\n",
        "    width = 6\n",
        "    height = 5\n",
        "    plt.figure(figsize=(width, height))\n",
        "    \n",
        "    \n",
        "    #training data \n",
        "    #testing data \n",
        "    # lr:  linear regression object \n",
        "    #poly_transform:  polynomial transformation object \n",
        " \n",
        "    xmax=max([xtrain.values.max(), xtest.values.max()])\n",
        "\n",
        "    xmin=min([xtrain.values.min(), xtest.values.min()])\n",
        "\n",
        "    x=np.arange(xmin, xmax, 0.1)\n",
        "\n",
        "\n",
        "    plt.plot(xtrain, y_train, 'ro', label='Training Data')\n",
        "    plt.plot(xtest, y_test, 'go', label='Test Data')\n",
        "    plt.plot(x, lr.predict(poly_transform.fit_transform(x.reshape(-1, 1))), label='Predicted Function')\n",
        "    plt.ylim([0, 100])\n",
        "    plt.ylabel('Price')\n",
        "    plt.legend()"
      ],
      "metadata": {
        "id": "9FFJFFU8Vqgv"
      },
      "execution_count": 121,
      "outputs": []
    },
    {
      "cell_type": "code",
      "source": [
        "def f(order, test_data):\n",
        "    x_train, x_test, y_train, y_test = train_test_split(X, y, test_size=test_data, random_state=0)\n",
        "    pr = PolynomialFeatures(degree=order)\n",
        "    x_train_pr = pr.fit_transform(x_train)\n",
        "    x_test_pr = pr.fit_transform(x_test)\n",
        "    poly = LinearRegression()\n",
        "    poly.fit(x_train_pr,y_train)\n",
        "    PollyPlot(x_train, x_test, y_train,y_test, poly, pr)\n"
      ],
      "metadata": {
        "id": "LWvfEDGKuoLJ"
      },
      "execution_count": 122,
      "outputs": []
    },
    {
      "cell_type": "code",
      "source": [
        "interact(f, order=(0, 6, 1), test_data=(0.05, 0.95, 0.05))"
      ],
      "metadata": {
        "colab": {
          "base_uri": "https://localhost:8080/",
          "height": 405,
          "referenced_widgets": [
            "73ff971065144e438cae45a15a5a987f",
            "80b34ca2cc2f446990ddc96d4accf26f",
            "59260797ed354f66bb1aaf3b4a723979",
            "fa0c21ba6c7e4501ac54a9b863b07f3c",
            "ce2c2ea8d0c348fda666ae5627aeae6a",
            "2856263b7c6e477cb45d23c2594bb97f",
            "ba61d465a29d430098fa1ea4ee1bfc95",
            "ae09d6daed354afbb91ca0c4b10fc272",
            "fb9bb809fc1247809df23d31274974ad",
            "bb66e5cfe4944aca97dbb4d9f743126f"
          ]
        },
        "id": "GtI3eCKeUsXW",
        "outputId": "6d9a1f99-a70d-48f5-f1a2-0a196b160d00"
      },
      "execution_count": 123,
      "outputs": [
        {
          "output_type": "display_data",
          "data": {
            "text/plain": [
              "interactive(children=(IntSlider(value=3, description='order', max=6), FloatSlider(value=0.45, description='tes…"
            ],
            "application/vnd.jupyter.widget-view+json": {
              "version_major": 2,
              "version_minor": 0,
              "model_id": "73ff971065144e438cae45a15a5a987f"
            }
          },
          "metadata": {}
        },
        {
          "output_type": "execute_result",
          "data": {
            "text/plain": [
              "<function __main__.f(order, test_data)>"
            ]
          },
          "metadata": {},
          "execution_count": 123
        }
      ]
    },
    {
      "cell_type": "code",
      "source": [
        "x_train, x_test, y_train, y_test = train_test_split(X, y, test_size=0.30, random_state=1)\n",
        "\n",
        "print(\"number of test samples :\", x_test.shape[0])\n",
        "print(\"number of training samples:\",x_train.shape[0])"
      ],
      "metadata": {
        "colab": {
          "base_uri": "https://localhost:8080/"
        },
        "id": "28C-0VNSYYvu",
        "outputId": "e93cb6b5-7e9a-46bc-ef9a-67fa9eaf2d04"
      },
      "execution_count": 124,
      "outputs": [
        {
          "output_type": "stream",
          "name": "stdout",
          "text": [
            "number of test samples : 300\n",
            "number of training samples: 700\n"
          ]
        }
      ]
    },
    {
      "cell_type": "code",
      "source": [
        "pr = PolynomialFeatures(degree=3)\n",
        "x_train_pr = pr.fit_transform(x_train)\n",
        "x_test_pr = pr.fit_transform(x_test)\n",
        "pr"
      ],
      "metadata": {
        "colab": {
          "base_uri": "https://localhost:8080/"
        },
        "id": "WyWQcb3uYB4g",
        "outputId": "935777c4-bf8a-4c1f-d666-7584a057b2ff"
      },
      "execution_count": 125,
      "outputs": [
        {
          "output_type": "execute_result",
          "data": {
            "text/plain": [
              "PolynomialFeatures(degree=3)"
            ]
          },
          "metadata": {},
          "execution_count": 125
        }
      ]
    },
    {
      "cell_type": "code",
      "source": [
        "poly = LinearRegression()\n",
        "poly.fit(x_train_pr, y_train)\n"
      ],
      "metadata": {
        "colab": {
          "base_uri": "https://localhost:8080/"
        },
        "id": "M1yW0XSlYkba",
        "outputId": "741cecd0-203a-4b76-a3c3-e0bbbb265ac2"
      },
      "execution_count": 126,
      "outputs": [
        {
          "output_type": "execute_result",
          "data": {
            "text/plain": [
              "LinearRegression()"
            ]
          },
          "metadata": {},
          "execution_count": 126
        }
      ]
    },
    {
      "cell_type": "code",
      "source": [
        "poly.intercept_"
      ],
      "metadata": {
        "colab": {
          "base_uri": "https://localhost:8080/"
        },
        "id": "3VsRNxfDGO9V",
        "outputId": "a0964482-8330-4c30-d4f1-9c2e4ed4914a"
      },
      "execution_count": 127,
      "outputs": [
        {
          "output_type": "execute_result",
          "data": {
            "text/plain": [
              "107.65033192166231"
            ]
          },
          "metadata": {},
          "execution_count": 127
        }
      ]
    },
    {
      "cell_type": "code",
      "source": [
        "poly.coef_"
      ],
      "metadata": {
        "colab": {
          "base_uri": "https://localhost:8080/"
        },
        "id": "-Za40TcKGXa9",
        "outputId": "1a446213-420d-4104-96b0-c8401996aa61"
      },
      "execution_count": 128,
      "outputs": [
        {
          "output_type": "execute_result",
          "data": {
            "text/plain": [
              "array([  0.        , -30.96438387,   4.44261447,  -0.22936049])"
            ]
          },
          "metadata": {},
          "execution_count": 128
        }
      ]
    },
    {
      "cell_type": "code",
      "source": [
        "yhat = poly.predict(x_test_pr)\n"
      ],
      "metadata": {
        "id": "sFqNIzV2YqXr"
      },
      "execution_count": 129,
      "outputs": []
    },
    {
      "cell_type": "code",
      "source": [
        "PollyPlot(x_train, x_test, y_train, y_test, poly,pr)"
      ],
      "metadata": {
        "colab": {
          "base_uri": "https://localhost:8080/",
          "height": 324
        },
        "id": "A8lY7SN7ZBCs",
        "outputId": "2b6e1ede-5d21-4d7d-880a-32a6da41bceb"
      },
      "execution_count": 130,
      "outputs": [
        {
          "output_type": "display_data",
          "data": {
            "text/plain": [
              "<Figure size 432x360 with 1 Axes>"
            ],
            "image/png": "[encoded data removed]"
          },
          "metadata": {
            "needs_background": "light"
          }
        }
      ]
    },
    {
      "cell_type": "code",
      "source": [
        "\n",
        "PolyRsquare =r2_score(y_test, yhat)\n",
        "PolyMAE=  mean_absolute_error(y_test, yhat)\n",
        "PolyMAPE= mean_absolute_percentage_error(y_test, yhat)\n",
        "PolyRMSE = mean_squared_error (y_test, yhat,squared=True)\n",
        "\n",
        "\n",
        "print(PolyRsquare, ': R^2')\n",
        "print(PolyMAE, ': MAE Mean absolute error')\n",
        "print(PolyMAPE, ': MAPE mean absolute percentage error')\n",
        "print(PolyRMSE, ': RMSE root mean squared error')\n"
      ],
      "metadata": {
        "colab": {
          "base_uri": "https://localhost:8080/"
        },
        "id": "6eT1bM1pZNee",
        "outputId": "018bc2da-c4bf-4d13-82b2-b318c038b7ac"
      },
      "execution_count": 131,
      "outputs": [
        {
          "output_type": "stream",
          "name": "stdout",
          "text": [
            "0.7107533398311705 : R^2\n",
            "4.497721019064544 : MAE Mean absolute error\n",
            "0.11264368755719056 : MAPE mean absolute percentage error\n",
            "35.691831210978656 : RMSE root mean squared error\n"
          ]
        }
      ]
    },
    {
      "cell_type": "markdown",
      "source": [
        "#Regresión con Ridge"
      ],
      "metadata": {
        "id": "sO9fIATHePOo"
      }
    },
    {
      "cell_type": "code",
      "metadata": {
        "id": "-VDz4zLK9Q0K"
      },
      "source": [
        "from sklearn.linear_model import Lasso, Ridge\n",
        "from sklearn.model_selection import GridSearchCV"
      ],
      "execution_count": 132,
      "outputs": []
    },
    {
      "cell_type": "code",
      "source": [
        "parameters1= [{'alpha': [0.001,0.005,0.1,1, 10, 100, 1000, 10000, 100000, 100000]}]\n",
        "parameters1"
      ],
      "metadata": {
        "colab": {
          "base_uri": "https://localhost:8080/"
        },
        "id": "rxYd3IsvqMh-",
        "outputId": "24b9cd32-f03b-443a-a4b7-908c8ea5f462"
      },
      "execution_count": 133,
      "outputs": [
        {
          "output_type": "execute_result",
          "data": {
            "text/plain": [
              "[{'alpha': [0.001, 0.005, 0.1, 1, 10, 100, 1000, 10000, 100000, 100000]}]"
            ]
          },
          "metadata": {},
          "execution_count": 133
        }
      ]
    },
    {
      "cell_type": "code",
      "source": [
        "RR=Ridge()\n",
        "RR"
      ],
      "metadata": {
        "colab": {
          "base_uri": "https://localhost:8080/"
        },
        "id": "WRyduN6WqPA2",
        "outputId": "87dc1b46-b831-4db4-d05d-e984f720b2aa"
      },
      "execution_count": 134,
      "outputs": [
        {
          "output_type": "execute_result",
          "data": {
            "text/plain": [
              "Ridge()"
            ]
          },
          "metadata": {},
          "execution_count": 134
        }
      ]
    },
    {
      "cell_type": "code",
      "source": [
        "Grid1 = GridSearchCV(RR, parameters1,cv=4)"
      ],
      "metadata": {
        "id": "jZ0t6D5fqQvl"
      },
      "execution_count": 135,
      "outputs": []
    },
    {
      "cell_type": "code",
      "source": [
        "Grid1.fit(x_train, y_train)"
      ],
      "metadata": {
        "colab": {
          "base_uri": "https://localhost:8080/"
        },
        "id": "JNZbuMC4qSQG",
        "outputId": "a1afbb82-f194-4fb4-a600-4685241f3e39"
      },
      "execution_count": 136,
      "outputs": [
        {
          "output_type": "execute_result",
          "data": {
            "text/plain": [
              "GridSearchCV(cv=4, estimator=Ridge(),\n",
              "             param_grid=[{'alpha': [0.001, 0.005, 0.1, 1, 10, 100, 1000, 10000,\n",
              "                                    100000, 100000]}])"
            ]
          },
          "metadata": {},
          "execution_count": 136
        }
      ]
    },
    {
      "cell_type": "code",
      "source": [
        "BestRR=Grid1.best_estimator_\n",
        "BestRR"
      ],
      "metadata": {
        "colab": {
          "base_uri": "https://localhost:8080/"
        },
        "id": "d0A-4Gw6qr2J",
        "outputId": "ab72a8ff-ced6-4c92-89b9-3b50c31a42d5"
      },
      "execution_count": 137,
      "outputs": [
        {
          "output_type": "execute_result",
          "data": {
            "text/plain": [
              "Ridge(alpha=10)"
            ]
          },
          "metadata": {},
          "execution_count": 137
        }
      ]
    },
    {
      "cell_type": "code",
      "source": [
        "pr = PolynomialFeatures(degree=3)\n",
        "x_train_pr = pr.fit_transform(x_train)\n",
        "x_test_pr = pr.fit_transform(x_test)\n",
        "pr"
      ],
      "metadata": {
        "colab": {
          "base_uri": "https://localhost:8080/"
        },
        "id": "xzcs0eEFq4lq",
        "outputId": "3454879e-d323-4156-c7af-d6ebcfb39a94"
      },
      "execution_count": 138,
      "outputs": [
        {
          "output_type": "execute_result",
          "data": {
            "text/plain": [
              "PolynomialFeatures(degree=3)"
            ]
          },
          "metadata": {},
          "execution_count": 138
        }
      ]
    },
    {
      "cell_type": "code",
      "source": [
        "RidgeModel=Ridge(alpha=10)"
      ],
      "metadata": {
        "id": "8uFJ34Jnq8nF"
      },
      "execution_count": 139,
      "outputs": []
    },
    {
      "cell_type": "code",
      "source": [
        "RidgeModel.fit(x_train_pr, y_train)"
      ],
      "metadata": {
        "colab": {
          "base_uri": "https://localhost:8080/"
        },
        "id": "b32juNpnrA5l",
        "outputId": "256fd821-93ed-4ba0-c887-39273ed61cb9"
      },
      "execution_count": 140,
      "outputs": [
        {
          "output_type": "execute_result",
          "data": {
            "text/plain": [
              "Ridge(alpha=10)"
            ]
          },
          "metadata": {},
          "execution_count": 140
        }
      ]
    },
    {
      "cell_type": "code",
      "source": [
        "RidgeModel.intercept_"
      ],
      "metadata": {
        "colab": {
          "base_uri": "https://localhost:8080/"
        },
        "id": "yDvYJ-XhGf05",
        "outputId": "b312e966-adc8-485b-c128-fec9fe471f70"
      },
      "execution_count": 141,
      "outputs": [
        {
          "output_type": "execute_result",
          "data": {
            "text/plain": [
              "79.74052620631434"
            ]
          },
          "metadata": {},
          "execution_count": 141
        }
      ]
    },
    {
      "cell_type": "code",
      "source": [
        "RidgeModel.coef_"
      ],
      "metadata": {
        "colab": {
          "base_uri": "https://localhost:8080/"
        },
        "id": "DLjswHLfGjV6",
        "outputId": "8e6cda52-4b13-43ba-d4ea-0651e452516f"
      },
      "execution_count": 142,
      "outputs": [
        {
          "output_type": "execute_result",
          "data": {
            "text/plain": [
              "array([  0.        , -11.60376535,   0.37859275,   0.03289299])"
            ]
          },
          "metadata": {},
          "execution_count": 142
        }
      ]
    },
    {
      "cell_type": "code",
      "source": [
        "yhat = RidgeModel.predict(x_test_pr)"
      ],
      "metadata": {
        "id": "bMbkgM-FrKVW"
      },
      "execution_count": 143,
      "outputs": []
    },
    {
      "cell_type": "code",
      "source": [
        "PollyPlot(x_train, x_test, y_train, y_test, RidgeModel,pr)"
      ],
      "metadata": {
        "colab": {
          "base_uri": "https://localhost:8080/",
          "height": 324
        },
        "id": "SQwOR0CD11Yn",
        "outputId": "eadda091-7879-4040-a54b-0f7047316d53"
      },
      "execution_count": 144,
      "outputs": [
        {
          "output_type": "display_data",
          "data": {
            "text/plain": [
              "<Figure size 432x360 with 1 Axes>"
            ],
            "image/png": "[encoded data removed]"
          },
          "metadata": {
            "needs_background": "light"
          }
        }
      ]
    },
    {
      "cell_type": "code",
      "source": [
        "\n",
        "RidgeRsquare =r2_score(y_test, yhat)\n",
        "RidgeMAE=  mean_absolute_error(y_test, yhat)\n",
        "RidgeMAPE= mean_absolute_percentage_error(y_test, yhat)\n",
        "RidgeRMSE = mean_squared_error (y_test, yhat,squared=True)\n",
        "\n",
        "\n",
        "print(RidgeRsquare, ': R^2')\n",
        "print(RidgeMAE, ': MAE Mean absolute error')\n",
        "print(RidgeMAPE, ': MAPE mean absolute percentage error')\n",
        "print(RidgeRMSE, ': RMSE root mean squared error')"
      ],
      "metadata": {
        "colab": {
          "base_uri": "https://localhost:8080/"
        },
        "id": "LIZyZvB9rbH0",
        "outputId": "a73f856a-99b7-48f6-c1fc-146a6d5eb414"
      },
      "execution_count": 145,
      "outputs": [
        {
          "output_type": "stream",
          "name": "stdout",
          "text": [
            "0.6664399091465326 : R^2\n",
            "4.654216888618585 : MAE Mean absolute error\n",
            "0.11564028770709191 : MAPE mean absolute percentage error\n",
            "41.15992369457835 : RMSE root mean squared error\n"
          ]
        }
      ]
    },
    {
      "cell_type": "markdown",
      "source": [
        "#Regresion con Lasso"
      ],
      "metadata": {
        "id": "QlA--iMFsKY6"
      }
    },
    {
      "cell_type": "code",
      "source": [
        "parameters1= [{'alpha': [0.001,0.01,0.1,0.2,0.4,1]}]\n",
        "parameters1"
      ],
      "metadata": {
        "colab": {
          "base_uri": "https://localhost:8080/"
        },
        "id": "HTFjE5rxsP__",
        "outputId": "700fb172-9d61-4a87-a0f2-31ce5ac2dde4"
      },
      "execution_count": 146,
      "outputs": [
        {
          "output_type": "execute_result",
          "data": {
            "text/plain": [
              "[{'alpha': [0.001, 0.01, 0.1, 0.2, 0.4, 1]}]"
            ]
          },
          "metadata": {},
          "execution_count": 146
        }
      ]
    },
    {
      "cell_type": "code",
      "source": [
        "LS=Lasso()\n",
        "LS"
      ],
      "metadata": {
        "colab": {
          "base_uri": "https://localhost:8080/"
        },
        "id": "oOZRyXMMs2-w",
        "outputId": "5d2ff98f-f228-472d-d664-11a8b40ee162"
      },
      "execution_count": 147,
      "outputs": [
        {
          "output_type": "execute_result",
          "data": {
            "text/plain": [
              "Lasso()"
            ]
          },
          "metadata": {},
          "execution_count": 147
        }
      ]
    },
    {
      "cell_type": "code",
      "source": [
        "Grid2 = GridSearchCV(LS, parameters1,cv=4)"
      ],
      "metadata": {
        "id": "KRjewDaxtGSx"
      },
      "execution_count": 148,
      "outputs": []
    },
    {
      "cell_type": "code",
      "source": [
        "Grid2.fit(x_train, y_train)"
      ],
      "metadata": {
        "colab": {
          "base_uri": "https://localhost:8080/"
        },
        "id": "DTokpoQHtIfx",
        "outputId": "542dd64b-b1e8-4ff1-e40b-49a0c5ea40eb"
      },
      "execution_count": 149,
      "outputs": [
        {
          "output_type": "execute_result",
          "data": {
            "text/plain": [
              "GridSearchCV(cv=4, estimator=Lasso(),\n",
              "             param_grid=[{'alpha': [0.001, 0.01, 0.1, 0.2, 0.4, 1]}])"
            ]
          },
          "metadata": {},
          "execution_count": 149
        }
      ]
    },
    {
      "cell_type": "code",
      "source": [
        "BestLS=Grid2.best_estimator_\n",
        "BestLS"
      ],
      "metadata": {
        "colab": {
          "base_uri": "https://localhost:8080/"
        },
        "id": "GOqT11nptTxB",
        "outputId": "94b6f4a1-095e-4d5a-b015-508ff6c84c09"
      },
      "execution_count": 150,
      "outputs": [
        {
          "output_type": "execute_result",
          "data": {
            "text/plain": [
              "Lasso(alpha=0.2)"
            ]
          },
          "metadata": {},
          "execution_count": 150
        }
      ]
    },
    {
      "cell_type": "code",
      "source": [
        "pr = PolynomialFeatures(degree=3)\n",
        "x_train_pr = pr.fit_transform(x_train)\n",
        "x_test_pr = pr.fit_transform(x_test)\n",
        "pr"
      ],
      "metadata": {
        "colab": {
          "base_uri": "https://localhost:8080/"
        },
        "id": "ztbVehBHtc-c",
        "outputId": "ded0867a-3fd5-406a-e3ad-2f13c8bba181"
      },
      "execution_count": 151,
      "outputs": [
        {
          "output_type": "execute_result",
          "data": {
            "text/plain": [
              "PolynomialFeatures(degree=3)"
            ]
          },
          "metadata": {},
          "execution_count": 151
        }
      ]
    },
    {
      "cell_type": "code",
      "source": [
        "LassoModel=Lasso(alpha=0.2)"
      ],
      "metadata": {
        "id": "RTauCbgCtdfw"
      },
      "execution_count": 152,
      "outputs": []
    },
    {
      "cell_type": "code",
      "source": [
        "LassoModel.fit(x_train_pr, y_train)"
      ],
      "metadata": {
        "colab": {
          "base_uri": "https://localhost:8080/"
        },
        "id": "eu6ouTCLtoLs",
        "outputId": "22c32e0e-1a75-4df9-90cf-be6aed647da8"
      },
      "execution_count": 153,
      "outputs": [
        {
          "output_type": "execute_result",
          "data": {
            "text/plain": [
              "Lasso(alpha=0.2)"
            ]
          },
          "metadata": {},
          "execution_count": 153
        }
      ]
    },
    {
      "cell_type": "code",
      "source": [
        "LassoModel.intercept_"
      ],
      "metadata": {
        "colab": {
          "base_uri": "https://localhost:8080/"
        },
        "id": "cXDF-E7UGoQ9",
        "outputId": "cb452c30-0f46-4366-e9f2-016001dbedf3"
      },
      "execution_count": 154,
      "outputs": [
        {
          "output_type": "execute_result",
          "data": {
            "text/plain": [
              "76.90753587844631"
            ]
          },
          "metadata": {},
          "execution_count": 154
        }
      ]
    },
    {
      "cell_type": "code",
      "source": [
        "LassoModel.coef_"
      ],
      "metadata": {
        "colab": {
          "base_uri": "https://localhost:8080/"
        },
        "id": "iGaU0PgWGsZR",
        "outputId": "d7b608a6-7f52-424d-f748-e2e1694cac35"
      },
      "execution_count": 155,
      "outputs": [
        {
          "output_type": "execute_result",
          "data": {
            "text/plain": [
              "array([ 0.        , -9.72353228, -0.        ,  0.05635313])"
            ]
          },
          "metadata": {},
          "execution_count": 155
        }
      ]
    },
    {
      "cell_type": "code",
      "source": [
        "yhat = LassoModel.predict(x_test_pr)"
      ],
      "metadata": {
        "id": "eYrA29UTvoLH"
      },
      "execution_count": 156,
      "outputs": []
    },
    {
      "cell_type": "code",
      "source": [
        "PollyPlot(x_train, x_test, y_train, y_test, LassoModel,pr)"
      ],
      "metadata": {
        "colab": {
          "base_uri": "https://localhost:8080/",
          "height": 324
        },
        "id": "D3MV3sUz2V5c",
        "outputId": "1288eb9f-751a-4c8b-b0e2-bd780defb211"
      },
      "execution_count": 157,
      "outputs": [
        {
          "output_type": "display_data",
          "data": {
            "text/plain": [
              "<Figure size 432x360 with 1 Axes>"
            ],
            "image/png": "[encoded data removed]"
          },
          "metadata": {
            "needs_background": "light"
          }
        }
      ]
    },
    {
      "cell_type": "code",
      "source": [
        "LassoRsquare =r2_score(y_test, yhat)\n",
        "LassoMAE=  mean_absolute_error(y_test, yhat)\n",
        "LassoMAPE= mean_absolute_percentage_error(y_test, yhat)\n",
        "LassoRMSE = mean_squared_error (y_test, yhat,squared=True)\n",
        "\n",
        "\n",
        "print(LassoRsquare, ': R^2')\n",
        "print(LassoMAE, ': MAE Mean absolute error')\n",
        "print(LassoMAPE, ': MAPE mean absolute percentage error')\n",
        "print(LassoRMSE, ': RMSE root mean squared error')"
      ],
      "metadata": {
        "colab": {
          "base_uri": "https://localhost:8080/"
        },
        "id": "XfRihZmcvwml",
        "outputId": "a5e34bfe-f666-4b5d-beb9-5154e8d09048"
      },
      "execution_count": 158,
      "outputs": [
        {
          "output_type": "stream",
          "name": "stdout",
          "text": [
            "0.6589411323088574 : R^2\n",
            "4.683138164464425 : MAE Mean absolute error\n",
            "0.11624937599966581 : MAPE mean absolute percentage error\n",
            "42.08524147360778 : RMSE root mean squared error\n"
          ]
        }
      ]
    },
    {
      "cell_type": "code",
      "source": [
        "error_table = {    'Error' : ['Rsquare', 'MAE', 'MAPE','RSME'],\n",
        "    'Linear' : [RLRsquare, RLMAE, RLMAPE,RLRMSE],\n",
        "    'Polinomial' : [PolyRsquare, PolyMAE, PolyMAPE,PolyRMSE],\n",
        "    'Ridge' : [RidgeRsquare, RidgeMAE, RidgeMAPE,RidgeRMSE],\n",
        "    'Lasso' : [LassoRsquare, LassoMAE, LassoMAPE,LassoRMSE]}\n",
        "\n",
        "error_table_df = pd.DataFrame(error_table)\n",
        "error_table_df"
      ],
      "metadata": {
        "colab": {
          "base_uri": "https://localhost:8080/",
          "height": 175
        },
        "id": "hdlkLkVt4fkZ",
        "outputId": "fcba73f7-d794-45ee-eb76-1391ac9ec899"
      },
      "execution_count": 159,
      "outputs": [
        {
          "output_type": "execute_result",
          "data": {
            "text/plain": [
              "     Error     Linear  Polinomial      Ridge      Lasso\n",
              "0  Rsquare   0.573376    0.710753   0.666440   0.658941\n",
              "1      MAE   5.102686    4.497721   4.654217   4.683138\n",
              "2     MAPE   0.128299    0.112644   0.115640   0.116249\n",
              "3     RSME  52.643634   35.691831  41.159924  42.085241"
            ],
            "text/html": [
              "\n",
              "  <div id=\"df-918eff90-024f-4d59-8ad6-b4fa892990dc\">\n",
              "    <div class=\"colab-df-container\">\n",
              "      <div>\n",
              "<style scoped>\n",
              "    .dataframe tbody tr th:only-of-type {\n",
              "        vertical-align: middle;\n",
              "    }\n",
              "\n",
              "    .dataframe tbody tr th {\n",
              "        vertical-align: top;\n",
              "    }\n",
              "\n",
              "    .dataframe thead th {\n",
              "        text-align: right;\n",
              "    }\n",
              "</style>\n",
              "<table border=\"1\" class=\"dataframe\">\n",
              "  <thead>\n",
              "    <tr style=\"text-align: right;\">\n",
              "      <th></th>\n",
              "      <th>Error</th>\n",
              "      <th>Linear</th>\n",
              "      <th>Polinomial</th>\n",
              "      <th>Ridge</th>\n",
              "      <th>Lasso</th>\n",
              "    </tr>\n",
              "  </thead>\n",
              "  <tbody>\n",
              "    <tr>\n",
              "      <th>0</th>\n",
              "      <td>Rsquare</td>\n",
              "      <td>0.573376</td>\n",
              "      <td>0.710753</td>\n",
              "      <td>0.666440</td>\n",
              "      <td>0.658941</td>\n",
              "    </tr>\n",
              "    <tr>\n",
              "      <th>1</th>\n",
              "      <td>MAE</td>\n",
              "      <td>5.102686</td>\n",
              "      <td>4.497721</td>\n",
              "      <td>4.654217</td>\n",
              "      <td>4.683138</td>\n",
              "    </tr>\n",
              "    <tr>\n",
              "      <th>2</th>\n",
              "      <td>MAPE</td>\n",
              "      <td>0.128299</td>\n",
              "      <td>0.112644</td>\n",
              "      <td>0.115640</td>\n",
              "      <td>0.116249</td>\n",
              "    </tr>\n",
              "    <tr>\n",
              "      <th>3</th>\n",
              "      <td>RSME</td>\n",
              "      <td>52.643634</td>\n",
              "      <td>35.691831</td>\n",
              "      <td>41.159924</td>\n",
              "      <td>42.085241</td>\n",
              "    </tr>\n",
              "  </tbody>\n",
              "</table>\n",
              "</div>\n",
              "      <button class=\"colab-df-convert\" onclick=\"convertToInteractive('df-918eff90-024f-4d59-8ad6-b4fa892990dc')\"\n",
              "              title=\"Convert this dataframe to an interactive table.\"\n",
              "              style=\"display:none;\">\n",
              "        \n",
              "  <svg xmlns=\"http://www.w3.org/2000/svg\" height=\"24px\"viewBox=\"0 0 24 24\"\n",
              "       width=\"24px\">\n",
              "    <path d=\"M0 0h24v24H0V0z\" fill=\"none\"/>\n",
              "    <path d=\"M18.56 5.44l.94 2.06.94-2.06 2.06-.94-2.06-.94-.94-2.06-.94 2.06-2.06.94zm-11 1L8.5 8.5l.94-2.06 2.06-.94-2.06-.94L8.5 2.5l-.94 2.06-2.06.94zm10 10l.94 2.06.94-2.06 2.06-.94-2.06-.94-.94-2.06-.94 2.06-2.06.94z\"/><path d=\"M17.41 7.96l-1.37-1.37c-.4-.4-.92-.59-1.43-.59-.52 0-1.04.2-1.43.59L10.3 9.45l-7.72 7.72c-.78.78-.78 2.05 0 2.83L4 21.41c.39.39.9.59 1.41.59.51 0 1.02-.2 1.41-.59l7.78-7.78 2.81-2.81c.8-.78.8-2.07 0-2.86zM5.41 20L4 18.59l7.72-7.72 1.47 1.35L5.41 20z\"/>\n",
              "  </svg>\n",
              "      </button>\n",
              "      \n",
              "  <style>\n",
              "    .colab-df-container {\n",
              "      display:flex;\n",
              "      flex-wrap:wrap;\n",
              "      gap: 12px;\n",
              "    }\n",
              "\n",
              "    .colab-df-convert {\n",
              "      background-color: #E8F0FE;\n",
              "      border: none;\n",
              "      border-radius: 50%;\n",
              "      cursor: pointer;\n",
              "      display: none;\n",
              "      fill: #1967D2;\n",
              "      height: 32px;\n",
              "      padding: 0 0 0 0;\n",
              "      width: 32px;\n",
              "    }\n",
              "\n",
              "    .colab-df-convert:hover {\n",
              "      background-color: #E2EBFA;\n",
              "      box-shadow: 0px 1px 2px rgba(60, 64, 67, 0.3), 0px 1px 3px 1px rgba(60, 64, 67, 0.15);\n",
              "      fill: #174EA6;\n",
              "    }\n",
              "\n",
              "    [theme=dark] .colab-df-convert {\n",
              "      background-color: #3B4455;\n",
              "      fill: #D2E3FC;\n",
              "    }\n",
              "\n",
              "    [theme=dark] .colab-df-convert:hover {\n",
              "      background-color: #434B5C;\n",
              "      box-shadow: 0px 1px 3px 1px rgba(0, 0, 0, 0.15);\n",
              "      filter: drop-shadow(0px 1px 2px rgba(0, 0, 0, 0.3));\n",
              "      fill: #FFFFFF;\n",
              "    }\n",
              "  </style>\n",
              "\n",
              "      <script>\n",
              "        const buttonEl =\n",
              "          document.querySelector('#df-918eff90-024f-4d59-8ad6-b4fa892990dc button.colab-df-convert');\n",
              "        buttonEl.style.display =\n",
              "          google.colab.kernel.accessAllowed ? 'block' : 'none';\n",
              "\n",
              "        async function convertToInteractive(key) {\n",
              "          const element = document.querySelector('#df-918eff90-024f-4d59-8ad6-b4fa892990dc');\n",
              "          const dataTable =\n",
              "            await google.colab.kernel.invokeFunction('convertToInteractive',\n",
              "                                                     [key], {});\n",
              "          if (!dataTable) return;\n",
              "\n",
              "          const docLinkHtml = 'Like what you see? Visit the ' +\n",
              "            '<a target=\"_blank\" href=https://colab.research.google.com/notebooks/data_table.ipynb>data table notebook</a>'\n",
              "            + ' to learn more about interactive tables.';\n",
              "          element.innerHTML = '';\n",
              "          dataTable['output_type'] = 'display_data';\n",
              "          await google.colab.output.renderOutput(dataTable, element);\n",
              "          const docLink = document.createElement('div');\n",
              "          docLink.innerHTML = docLinkHtml;\n",
              "          element.appendChild(docLink);\n",
              "        }\n",
              "      </script>\n",
              "    </div>\n",
              "  </div>\n",
              "  "
            ]
          },
          "metadata": {},
          "execution_count": 159
        }
      ]
    },
    {
      "cell_type": "code",
      "source": [
        "unpivot = pd.melt(\n",
        "    error_table_df,\n",
        "    id_vars=\"Error\",\n",
        "    var_name=\"Model\",\n",
        "    value_name=\"Error value\")\n",
        "\n",
        "sns.catplot(data=unpivot, x=\"Error value\", y=\"Model\", hue='Error', kind=\"bar\")\n",
        "plt.show()"
      ],
      "metadata": {
        "colab": {
          "base_uri": "https://localhost:8080/",
          "height": 369
        },
        "id": "8_O5yx_3_IaV",
        "outputId": "3a1f22f2-46fe-488b-993f-d28679bb606b"
      },
      "execution_count": 160,
      "outputs": [
        {
          "output_type": "display_data",
          "data": {
            "text/plain": [
              "<Figure size 437x360 with 1 Axes>"
            ],
            "image/png": "[encoded data removed]"
          },
          "metadata": {
            "needs_background": "light"
          }
        }
      ]
    },
    {
      "cell_type": "markdown",
      "metadata": {
        "id": "CfqcmLmxLoe9"
      },
      "source": [
        "#Ejercicio 2-Regresión múltiple -Casas\n",
        "Realiza la regresión polinomial de los siguientes datos:"
      ]
    },
    {
      "cell_type": "code",
      "source": [
        "df = pd.read_csv('https://raw.githubusercontent.com/marypazrf/bdd/main/kc_house_data.csv')\n",
        "df.sample(10)"
      ],
      "metadata": {
        "id": "57bn0j38qGrg",
        "colab": {
          "base_uri": "https://localhost:8080/",
          "height": 456
        },
        "outputId": "47e5f8f0-95f3-4cfd-9777-74562373e226"
      },
      "execution_count": 161,
      "outputs": [
        {
          "output_type": "execute_result",
          "data": {
            "text/plain": [
              "               id             date     price  bedrooms  bathrooms  \\\n",
              "2734   2260000340  20141115T000000  700000.0         4       1.75   \n",
              "15762   452001310  20140825T000000  500000.0         2       1.00   \n",
              "2168   8029740060  20150507T000000  345000.0         5       2.75   \n",
              "5843    871001611  20140701T000000  616000.0         4       1.75   \n",
              "8628    823069044  20150325T000000  833450.0         5       4.00   \n",
              "9812   9265200060  20141007T000000  650000.0         6       4.50   \n",
              "12984  9320900610  20141231T000000  146000.0         3       1.00   \n",
              "3383   8807900236  20141219T000000  430000.0         1       1.00   \n",
              "21433   259500230  20141218T000000  465750.0         3       2.50   \n",
              "18227   820079101  20141222T000000  525000.0         3       2.25   \n",
              "\n",
              "       sqft_living  sqft_lot  floors  waterfront  view  ...  grade  \\\n",
              "2734          2340      9100     1.0           0     0  ...      8   \n",
              "15762          960      5000     1.0           0     0  ...      7   \n",
              "2168          1940      4182     1.0           0     0  ...      7   \n",
              "5843          1700      5846     1.0           0     0  ...      8   \n",
              "8628          4460    269345     2.0           0     4  ...      9   \n",
              "9812          3900      9100     2.0           0     0  ...      8   \n",
              "12984          900      4770     1.0           0     0  ...      6   \n",
              "3383           630      1362     1.0           0     0  ...      7   \n",
              "21433         2670      4534     2.0           0     0  ...      9   \n",
              "18227         2040    435600     2.0           0     2  ...      7   \n",
              "\n",
              "       sqft_above  sqft_basement  yr_built  yr_renovated  zipcode      lat  \\\n",
              "2734         1610            730      1975             0    98052  47.6401   \n",
              "15762         960              0      1900             0    98107  47.6755   \n",
              "2168         1240            700      2002             0    98056  47.4911   \n",
              "5843         1700              0      1957             0    98199  47.6539   \n",
              "8628         3330           1130      1996             0    98027  47.4992   \n",
              "9812         2870           1030      1979             0    98052  47.6612   \n",
              "12984         900              0      1969          2009    98023  47.3038   \n",
              "3383          630              0      1943             0    98109  47.6342   \n",
              "21433        2670              0      2007             0    98056  47.5100   \n",
              "18227        2040              0      1983             0    98022  47.2328   \n",
              "\n",
              "          long  sqft_living15  sqft_lot15  \n",
              "2734  -122.108           2470       11000  \n",
              "15762 -122.367           1330        5000  \n",
              "2168  -122.170           1950        4182  \n",
              "5843  -122.408           1480        5177  \n",
              "8628  -122.060           2670      115434  \n",
              "9812  -122.137           2080        9216  \n",
              "12984 -122.362            900        3480  \n",
              "3383  -122.342           1090        1376  \n",
              "21433 -122.184           3040        5079  \n",
              "18227 -121.945           2020      223027  \n",
              "\n",
              "[10 rows x 21 columns]"
            ],
            "text/html": [
              "\n",
              "  <div id=\"df-621d95df-e699-46eb-b8bc-9f4f2daf5c4b\">\n",
              "    <div class=\"colab-df-container\">\n",
              "      <div>\n",
              "<style scoped>\n",
              "    .dataframe tbody tr th:only-of-type {\n",
              "        vertical-align: middle;\n",
              "    }\n",
              "\n",
              "    .dataframe tbody tr th {\n",
              "        vertical-align: top;\n",
              "    }\n",
              "\n",
              "    .dataframe thead th {\n",
              "        text-align: right;\n",
              "    }\n",
              "</style>\n",
              "<table border=\"1\" class=\"dataframe\">\n",
              "  <thead>\n",
              "    <tr style=\"text-align: right;\">\n",
              "      <th></th>\n",
              "      <th>id</th>\n",
              "      <th>date</th>\n",
              "      <th>price</th>\n",
              "      <th>bedrooms</th>\n",
              "      <th>bathrooms</th>\n",
              "      <th>sqft_living</th>\n",
              "      <th>sqft_lot</th>\n",
              "      <th>floors</th>\n",
              "      <th>waterfront</th>\n",
              "      <th>view</th>\n",
              "      <th>...</th>\n",
              "      <th>grade</th>\n",
              "      <th>sqft_above</th>\n",
              "      <th>sqft_basement</th>\n",
              "      <th>yr_built</th>\n",
              "      <th>yr_renovated</th>\n",
              "      <th>zipcode</th>\n",
              "      <th>lat</th>\n",
              "      <th>long</th>\n",
              "      <th>sqft_living15</th>\n",
              "      <th>sqft_lot15</th>\n",
              "    </tr>\n",
              "  </thead>\n",
              "  <tbody>\n",
              "    <tr>\n",
              "      <th>2734</th>\n",
              "      <td>2260000340</td>\n",
              "      <td>20141115T000000</td>\n",
              "      <td>700000.0</td>\n",
              "      <td>4</td>\n",
              "      <td>1.75</td>\n",
              "      <td>2340</td>\n",
              "      <td>9100</td>\n",
              "      <td>1.0</td>\n",
              "      <td>0</td>\n",
              "      <td>0</td>\n",
              "      <td>...</td>\n",
              "      <td>8</td>\n",
              "      <td>1610</td>\n",
              "      <td>730</td>\n",
              "      <td>1975</td>\n",
              "      <td>0</td>\n",
              "      <td>98052</td>\n",
              "      <td>47.6401</td>\n",
              "      <td>-122.108</td>\n",
              "      <td>2470</td>\n",
              "      <td>11000</td>\n",
              "    </tr>\n",
              "    <tr>\n",
              "      <th>15762</th>\n",
              "      <td>452001310</td>\n",
              "      <td>20140825T000000</td>\n",
              "      <td>500000.0</td>\n",
              "      <td>2</td>\n",
              "      <td>1.00</td>\n",
              "      <td>960</td>\n",
              "      <td>5000</td>\n",
              "      <td>1.0</td>\n",
              "      <td>0</td>\n",
              "      <td>0</td>\n",
              "      <td>...</td>\n",
              "      <td>7</td>\n",
              "      <td>960</td>\n",
              "      <td>0</td>\n",
              "      <td>1900</td>\n",
              "      <td>0</td>\n",
              "      <td>98107</td>\n",
              "      <td>47.6755</td>\n",
              "      <td>-122.367</td>\n",
              "      <td>1330</td>\n",
              "      <td>5000</td>\n",
              "    </tr>\n",
              "    <tr>\n",
              "      <th>2168</th>\n",
              "      <td>8029740060</td>\n",
              "      <td>20150507T000000</td>\n",
              "      <td>345000.0</td>\n",
              "      <td>5</td>\n",
              "      <td>2.75</td>\n",
              "      <td>1940</td>\n",
              "      <td>4182</td>\n",
              "      <td>1.0</td>\n",
              "      <td>0</td>\n",
              "      <td>0</td>\n",
              "      <td>...</td>\n",
              "      <td>7</td>\n",
              "      <td>1240</td>\n",
              "      <td>700</td>\n",
              "      <td>2002</td>\n",
              "      <td>0</td>\n",
              "      <td>98056</td>\n",
              "      <td>47.4911</td>\n",
              "      <td>-122.170</td>\n",
              "      <td>1950</td>\n",
              "      <td>4182</td>\n",
              "    </tr>\n",
              "    <tr>\n",
              "      <th>5843</th>\n",
              "      <td>871001611</td>\n",
              "      <td>20140701T000000</td>\n",
              "      <td>616000.0</td>\n",
              "      <td>4</td>\n",
              "      <td>1.75</td>\n",
              "      <td>1700</td>\n",
              "      <td>5846</td>\n",
              "      <td>1.0</td>\n",
              "      <td>0</td>\n",
              "      <td>0</td>\n",
              "      <td>...</td>\n",
              "      <td>8</td>\n",
              "      <td>1700</td>\n",
              "      <td>0</td>\n",
              "      <td>1957</td>\n",
              "      <td>0</td>\n",
              "      <td>98199</td>\n",
              "      <td>47.6539</td>\n",
              "      <td>-122.408</td>\n",
              "      <td>1480</td>\n",
              "      <td>5177</td>\n",
              "    </tr>\n",
              "    <tr>\n",
              "      <th>8628</th>\n",
              "      <td>823069044</td>\n",
              "      <td>20150325T000000</td>\n",
              "      <td>833450.0</td>\n",
              "      <td>5</td>\n",
              "      <td>4.00</td>\n",
              "      <td>4460</td>\n",
              "      <td>269345</td>\n",
              "      <td>2.0</td>\n",
              "      <td>0</td>\n",
              "      <td>4</td>\n",
              "      <td>...</td>\n",
              "      <td>9</td>\n",
              "      <td>3330</td>\n",
              "      <td>1130</td>\n",
              "      <td>1996</td>\n",
              "      <td>0</td>\n",
              "      <td>98027</td>\n",
              "      <td>47.4992</td>\n",
              "      <td>-122.060</td>\n",
              "      <td>2670</td>\n",
              "      <td>115434</td>\n",
              "    </tr>\n",
              "    <tr>\n",
              "      <th>9812</th>\n",
              "      <td>9265200060</td>\n",
              "      <td>20141007T000000</td>\n",
              "      <td>650000.0</td>\n",
              "      <td>6</td>\n",
              "      <td>4.50</td>\n",
              "      <td>3900</td>\n",
              "      <td>9100</td>\n",
              "      <td>2.0</td>\n",
              "      <td>0</td>\n",
              "      <td>0</td>\n",
              "      <td>...</td>\n",
              "      <td>8</td>\n",
              "      <td>2870</td>\n",
              "      <td>1030</td>\n",
              "      <td>1979</td>\n",
              "      <td>0</td>\n",
              "      <td>98052</td>\n",
              "      <td>47.6612</td>\n",
              "      <td>-122.137</td>\n",
              "      <td>2080</td>\n",
              "      <td>9216</td>\n",
              "    </tr>\n",
              "    <tr>\n",
              "      <th>12984</th>\n",
              "      <td>9320900610</td>\n",
              "      <td>20141231T000000</td>\n",
              "      <td>146000.0</td>\n",
              "      <td>3</td>\n",
              "      <td>1.00</td>\n",
              "      <td>900</td>\n",
              "      <td>4770</td>\n",
              "      <td>1.0</td>\n",
              "      <td>0</td>\n",
              "      <td>0</td>\n",
              "      <td>...</td>\n",
              "      <td>6</td>\n",
              "      <td>900</td>\n",
              "      <td>0</td>\n",
              "      <td>1969</td>\n",
              "      <td>2009</td>\n",
              "      <td>98023</td>\n",
              "      <td>47.3038</td>\n",
              "      <td>-122.362</td>\n",
              "      <td>900</td>\n",
              "      <td>3480</td>\n",
              "    </tr>\n",
              "    <tr>\n",
              "      <th>3383</th>\n",
              "      <td>8807900236</td>\n",
              "      <td>20141219T000000</td>\n",
              "      <td>430000.0</td>\n",
              "      <td>1</td>\n",
              "      <td>1.00</td>\n",
              "      <td>630</td>\n",
              "      <td>1362</td>\n",
              "      <td>1.0</td>\n",
              "      <td>0</td>\n",
              "      <td>0</td>\n",
              "      <td>...</td>\n",
              "      <td>7</td>\n",
              "      <td>630</td>\n",
              "      <td>0</td>\n",
              "      <td>1943</td>\n",
              "      <td>0</td>\n",
              "      <td>98109</td>\n",
              "      <td>47.6342</td>\n",
              "      <td>-122.342</td>\n",
              "      <td>1090</td>\n",
              "      <td>1376</td>\n",
              "    </tr>\n",
              "    <tr>\n",
              "      <th>21433</th>\n",
              "      <td>259500230</td>\n",
              "      <td>20141218T000000</td>\n",
              "      <td>465750.0</td>\n",
              "      <td>3</td>\n",
              "      <td>2.50</td>\n",
              "      <td>2670</td>\n",
              "      <td>4534</td>\n",
              "      <td>2.0</td>\n",
              "      <td>0</td>\n",
              "      <td>0</td>\n",
              "      <td>...</td>\n",
              "      <td>9</td>\n",
              "      <td>2670</td>\n",
              "      <td>0</td>\n",
              "      <td>2007</td>\n",
              "      <td>0</td>\n",
              "      <td>98056</td>\n",
              "      <td>47.5100</td>\n",
              "      <td>-122.184</td>\n",
              "      <td>3040</td>\n",
              "      <td>5079</td>\n",
              "    </tr>\n",
              "    <tr>\n",
              "      <th>18227</th>\n",
              "      <td>820079101</td>\n",
              "      <td>20141222T000000</td>\n",
              "      <td>525000.0</td>\n",
              "      <td>3</td>\n",
              "      <td>2.25</td>\n",
              "      <td>2040</td>\n",
              "      <td>435600</td>\n",
              "      <td>2.0</td>\n",
              "      <td>0</td>\n",
              "      <td>2</td>\n",
              "      <td>...</td>\n",
              "      <td>7</td>\n",
              "      <td>2040</td>\n",
              "      <td>0</td>\n",
              "      <td>1983</td>\n",
              "      <td>0</td>\n",
              "      <td>98022</td>\n",
              "      <td>47.2328</td>\n",
              "      <td>-121.945</td>\n",
              "      <td>2020</td>\n",
              "      <td>223027</td>\n",
              "    </tr>\n",
              "  </tbody>\n",
              "</table>\n",
              "<p>10 rows × 21 columns</p>\n",
              "</div>\n",
              "      <button class=\"colab-df-convert\" onclick=\"convertToInteractive('df-621d95df-e699-46eb-b8bc-9f4f2daf5c4b')\"\n",
              "              title=\"Convert this dataframe to an interactive table.\"\n",
              "              style=\"display:none;\">\n",
              "        \n",
              "  <svg xmlns=\"http://www.w3.org/2000/svg\" height=\"24px\"viewBox=\"0 0 24 24\"\n",
              "       width=\"24px\">\n",
              "    <path d=\"M0 0h24v24H0V0z\" fill=\"none\"/>\n",
              "    <path d=\"M18.56 5.44l.94 2.06.94-2.06 2.06-.94-2.06-.94-.94-2.06-.94 2.06-2.06.94zm-11 1L8.5 8.5l.94-2.06 2.06-.94-2.06-.94L8.5 2.5l-.94 2.06-2.06.94zm10 10l.94 2.06.94-2.06 2.06-.94-2.06-.94-.94-2.06-.94 2.06-2.06.94z\"/><path d=\"M17.41 7.96l-1.37-1.37c-.4-.4-.92-.59-1.43-.59-.52 0-1.04.2-1.43.59L10.3 9.45l-7.72 7.72c-.78.78-.78 2.05 0 2.83L4 21.41c.39.39.9.59 1.41.59.51 0 1.02-.2 1.41-.59l7.78-7.78 2.81-2.81c.8-.78.8-2.07 0-2.86zM5.41 20L4 18.59l7.72-7.72 1.47 1.35L5.41 20z\"/>\n",
              "  </svg>\n",
              "      </button>\n",
              "      \n",
              "  <style>\n",
              "    .colab-df-container {\n",
              "      display:flex;\n",
              "      flex-wrap:wrap;\n",
              "      gap: 12px;\n",
              "    }\n",
              "\n",
              "    .colab-df-convert {\n",
              "      background-color: #E8F0FE;\n",
              "      border: none;\n",
              "      border-radius: 50%;\n",
              "      cursor: pointer;\n",
              "      display: none;\n",
              "      fill: #1967D2;\n",
              "      height: 32px;\n",
              "      padding: 0 0 0 0;\n",
              "      width: 32px;\n",
              "    }\n",
              "\n",
              "    .colab-df-convert:hover {\n",
              "      background-color: #E2EBFA;\n",
              "      box-shadow: 0px 1px 2px rgba(60, 64, 67, 0.3), 0px 1px 3px 1px rgba(60, 64, 67, 0.15);\n",
              "      fill: #174EA6;\n",
              "    }\n",
              "\n",
              "    [theme=dark] .colab-df-convert {\n",
              "      background-color: #3B4455;\n",
              "      fill: #D2E3FC;\n",
              "    }\n",
              "\n",
              "    [theme=dark] .colab-df-convert:hover {\n",
              "      background-color: #434B5C;\n",
              "      box-shadow: 0px 1px 3px 1px rgba(0, 0, 0, 0.15);\n",
              "      filter: drop-shadow(0px 1px 2px rgba(0, 0, 0, 0.3));\n",
              "      fill: #FFFFFF;\n",
              "    }\n",
              "  </style>\n",
              "\n",
              "      <script>\n",
              "        const buttonEl =\n",
              "          document.querySelector('#df-621d95df-e699-46eb-b8bc-9f4f2daf5c4b button.colab-df-convert');\n",
              "        buttonEl.style.display =\n",
              "          google.colab.kernel.accessAllowed ? 'block' : 'none';\n",
              "\n",
              "        async function convertToInteractive(key) {\n",
              "          const element = document.querySelector('#df-621d95df-e699-46eb-b8bc-9f4f2daf5c4b');\n",
              "          const dataTable =\n",
              "            await google.colab.kernel.invokeFunction('convertToInteractive',\n",
              "                                                     [key], {});\n",
              "          if (!dataTable) return;\n",
              "\n",
              "          const docLinkHtml = 'Like what you see? Visit the ' +\n",
              "            '<a target=\"_blank\" href=https://colab.research.google.com/notebooks/data_table.ipynb>data table notebook</a>'\n",
              "            + ' to learn more about interactive tables.';\n",
              "          element.innerHTML = '';\n",
              "          dataTable['output_type'] = 'display_data';\n",
              "          await google.colab.output.renderOutput(dataTable, element);\n",
              "          const docLink = document.createElement('div');\n",
              "          docLink.innerHTML = docLinkHtml;\n",
              "          element.appendChild(docLink);\n",
              "        }\n",
              "      </script>\n",
              "    </div>\n",
              "  </div>\n",
              "  "
            ]
          },
          "metadata": {},
          "execution_count": 161
        }
      ]
    },
    {
      "cell_type": "code",
      "source": [
        "df.info()"
      ],
      "metadata": {
        "id": "n0fs14KoqI3M",
        "colab": {
          "base_uri": "https://localhost:8080/"
        },
        "outputId": "75044ade-d5c2-4491-a7b1-8f095cd1a18a"
      },
      "execution_count": 162,
      "outputs": [
        {
          "output_type": "stream",
          "name": "stdout",
          "text": [
            "<class 'pandas.core.frame.DataFrame'>\n",
            "RangeIndex: 21613 entries, 0 to 21612\n",
            "Data columns (total 21 columns):\n",
            " #   Column         Non-Null Count  Dtype  \n",
            "---  ------         --------------  -----  \n",
            " 0   id             21613 non-null  int64  \n",
            " 1   date           21613 non-null  object \n",
            " 2   price          21613 non-null  float64\n",
            " 3   bedrooms       21613 non-null  int64  \n",
            " 4   bathrooms      21613 non-null  float64\n",
            " 5   sqft_living    21613 non-null  int64  \n",
            " 6   sqft_lot       21613 non-null  int64  \n",
            " 7   floors         21613 non-null  float64\n",
            " 8   waterfront     21613 non-null  int64  \n",
            " 9   view           21613 non-null  int64  \n",
            " 10  condition      21613 non-null  int64  \n",
            " 11  grade          21613 non-null  int64  \n",
            " 12  sqft_above     21613 non-null  int64  \n",
            " 13  sqft_basement  21613 non-null  int64  \n",
            " 14  yr_built       21613 non-null  int64  \n",
            " 15  yr_renovated   21613 non-null  int64  \n",
            " 16  zipcode        21613 non-null  int64  \n",
            " 17  lat            21613 non-null  float64\n",
            " 18  long           21613 non-null  float64\n",
            " 19  sqft_living15  21613 non-null  int64  \n",
            " 20  sqft_lot15     21613 non-null  int64  \n",
            "dtypes: float64(5), int64(15), object(1)\n",
            "memory usage: 3.5+ MB\n"
          ]
        }
      ]
    },
    {
      "cell_type": "code",
      "source": [
        "df.describe()"
      ],
      "metadata": {
        "id": "1PNzDJZeqKhe",
        "colab": {
          "base_uri": "https://localhost:8080/",
          "height": 364
        },
        "outputId": "5db4fbda-c594-4114-d6c7-b9096e9e4beb"
      },
      "execution_count": 163,
      "outputs": [
        {
          "output_type": "execute_result",
          "data": {
            "text/plain": [
              "                 id         price      bedrooms     bathrooms   sqft_living  \\\n",
              "count  2.161300e+04  2.161300e+04  21613.000000  21613.000000  21613.000000   \n",
              "mean   4.580302e+09  5.400881e+05      3.370842      2.114757   2079.899736   \n",
              "std    2.876566e+09  3.671272e+05      0.930062      0.770163    918.440897   \n",
              "min    1.000102e+06  7.500000e+04      0.000000      0.000000    290.000000   \n",
              "25%    2.123049e+09  3.219500e+05      3.000000      1.750000   1427.000000   \n",
              "50%    3.904930e+09  4.500000e+05      3.000000      2.250000   1910.000000   \n",
              "75%    7.308900e+09  6.450000e+05      4.000000      2.500000   2550.000000   \n",
              "max    9.900000e+09  7.700000e+06     33.000000      8.000000  13540.000000   \n",
              "\n",
              "           sqft_lot        floors    waterfront          view     condition  \\\n",
              "count  2.161300e+04  21613.000000  21613.000000  21613.000000  21613.000000   \n",
              "mean   1.510697e+04      1.494309      0.007542      0.234303      3.409430   \n",
              "std    4.142051e+04      0.539989      0.086517      0.766318      0.650743   \n",
              "min    5.200000e+02      1.000000      0.000000      0.000000      1.000000   \n",
              "25%    5.040000e+03      1.000000      0.000000      0.000000      3.000000   \n",
              "50%    7.618000e+03      1.500000      0.000000      0.000000      3.000000   \n",
              "75%    1.068800e+04      2.000000      0.000000      0.000000      4.000000   \n",
              "max    1.651359e+06      3.500000      1.000000      4.000000      5.000000   \n",
              "\n",
              "              grade    sqft_above  sqft_basement      yr_built  yr_renovated  \\\n",
              "count  21613.000000  21613.000000   21613.000000  21613.000000  21613.000000   \n",
              "mean       7.656873   1788.390691     291.509045   1971.005136     84.402258   \n",
              "std        1.175459    828.090978     442.575043     29.373411    401.679240   \n",
              "min        1.000000    290.000000       0.000000   1900.000000      0.000000   \n",
              "25%        7.000000   1190.000000       0.000000   1951.000000      0.000000   \n",
              "50%        7.000000   1560.000000       0.000000   1975.000000      0.000000   \n",
              "75%        8.000000   2210.000000     560.000000   1997.000000      0.000000   \n",
              "max       13.000000   9410.000000    4820.000000   2015.000000   2015.000000   \n",
              "\n",
              "            zipcode           lat          long  sqft_living15     sqft_lot15  \n",
              "count  21613.000000  21613.000000  21613.000000   21613.000000   21613.000000  \n",
              "mean   98077.939805     47.560053   -122.213896    1986.552492   12768.455652  \n",
              "std       53.505026      0.138564      0.140828     685.391304   27304.179631  \n",
              "min    98001.000000     47.155900   -122.519000     399.000000     651.000000  \n",
              "25%    98033.000000     47.471000   -122.328000    1490.000000    5100.000000  \n",
              "50%    98065.000000     47.571800   -122.230000    1840.000000    7620.000000  \n",
              "75%    98118.000000     47.678000   -122.125000    2360.000000   10083.000000  \n",
              "max    98199.000000     47.777600   -121.315000    6210.000000  871200.000000  "
            ],
            "text/html": [
              "\n",
              "  <div id=\"df-f6e1cfdf-3bbc-4c3a-8273-d2e20e4aff43\">\n",
              "    <div class=\"colab-df-container\">\n",
              "      <div>\n",
              "<style scoped>\n",
              "    .dataframe tbody tr th:only-of-type {\n",
              "        vertical-align: middle;\n",
              "    }\n",
              "\n",
              "    .dataframe tbody tr th {\n",
              "        vertical-align: top;\n",
              "    }\n",
              "\n",
              "    .dataframe thead th {\n",
              "        text-align: right;\n",
              "    }\n",
              "</style>\n",
              "<table border=\"1\" class=\"dataframe\">\n",
              "  <thead>\n",
              "    <tr style=\"text-align: right;\">\n",
              "      <th></th>\n",
              "      <th>id</th>\n",
              "      <th>price</th>\n",
              "      <th>bedrooms</th>\n",
              "      <th>bathrooms</th>\n",
              "      <th>sqft_living</th>\n",
              "      <th>sqft_lot</th>\n",
              "      <th>floors</th>\n",
              "      <th>waterfront</th>\n",
              "      <th>view</th>\n",
              "      <th>condition</th>\n",
              "      <th>grade</th>\n",
              "      <th>sqft_above</th>\n",
              "      <th>sqft_basement</th>\n",
              "      <th>yr_built</th>\n",
              "      <th>yr_renovated</th>\n",
              "      <th>zipcode</th>\n",
              "      <th>lat</th>\n",
              "      <th>long</th>\n",
              "      <th>sqft_living15</th>\n",
              "      <th>sqft_lot15</th>\n",
              "    </tr>\n",
              "  </thead>\n",
              "  <tbody>\n",
              "    <tr>\n",
              "      <th>count</th>\n",
              "      <td>2.161300e+04</td>\n",
              "      <td>2.161300e+04</td>\n",
              "      <td>21613.000000</td>\n",
              "      <td>21613.000000</td>\n",
              "      <td>21613.000000</td>\n",
              "      <td>2.161300e+04</td>\n",
              "      <td>21613.000000</td>\n",
              "      <td>21613.000000</td>\n",
              "      <td>21613.000000</td>\n",
              "      <td>21613.000000</td>\n",
              "      <td>21613.000000</td>\n",
              "      <td>21613.000000</td>\n",
              "      <td>21613.000000</td>\n",
              "      <td>21613.000000</td>\n",
              "      <td>21613.000000</td>\n",
              "      <td>21613.000000</td>\n",
              "      <td>21613.000000</td>\n",
              "      <td>21613.000000</td>\n",
              "      <td>21613.000000</td>\n",
              "      <td>21613.000000</td>\n",
              "    </tr>\n",
              "    <tr>\n",
              "      <th>mean</th>\n",
              "      <td>4.580302e+09</td>\n",
              "      <td>5.400881e+05</td>\n",
              "      <td>3.370842</td>\n",
              "      <td>2.114757</td>\n",
              "      <td>2079.899736</td>\n",
              "      <td>1.510697e+04</td>\n",
              "      <td>1.494309</td>\n",
              "      <td>0.007542</td>\n",
              "      <td>0.234303</td>\n",
              "      <td>3.409430</td>\n",
              "      <td>7.656873</td>\n",
              "      <td>1788.390691</td>\n",
              "      <td>291.509045</td>\n",
              "      <td>1971.005136</td>\n",
              "      <td>84.402258</td>\n",
              "      <td>98077.939805</td>\n",
              "      <td>47.560053</td>\n",
              "      <td>-122.213896</td>\n",
              "      <td>1986.552492</td>\n",
              "      <td>12768.455652</td>\n",
              "    </tr>\n",
              "    <tr>\n",
              "      <th>std</th>\n",
              "      <td>2.876566e+09</td>\n",
              "      <td>3.671272e+05</td>\n",
              "      <td>0.930062</td>\n",
              "      <td>0.770163</td>\n",
              "      <td>918.440897</td>\n",
              "      <td>4.142051e+04</td>\n",
              "      <td>0.539989</td>\n",
              "      <td>0.086517</td>\n",
              "      <td>0.766318</td>\n",
              "      <td>0.650743</td>\n",
              "      <td>1.175459</td>\n",
              "      <td>828.090978</td>\n",
              "      <td>442.575043</td>\n",
              "      <td>29.373411</td>\n",
              "      <td>401.679240</td>\n",
              "      <td>53.505026</td>\n",
              "      <td>0.138564</td>\n",
              "      <td>0.140828</td>\n",
              "      <td>685.391304</td>\n",
              "      <td>27304.179631</td>\n",
              "    </tr>\n",
              "    <tr>\n",
              "      <th>min</th>\n",
              "      <td>1.000102e+06</td>\n",
              "      <td>7.500000e+04</td>\n",
              "      <td>0.000000</td>\n",
              "      <td>0.000000</td>\n",
              "      <td>290.000000</td>\n",
              "      <td>5.200000e+02</td>\n",
              "      <td>1.000000</td>\n",
              "      <td>0.000000</td>\n",
              "      <td>0.000000</td>\n",
              "      <td>1.000000</td>\n",
              "      <td>1.000000</td>\n",
              "      <td>290.000000</td>\n",
              "      <td>0.000000</td>\n",
              "      <td>1900.000000</td>\n",
              "      <td>0.000000</td>\n",
              "      <td>98001.000000</td>\n",
              "      <td>47.155900</td>\n",
              "      <td>-122.519000</td>\n",
              "      <td>399.000000</td>\n",
              "      <td>651.000000</td>\n",
              "    </tr>\n",
              "    <tr>\n",
              "      <th>25%</th>\n",
              "      <td>2.123049e+09</td>\n",
              "      <td>3.219500e+05</td>\n",
              "      <td>3.000000</td>\n",
              "      <td>1.750000</td>\n",
              "      <td>1427.000000</td>\n",
              "      <td>5.040000e+03</td>\n",
              "      <td>1.000000</td>\n",
              "      <td>0.000000</td>\n",
              "      <td>0.000000</td>\n",
              "      <td>3.000000</td>\n",
              "      <td>7.000000</td>\n",
              "      <td>1190.000000</td>\n",
              "      <td>0.000000</td>\n",
              "      <td>1951.000000</td>\n",
              "      <td>0.000000</td>\n",
              "      <td>98033.000000</td>\n",
              "      <td>47.471000</td>\n",
              "      <td>-122.328000</td>\n",
              "      <td>1490.000000</td>\n",
              "      <td>5100.000000</td>\n",
              "    </tr>\n",
              "    <tr>\n",
              "      <th>50%</th>\n",
              "      <td>3.904930e+09</td>\n",
              "      <td>4.500000e+05</td>\n",
              "      <td>3.000000</td>\n",
              "      <td>2.250000</td>\n",
              "      <td>1910.000000</td>\n",
              "      <td>7.618000e+03</td>\n",
              "      <td>1.500000</td>\n",
              "      <td>0.000000</td>\n",
              "      <td>0.000000</td>\n",
              "      <td>3.000000</td>\n",
              "      <td>7.000000</td>\n",
              "      <td>1560.000000</td>\n",
              "      <td>0.000000</td>\n",
              "      <td>1975.000000</td>\n",
              "      <td>0.000000</td>\n",
              "      <td>98065.000000</td>\n",
              "      <td>47.571800</td>\n",
              "      <td>-122.230000</td>\n",
              "      <td>1840.000000</td>\n",
              "      <td>7620.000000</td>\n",
              "    </tr>\n",
              "    <tr>\n",
              "      <th>75%</th>\n",
              "      <td>7.308900e+09</td>\n",
              "      <td>6.450000e+05</td>\n",
              "      <td>4.000000</td>\n",
              "      <td>2.500000</td>\n",
              "      <td>2550.000000</td>\n",
              "      <td>1.068800e+04</td>\n",
              "      <td>2.000000</td>\n",
              "      <td>0.000000</td>\n",
              "      <td>0.000000</td>\n",
              "      <td>4.000000</td>\n",
              "      <td>8.000000</td>\n",
              "      <td>2210.000000</td>\n",
              "      <td>560.000000</td>\n",
              "      <td>1997.000000</td>\n",
              "      <td>0.000000</td>\n",
              "      <td>98118.000000</td>\n",
              "      <td>47.678000</td>\n",
              "      <td>-122.125000</td>\n",
              "      <td>2360.000000</td>\n",
              "      <td>10083.000000</td>\n",
              "    </tr>\n",
              "    <tr>\n",
              "      <th>max</th>\n",
              "      <td>9.900000e+09</td>\n",
              "      <td>7.700000e+06</td>\n",
              "      <td>33.000000</td>\n",
              "      <td>8.000000</td>\n",
              "      <td>13540.000000</td>\n",
              "      <td>1.651359e+06</td>\n",
              "      <td>3.500000</td>\n",
              "      <td>1.000000</td>\n",
              "      <td>4.000000</td>\n",
              "      <td>5.000000</td>\n",
              "      <td>13.000000</td>\n",
              "      <td>9410.000000</td>\n",
              "      <td>4820.000000</td>\n",
              "      <td>2015.000000</td>\n",
              "      <td>2015.000000</td>\n",
              "      <td>98199.000000</td>\n",
              "      <td>47.777600</td>\n",
              "      <td>-121.315000</td>\n",
              "      <td>6210.000000</td>\n",
              "      <td>871200.000000</td>\n",
              "    </tr>\n",
              "  </tbody>\n",
              "</table>\n",
              "</div>\n",
              "      <button class=\"colab-df-convert\" onclick=\"convertToInteractive('df-f6e1cfdf-3bbc-4c3a-8273-d2e20e4aff43')\"\n",
              "              title=\"Convert this dataframe to an interactive table.\"\n",
              "              style=\"display:none;\">\n",
              "        \n",
              "  <svg xmlns=\"http://www.w3.org/2000/svg\" height=\"24px\"viewBox=\"0 0 24 24\"\n",
              "       width=\"24px\">\n",
              "    <path d=\"M0 0h24v24H0V0z\" fill=\"none\"/>\n",
              "    <path d=\"M18.56 5.44l.94 2.06.94-2.06 2.06-.94-2.06-.94-.94-2.06-.94 2.06-2.06.94zm-11 1L8.5 8.5l.94-2.06 2.06-.94-2.06-.94L8.5 2.5l-.94 2.06-2.06.94zm10 10l.94 2.06.94-2.06 2.06-.94-2.06-.94-.94-2.06-.94 2.06-2.06.94z\"/><path d=\"M17.41 7.96l-1.37-1.37c-.4-.4-.92-.59-1.43-.59-.52 0-1.04.2-1.43.59L10.3 9.45l-7.72 7.72c-.78.78-.78 2.05 0 2.83L4 21.41c.39.39.9.59 1.41.59.51 0 1.02-.2 1.41-.59l7.78-7.78 2.81-2.81c.8-.78.8-2.07 0-2.86zM5.41 20L4 18.59l7.72-7.72 1.47 1.35L5.41 20z\"/>\n",
              "  </svg>\n",
              "      </button>\n",
              "      \n",
              "  <style>\n",
              "    .colab-df-container {\n",
              "      display:flex;\n",
              "      flex-wrap:wrap;\n",
              "      gap: 12px;\n",
              "    }\n",
              "\n",
              "    .colab-df-convert {\n",
              "      background-color: #E8F0FE;\n",
              "      border: none;\n",
              "      border-radius: 50%;\n",
              "      cursor: pointer;\n",
              "      display: none;\n",
              "      fill: #1967D2;\n",
              "      height: 32px;\n",
              "      padding: 0 0 0 0;\n",
              "      width: 32px;\n",
              "    }\n",
              "\n",
              "    .colab-df-convert:hover {\n",
              "      background-color: #E2EBFA;\n",
              "      box-shadow: 0px 1px 2px rgba(60, 64, 67, 0.3), 0px 1px 3px 1px rgba(60, 64, 67, 0.15);\n",
              "      fill: #174EA6;\n",
              "    }\n",
              "\n",
              "    [theme=dark] .colab-df-convert {\n",
              "      background-color: #3B4455;\n",
              "      fill: #D2E3FC;\n",
              "    }\n",
              "\n",
              "    [theme=dark] .colab-df-convert:hover {\n",
              "      background-color: #434B5C;\n",
              "      box-shadow: 0px 1px 3px 1px rgba(0, 0, 0, 0.15);\n",
              "      filter: drop-shadow(0px 1px 2px rgba(0, 0, 0, 0.3));\n",
              "      fill: #FFFFFF;\n",
              "    }\n",
              "  </style>\n",
              "\n",
              "      <script>\n",
              "        const buttonEl =\n",
              "          document.querySelector('#df-f6e1cfdf-3bbc-4c3a-8273-d2e20e4aff43 button.colab-df-convert');\n",
              "        buttonEl.style.display =\n",
              "          google.colab.kernel.accessAllowed ? 'block' : 'none';\n",
              "\n",
              "        async function convertToInteractive(key) {\n",
              "          const element = document.querySelector('#df-f6e1cfdf-3bbc-4c3a-8273-d2e20e4aff43');\n",
              "          const dataTable =\n",
              "            await google.colab.kernel.invokeFunction('convertToInteractive',\n",
              "                                                     [key], {});\n",
              "          if (!dataTable) return;\n",
              "\n",
              "          const docLinkHtml = 'Like what you see? Visit the ' +\n",
              "            '<a target=\"_blank\" href=https://colab.research.google.com/notebooks/data_table.ipynb>data table notebook</a>'\n",
              "            + ' to learn more about interactive tables.';\n",
              "          element.innerHTML = '';\n",
              "          dataTable['output_type'] = 'display_data';\n",
              "          await google.colab.output.renderOutput(dataTable, element);\n",
              "          const docLink = document.createElement('div');\n",
              "          docLink.innerHTML = docLinkHtml;\n",
              "          element.appendChild(docLink);\n",
              "        }\n",
              "      </script>\n",
              "    </div>\n",
              "  </div>\n",
              "  "
            ]
          },
          "metadata": {},
          "execution_count": 163
        }
      ]
    },
    {
      "cell_type": "code",
      "source": [
        "df.drop('id', axis = 1, inplace = True)\n",
        "df.drop('date', axis = 1, inplace = True)\n",
        "df.drop('zipcode', axis = 1, inplace = True)\n",
        "df.drop('lat', axis = 1, inplace = True)\n",
        "df.drop('long', axis = 1, inplace = True)\n"
      ],
      "metadata": {
        "id": "0KUD8T08qMmq"
      },
      "execution_count": 164,
      "outputs": []
    },
    {
      "cell_type": "code",
      "source": [
        "plt.figure(figsize=(12,8)) \n",
        "sns.heatmap(df.corr(), annot=True, cmap='Dark2_r', linewidths = 2)\n",
        "plt.show()"
      ],
      "metadata": {
        "id": "r-jk_nHmqKpp",
        "colab": {
          "base_uri": "https://localhost:8080/",
          "height": 551
        },
        "outputId": "df94bcac-0a88-4fd2-bd1b-7098b0e10703"
      },
      "execution_count": 165,
      "outputs": [
        {
          "output_type": "display_data",
          "data": {
            "text/plain": [
              "<Figure size 864x576 with 2 Axes>"
            ],
            "image/png": "[encoded data removed]"
          },
          "metadata": {
            "needs_background": "light"
          }
        }
      ]
    },
    {
      "cell_type": "code",
      "source": [
        "columns = df.columns.drop('price')\n",
        "\n",
        "features1 = columns\n",
        "label = ['price']\n",
        "\n",
        "X1 = df[features1]\n",
        "y = df[label]"
      ],
      "metadata": {
        "id": "p4zqCnFwq7Oc"
      },
      "execution_count": 166,
      "outputs": []
    },
    {
      "cell_type": "code",
      "source": [
        "#Variables con más correlación para acortar los modelos:\n",
        "features = ['sqft_living', 'grade', 'sqft_above', 'sqft_living15']\n",
        "X = df[features]"
      ],
      "metadata": {
        "id": "0faHrN8-rv9V"
      },
      "execution_count": 167,
      "outputs": []
    },
    {
      "cell_type": "code",
      "source": [
        "from sklearn.model_selection import train_test_split\n",
        "X_train, X_test, y_train, y_test = train_test_split(X, y, test_size = 0.1, random_state = 101)\n",
        "\n",
        "print(f'Numero total de registros en la bdd: {len(X)}')\n",
        "print(\"*****\"*10)\n",
        "print(f'Numero total de registros en el training set: {len(X_train)}')\n",
        "print(f'Tamaño de X_train: {X_train.shape}')\n",
        "print(\"*****\"*10)\n",
        "print(f'Mumero total de registros en el test dataset: {len(X_test)}')\n",
        "print(f'Tamaño del X_test: {X_test.shape}')"
      ],
      "metadata": {
        "id": "p91PEVPLq93-",
        "colab": {
          "base_uri": "https://localhost:8080/"
        },
        "outputId": "c021fe99-7b71-42ec-ffac-419b64bacb9d"
      },
      "execution_count": 168,
      "outputs": [
        {
          "output_type": "stream",
          "name": "stdout",
          "text": [
            "Numero total de registros en la bdd: 21613\n",
            "**************************************************\n",
            "Numero total de registros en el training set: 19451\n",
            "Tamaño de X_train: (19451, 4)\n",
            "**************************************************\n",
            "Mumero total de registros en el test dataset: 2162\n",
            "Tamaño del X_test: (2162, 4)\n"
          ]
        }
      ]
    },
    {
      "cell_type": "markdown",
      "source": [
        "#Regresion Lineal"
      ],
      "metadata": {
        "id": "JfeR46Q7EDK1"
      }
    },
    {
      "cell_type": "code",
      "source": [
        "from sklearn.linear_model import LinearRegression\n",
        "\n",
        "lre=LinearRegression() "
      ],
      "metadata": {
        "id": "mni1DSC3EVmb"
      },
      "execution_count": 169,
      "outputs": []
    },
    {
      "cell_type": "code",
      "source": [
        "## Aqui entreno al modelo, le doy X train para que me calcule Y train\n",
        "lre.fit(X_train, y_train)"
      ],
      "metadata": {
        "colab": {
          "base_uri": "https://localhost:8080/"
        },
        "outputId": "1163db43-e353-4b49-eeba-ba3843f5d316",
        "id": "P61fksj_EVmb"
      },
      "execution_count": 170,
      "outputs": [
        {
          "output_type": "execute_result",
          "data": {
            "text/plain": [
              "LinearRegression()"
            ]
          },
          "metadata": {},
          "execution_count": 170
        }
      ]
    },
    {
      "cell_type": "code",
      "source": [
        "lre.intercept_"
      ],
      "metadata": {
        "colab": {
          "base_uri": "https://localhost:8080/"
        },
        "id": "jzvj3TDBG-Ty",
        "outputId": "3268e34f-d20d-4b40-a94c-fcb3308e8387"
      },
      "execution_count": 201,
      "outputs": [
        {
          "output_type": "execute_result",
          "data": {
            "text/plain": [
              "array([-640856.06504845])"
            ]
          },
          "metadata": {},
          "execution_count": 201
        }
      ]
    },
    {
      "cell_type": "code",
      "source": [
        "lre.coef_"
      ],
      "metadata": {
        "colab": {
          "base_uri": "https://localhost:8080/"
        },
        "id": "JNEzTvbVHDS5",
        "outputId": "6e7e8797-dfdb-4d2b-a498-f3b4706473c7"
      },
      "execution_count": 202,
      "outputs": [
        {
          "output_type": "execute_result",
          "data": {
            "text/plain": [
              "array([[ 2.25280604e+02,  1.05048977e+05, -8.49539120e+01,\n",
              "         2.99770824e+01]])"
            ]
          },
          "metadata": {},
          "execution_count": 202
        }
      ]
    },
    {
      "cell_type": "code",
      "source": [
        "#Luego hago predicciones con data de entrenamiento -Pruebo mi modelo con datos de entrenamiento\n",
        "yhat_train = lre.predict(X_train)\n",
        "yhat_train[0:5]"
      ],
      "metadata": {
        "colab": {
          "base_uri": "https://localhost:8080/"
        },
        "outputId": "d0873c7a-3897-491b-faee-5d3ed5e7a9b5",
        "id": "66oFi5o1EVmf"
      },
      "execution_count": 171,
      "outputs": [
        {
          "output_type": "execute_result",
          "data": {
            "text/plain": [
              "array([[1029387.30152402],\n",
              "       [1221291.54884756],\n",
              "       [ 902506.74605382],\n",
              "       [ 870063.71871277],\n",
              "       [ 826926.37409387]])"
            ]
          },
          "metadata": {},
          "execution_count": 171
        }
      ]
    },
    {
      "cell_type": "code",
      "source": [
        "#Luego hago predicciones con data de validacion - pruebo mi modelo con datos de validacion\n",
        "yhat_test = lre.predict(X_test)\n",
        "yhat_test[0:5]"
      ],
      "metadata": {
        "colab": {
          "base_uri": "https://localhost:8080/"
        },
        "outputId": "3fbad264-7085-4dd2-8834-d8135a9a7163",
        "id": "u5gUNVbrEVmg"
      },
      "execution_count": 172,
      "outputs": [
        {
          "output_type": "execute_result",
          "data": {
            "text/plain": [
              "array([[289793.13508073],\n",
              "       [596829.39536277],\n",
              "       [594718.5663363 ],\n",
              "       [481415.14339571],\n",
              "       [378894.08006355]])"
            ]
          },
          "metadata": {},
          "execution_count": 172
        }
      ]
    },
    {
      "cell_type": "code",
      "source": [
        "from sklearn.metrics import r2_score\n",
        "from sklearn.metrics import mean_absolute_error\n",
        "from sklearn.metrics import mean_absolute_percentage_error\n",
        "from sklearn.metrics import mean_squared_error\n",
        "\n",
        "RLRsquare =r2_score(y_test, yhat_test)\n",
        "RLMAE=  mean_absolute_error(y_test, yhat_test)\n",
        "RLMAPE= mean_absolute_percentage_error(y_test, yhat_test)\n",
        "RLRMSE = mean_squared_error (y_test, yhat_test,squared=True)\n",
        "\n",
        "\n",
        "print(RLRsquare, ': R^2')\n",
        "print(RLMAE, ': MAE Mean absolute error')\n",
        "print(RLMAPE, ': MAPE mean absolute percentage error')\n",
        "print(RLRMSE, ': RMSE root mean squared error')\n"
      ],
      "metadata": {
        "colab": {
          "base_uri": "https://localhost:8080/"
        },
        "outputId": "0eb3492a-baa0-4c0d-8d06-b7f3d4eeae3e",
        "id": "vJjUoM7rEVmh"
      },
      "execution_count": 173,
      "outputs": [
        {
          "output_type": "stream",
          "name": "stdout",
          "text": [
            "0.5434354191181658 : R^2\n",
            "159798.424665685 : MAE Mean absolute error\n",
            "0.3228621668714207 : MAPE mean absolute percentage error\n",
            "71931001465.66246 : RMSE root mean squared error\n"
          ]
        }
      ]
    },
    {
      "cell_type": "markdown",
      "source": [
        "#Regresion Polinomial"
      ],
      "metadata": {
        "id": "DJPu7ta1GcJ1"
      }
    },
    {
      "cell_type": "code",
      "source": [
        "pr = PolynomialFeatures(degree=3)\n",
        "x_train_pr = pr.fit_transform(X_train)\n",
        "x_test_pr = pr.fit_transform(X_test)\n",
        "pr"
      ],
      "metadata": {
        "colab": {
          "base_uri": "https://localhost:8080/"
        },
        "outputId": "e7340582-d1fc-471c-a6f7-5598fb615063",
        "id": "lmvuolafHTbr"
      },
      "execution_count": 174,
      "outputs": [
        {
          "output_type": "execute_result",
          "data": {
            "text/plain": [
              "PolynomialFeatures(degree=3)"
            ]
          },
          "metadata": {},
          "execution_count": 174
        }
      ]
    },
    {
      "cell_type": "code",
      "source": [
        "poly = LinearRegression()\n",
        "poly.fit(x_train_pr, y_train)\n"
      ],
      "metadata": {
        "colab": {
          "base_uri": "https://localhost:8080/"
        },
        "outputId": "95d25c34-03dd-4298-8d78-bd9f2301df9c",
        "id": "Tq68U-fQHTbs"
      },
      "execution_count": 175,
      "outputs": [
        {
          "output_type": "execute_result",
          "data": {
            "text/plain": [
              "LinearRegression()"
            ]
          },
          "metadata": {},
          "execution_count": 175
        }
      ]
    },
    {
      "cell_type": "code",
      "source": [
        "poly.intercept_"
      ],
      "metadata": {
        "colab": {
          "base_uri": "https://localhost:8080/"
        },
        "id": "nhpY--RCHLp0",
        "outputId": "c391c199-8310-451b-f81e-967880a47b0e"
      },
      "execution_count": 203,
      "outputs": [
        {
          "output_type": "execute_result",
          "data": {
            "text/plain": [
              "array([66727.84890124])"
            ]
          },
          "metadata": {},
          "execution_count": 203
        }
      ]
    },
    {
      "cell_type": "code",
      "source": [
        "poly.coef_"
      ],
      "metadata": {
        "colab": {
          "base_uri": "https://localhost:8080/"
        },
        "id": "Cnf9qx6tHL_9",
        "outputId": "e67e8730-aef9-4011-845e-a1ca92539824"
      },
      "execution_count": 204,
      "outputs": [
        {
          "output_type": "execute_result",
          "data": {
            "text/plain": [
              "array([[-3.20166416e-01,  2.16169004e+01,  1.60732590e+05,\n",
              "         6.41597544e+01, -4.65939174e+02, -3.23811315e-01,\n",
              "         6.53184891e+01,  6.61233724e-01, -8.41732620e-02,\n",
              "        -3.98098449e+04, -8.11534104e+01,  1.11225238e+02,\n",
              "        -3.00111639e-01, -2.15785494e-02,  1.09976809e-01,\n",
              "         4.76827751e-05,  4.76419942e-02, -2.35750800e-04,\n",
              "        -4.31284444e-05, -1.34493698e+01, -7.05120045e-02,\n",
              "         3.65453812e-02,  3.32324672e-04,  6.56805011e-05,\n",
              "        -2.23964363e-05,  3.36631047e+03,  1.55826959e+01,\n",
              "        -1.07073762e+01,  1.21615285e-02, -1.34128067e-02,\n",
              "        -7.00140388e-03, -1.44923518e-04,  1.77667159e-05,\n",
              "        -5.07191472e-05,  2.65232173e-05]])"
            ]
          },
          "metadata": {},
          "execution_count": 204
        }
      ]
    },
    {
      "cell_type": "code",
      "source": [
        "yhat = poly.predict(x_test_pr)\n"
      ],
      "metadata": {
        "id": "EBExS6n5HTbs"
      },
      "execution_count": 176,
      "outputs": []
    },
    {
      "cell_type": "code",
      "source": [
        "PolyRsquare =r2_score(y_test, yhat)\n",
        "PolyMAE=  mean_absolute_error(y_test, yhat)\n",
        "PolyMAPE= mean_absolute_percentage_error(y_test, yhat)\n",
        "PolyRMSE = mean_squared_error (y_test, yhat,squared=True)\n",
        "\n",
        "\n",
        "print(PolyRsquare, ': R^2')\n",
        "print(PolyMAE, ': MAE Mean absolute error')\n",
        "print(PolyMAPE, ': MAPE mean absolute percentage error')\n",
        "print(PolyRMSE, ': RMSE root mean squared error')\n"
      ],
      "metadata": {
        "colab": {
          "base_uri": "https://localhost:8080/"
        },
        "outputId": "f8b75212-460a-4671-bae3-b98b01fcd9f0",
        "id": "hEQbMFVEHTbt"
      },
      "execution_count": 177,
      "outputs": [
        {
          "output_type": "stream",
          "name": "stdout",
          "text": [
            "0.6891869868771305 : R^2\n",
            "142943.0212294118 : MAE Mean absolute error\n",
            "0.2909778700418441 : MAPE mean absolute percentage error\n",
            "48968080833.83595 : RMSE root mean squared error\n"
          ]
        }
      ]
    },
    {
      "cell_type": "markdown",
      "source": [
        "#Regresion Ridge"
      ],
      "metadata": {
        "id": "VWPU820wIid0"
      }
    },
    {
      "cell_type": "code",
      "metadata": {
        "id": "Xmo1vLwdI-DM"
      },
      "source": [
        "from sklearn.linear_model import Lasso, Ridge\n",
        "from sklearn.model_selection import GridSearchCV"
      ],
      "execution_count": 178,
      "outputs": []
    },
    {
      "cell_type": "code",
      "source": [
        "parameters1= [{'alpha': [0.000001,0.001,0.0001,0.01,0.1,1,5, 10,19, 100, 1000, 10000, 100000, 100000]}]\n",
        "parameters1"
      ],
      "metadata": {
        "colab": {
          "base_uri": "https://localhost:8080/"
        },
        "outputId": "96f6936d-4e99-4226-ebb0-76c87e38a562",
        "id": "aHw8j0GBI-DN"
      },
      "execution_count": 179,
      "outputs": [
        {
          "output_type": "execute_result",
          "data": {
            "text/plain": [
              "[{'alpha': [1e-06,\n",
              "   0.001,\n",
              "   0.0001,\n",
              "   0.01,\n",
              "   0.1,\n",
              "   1,\n",
              "   5,\n",
              "   10,\n",
              "   19,\n",
              "   100,\n",
              "   1000,\n",
              "   10000,\n",
              "   100000,\n",
              "   100000]}]"
            ]
          },
          "metadata": {},
          "execution_count": 179
        }
      ]
    },
    {
      "cell_type": "code",
      "source": [
        "RR=Ridge()\n",
        "RR"
      ],
      "metadata": {
        "colab": {
          "base_uri": "https://localhost:8080/"
        },
        "outputId": "7e15a5b1-6276-47d0-dc97-23813a46d48d",
        "id": "thEhGOtMI-DN"
      },
      "execution_count": 180,
      "outputs": [
        {
          "output_type": "execute_result",
          "data": {
            "text/plain": [
              "Ridge()"
            ]
          },
          "metadata": {},
          "execution_count": 180
        }
      ]
    },
    {
      "cell_type": "code",
      "source": [
        "Grid1 = GridSearchCV(RR, parameters1,cv=4)"
      ],
      "metadata": {
        "id": "EfMBIQBgI-DN"
      },
      "execution_count": 181,
      "outputs": []
    },
    {
      "cell_type": "code",
      "source": [
        "Grid1.fit(X_train, y_train)"
      ],
      "metadata": {
        "colab": {
          "base_uri": "https://localhost:8080/"
        },
        "outputId": "cba81a24-a6a2-4bac-86e7-3912c942158c",
        "id": "J5rhOGRnI-DO"
      },
      "execution_count": 182,
      "outputs": [
        {
          "output_type": "execute_result",
          "data": {
            "text/plain": [
              "GridSearchCV(cv=4, estimator=Ridge(),\n",
              "             param_grid=[{'alpha': [1e-06, 0.001, 0.0001, 0.01, 0.1, 1, 5, 10,\n",
              "                                    19, 100, 1000, 10000, 100000, 100000]}])"
            ]
          },
          "metadata": {},
          "execution_count": 182
        }
      ]
    },
    {
      "cell_type": "code",
      "source": [
        "BestRR=Grid1.best_estimator_\n",
        "BestRR"
      ],
      "metadata": {
        "colab": {
          "base_uri": "https://localhost:8080/"
        },
        "outputId": "46edc6e4-4973-45a9-8d90-f3bb3e2244fb",
        "id": "fXYOk0hBI-DO"
      },
      "execution_count": 183,
      "outputs": [
        {
          "output_type": "execute_result",
          "data": {
            "text/plain": [
              "Ridge(alpha=1e-06)"
            ]
          },
          "metadata": {},
          "execution_count": 183
        }
      ]
    },
    {
      "cell_type": "code",
      "source": [
        "pr = PolynomialFeatures(degree=3)\n",
        "x_train_pr = pr.fit_transform(X_train)\n",
        "x_test_pr = pr.fit_transform(X_test)\n",
        "pr"
      ],
      "metadata": {
        "colab": {
          "base_uri": "https://localhost:8080/"
        },
        "outputId": "0a0f3d31-8739-472f-f684-0edc861b1264",
        "id": "_hDDGEDgI-DO"
      },
      "execution_count": 184,
      "outputs": [
        {
          "output_type": "execute_result",
          "data": {
            "text/plain": [
              "PolynomialFeatures(degree=3)"
            ]
          },
          "metadata": {},
          "execution_count": 184
        }
      ]
    },
    {
      "cell_type": "code",
      "source": [
        "RidgeModel=Ridge(alpha=0.000001)"
      ],
      "metadata": {
        "id": "8eBVsHI3I-DO"
      },
      "execution_count": 185,
      "outputs": []
    },
    {
      "cell_type": "code",
      "source": [
        "RidgeModel.fit(x_train_pr, y_train)"
      ],
      "metadata": {
        "colab": {
          "base_uri": "https://localhost:8080/"
        },
        "outputId": "00e6ea8b-8ca8-458f-c449-0889fb3a8412",
        "id": "BoFHMXM6I-DO"
      },
      "execution_count": 186,
      "outputs": [
        {
          "output_type": "stream",
          "name": "stderr",
          "text": [
            "/usr/local/lib/python3.7/dist-packages/sklearn/linear_model/_ridge.py:157: LinAlgWarning: Ill-conditioned matrix (rcond=8.05053e-33): result may not be accurate.\n",
            "  return linalg.solve(A, Xy, sym_pos=True, overwrite_a=True).T\n"
          ]
        },
        {
          "output_type": "execute_result",
          "data": {
            "text/plain": [
              "Ridge(alpha=1e-06)"
            ]
          },
          "metadata": {},
          "execution_count": 186
        }
      ]
    },
    {
      "cell_type": "code",
      "source": [
        "RidgeModel.intercept_"
      ],
      "metadata": {
        "colab": {
          "base_uri": "https://localhost:8080/"
        },
        "id": "BphrgJrSHX45",
        "outputId": "4d1afa6f-187f-486d-a113-66707957bad7"
      },
      "execution_count": 205,
      "outputs": [
        {
          "output_type": "execute_result",
          "data": {
            "text/plain": [
              "array([66727.46273537])"
            ]
          },
          "metadata": {},
          "execution_count": 205
        }
      ]
    },
    {
      "cell_type": "code",
      "source": [
        "RidgeModel.coef_"
      ],
      "metadata": {
        "colab": {
          "base_uri": "https://localhost:8080/"
        },
        "id": "wpT6h3l2HYQK",
        "outputId": "a902abe8-ea30-409d-a572-ba9d4a500c5f"
      },
      "execution_count": 206,
      "outputs": [
        {
          "output_type": "execute_result",
          "data": {
            "text/plain": [
              "array([[ 0.00000000e+00,  2.16180136e+01,  1.60732173e+05,\n",
              "         6.41590930e+01, -4.65938548e+02, -3.23811546e-01,\n",
              "         6.53182852e+01,  6.61234214e-01, -8.41733187e-02,\n",
              "        -3.98098051e+04, -8.11532677e+01,  1.11225292e+02,\n",
              "        -3.00111756e-01, -2.15787577e-02,  1.09976741e-01,\n",
              "         4.76828150e-05,  4.76420111e-02, -2.35750840e-04,\n",
              "        -4.31284687e-05, -1.34493630e+01, -7.05120229e-02,\n",
              "         3.65453751e-02,  3.32324713e-04,  6.56805058e-05,\n",
              "        -2.23964195e-05,  3.36630830e+03,  1.55826997e+01,\n",
              "        -1.07073782e+01,  1.21615205e-02, -1.34128080e-02,\n",
              "        -7.00140119e-03, -1.44923543e-04,  1.77667189e-05,\n",
              "        -5.07191550e-05,  2.65232158e-05]])"
            ]
          },
          "metadata": {},
          "execution_count": 206
        }
      ]
    },
    {
      "cell_type": "code",
      "source": [
        "yhat = RidgeModel.predict(x_test_pr)"
      ],
      "metadata": {
        "id": "vkl21VhOI-DP"
      },
      "execution_count": 187,
      "outputs": []
    },
    {
      "cell_type": "code",
      "source": [
        "RidgeRsquare =r2_score(y_test, yhat)\n",
        "RidgeMAE=  mean_absolute_error(y_test, yhat)\n",
        "RidgeMAPE= mean_absolute_percentage_error(y_test, yhat)\n",
        "RidgeRMSE = mean_squared_error (y_test, yhat,squared=True)\n",
        "\n",
        "\n",
        "print(RidgeRsquare, ': R^2')\n",
        "print(RidgeMAE, ': MAE Mean absolute error')\n",
        "print(RidgeMAPE, ': MAPE mean absolute percentage error')\n",
        "print(RidgeRMSE, ': RMSE root mean squared error')"
      ],
      "metadata": {
        "colab": {
          "base_uri": "https://localhost:8080/"
        },
        "outputId": "f2d30ed4-c0cd-450f-d9e0-0c4708e26319",
        "id": "WaeO16ZGI-DP"
      },
      "execution_count": 188,
      "outputs": [
        {
          "output_type": "stream",
          "name": "stdout",
          "text": [
            "0.6891871144944977 : R^2\n",
            "142943.02782334556 : MAE Mean absolute error\n",
            "0.2909777905445845 : MAPE mean absolute percentage error\n",
            "48968060727.92893 : RMSE root mean squared error\n"
          ]
        }
      ]
    },
    {
      "cell_type": "markdown",
      "source": [
        "#Regresion con Lasso"
      ],
      "metadata": {
        "id": "CIAlAKMQMYfG"
      }
    },
    {
      "cell_type": "code",
      "source": [
        "parameters1= [{'alpha': [0.00001,0.001,0.01,0.1,0.2,0.4,1]}]\n",
        "parameters1"
      ],
      "metadata": {
        "colab": {
          "base_uri": "https://localhost:8080/"
        },
        "id": "TmndxIt2Mov4",
        "outputId": "636d668c-298a-48c4-f362-d7492827abdb"
      },
      "execution_count": 189,
      "outputs": [
        {
          "output_type": "execute_result",
          "data": {
            "text/plain": [
              "[{'alpha': [1e-05, 0.001, 0.01, 0.1, 0.2, 0.4, 1]}]"
            ]
          },
          "metadata": {},
          "execution_count": 189
        }
      ]
    },
    {
      "cell_type": "code",
      "source": [
        "LS=Lasso()\n",
        "LS"
      ],
      "metadata": {
        "colab": {
          "base_uri": "https://localhost:8080/"
        },
        "outputId": "747ec5ce-6404-4c05-c0d6-4858d4f7a383",
        "id": "UH6BELC0MowA"
      },
      "execution_count": 190,
      "outputs": [
        {
          "output_type": "execute_result",
          "data": {
            "text/plain": [
              "Lasso()"
            ]
          },
          "metadata": {},
          "execution_count": 190
        }
      ]
    },
    {
      "cell_type": "code",
      "source": [
        "Grid2 = GridSearchCV(LS, parameters1,cv=4)"
      ],
      "metadata": {
        "id": "9x-6x7DbMowB"
      },
      "execution_count": 191,
      "outputs": []
    },
    {
      "cell_type": "code",
      "source": [
        "Grid2.fit(X_train, y_train)"
      ],
      "metadata": {
        "colab": {
          "base_uri": "https://localhost:8080/"
        },
        "outputId": "c3a70e06-73e2-4790-a958-96da1f3b8bca",
        "id": "0hw7QbY2MowB"
      },
      "execution_count": 192,
      "outputs": [
        {
          "output_type": "execute_result",
          "data": {
            "text/plain": [
              "GridSearchCV(cv=4, estimator=Lasso(),\n",
              "             param_grid=[{'alpha': [1e-05, 0.001, 0.01, 0.1, 0.2, 0.4, 1]}])"
            ]
          },
          "metadata": {},
          "execution_count": 192
        }
      ]
    },
    {
      "cell_type": "code",
      "source": [
        "BestLS=Grid2.best_estimator_\n",
        "BestLS"
      ],
      "metadata": {
        "colab": {
          "base_uri": "https://localhost:8080/"
        },
        "outputId": "496bc110-7987-4d56-b044-a8bab62499f3",
        "id": "aRDJQtPJMowB"
      },
      "execution_count": 193,
      "outputs": [
        {
          "output_type": "execute_result",
          "data": {
            "text/plain": [
              "Lasso(alpha=1e-05)"
            ]
          },
          "metadata": {},
          "execution_count": 193
        }
      ]
    },
    {
      "cell_type": "code",
      "source": [
        "pr = PolynomialFeatures(degree=3)\n",
        "x_train_pr = pr.fit_transform(X_train)\n",
        "x_test_pr = pr.fit_transform(X_test)\n",
        "pr"
      ],
      "metadata": {
        "colab": {
          "base_uri": "https://localhost:8080/"
        },
        "outputId": "0f613be0-6ffd-4514-d241-39061bd48c06",
        "id": "qrCCTxLvMowB"
      },
      "execution_count": 194,
      "outputs": [
        {
          "output_type": "execute_result",
          "data": {
            "text/plain": [
              "PolynomialFeatures(degree=3)"
            ]
          },
          "metadata": {},
          "execution_count": 194
        }
      ]
    },
    {
      "cell_type": "code",
      "source": [
        "LassoModel=Lasso(alpha=0.00001)"
      ],
      "metadata": {
        "id": "kiD1sm5dMowC"
      },
      "execution_count": 195,
      "outputs": []
    },
    {
      "cell_type": "code",
      "source": [
        "LassoModel.fit(x_train_pr, y_train)"
      ],
      "metadata": {
        "colab": {
          "base_uri": "https://localhost:8080/"
        },
        "outputId": "cbbc1f1a-bda1-465c-dcd5-e45bcd5dcbc6",
        "id": "Peg3AIAqMowC"
      },
      "execution_count": 196,
      "outputs": [
        {
          "output_type": "stream",
          "name": "stderr",
          "text": [
            "/usr/local/lib/python3.7/dist-packages/sklearn/linear_model/_coordinate_descent.py:648: ConvergenceWarning: Objective did not converge. You might want to increase the number of iterations, check the scale of the features or consider increasing regularisation. Duality gap: 4.884e+14, tolerance: 2.572e+11\n",
            "  coef_, l1_reg, l2_reg, X, y, max_iter, tol, rng, random, positive\n"
          ]
        },
        {
          "output_type": "execute_result",
          "data": {
            "text/plain": [
              "Lasso(alpha=1e-05)"
            ]
          },
          "metadata": {},
          "execution_count": 196
        }
      ]
    },
    {
      "cell_type": "code",
      "source": [
        "LassoModel.intercept_"
      ],
      "metadata": {
        "colab": {
          "base_uri": "https://localhost:8080/"
        },
        "id": "EmmiAMKYHfuG",
        "outputId": "3cb1c588-01c3-4d92-ec92-264a3c5c13cc"
      },
      "execution_count": 208,
      "outputs": [
        {
          "output_type": "execute_result",
          "data": {
            "text/plain": [
              "array([252265.89933647])"
            ]
          },
          "metadata": {},
          "execution_count": 208
        }
      ]
    },
    {
      "cell_type": "code",
      "source": [
        "LassoModel.coef_"
      ],
      "metadata": {
        "colab": {
          "base_uri": "https://localhost:8080/"
        },
        "id": "wHuMpZN8HgGr",
        "outputId": "7964c31a-5fa1-486b-f246-dc8de8a3dfa5"
      },
      "execution_count": 207,
      "outputs": [
        {
          "output_type": "execute_result",
          "data": {
            "text/plain": [
              "array([ 0.00000000e+00, -1.94969307e+02, -5.07788692e+03,  1.27905736e+02,\n",
              "       -4.06271596e+01, -2.70408180e-02,  2.92906830e+01,  3.80913017e-02,\n",
              "        2.04002471e-02, -3.25867202e+03, -9.25205971e+00, -6.20452685e+00,\n",
              "       -4.13603026e-02, -3.30298654e-03,  6.66024772e-02, -9.49492778e-06,\n",
              "        6.59543436e-03,  7.06210426e-06,  3.33243983e-06, -7.87179361e-02,\n",
              "        2.38492650e-03,  7.78447302e-05, -2.26759661e-06,  1.28232524e-05,\n",
              "       -2.05211003e-05,  9.66666613e+02, -1.34183660e+00, -1.24060777e+00,\n",
              "       -2.65326314e-03,  1.00702183e-03, -1.63328536e-03, -3.19642906e-06,\n",
              "        1.68541907e-05, -3.46137676e-05,  2.01784265e-05])"
            ]
          },
          "metadata": {},
          "execution_count": 207
        }
      ]
    },
    {
      "cell_type": "code",
      "source": [
        "yhat = LassoModel.predict(x_test_pr)"
      ],
      "metadata": {
        "id": "64Zcxe75MowD"
      },
      "execution_count": 197,
      "outputs": []
    },
    {
      "cell_type": "code",
      "source": [
        "LassoRsquare =r2_score(y_test, yhat)\n",
        "LassoMAE=  mean_absolute_error(y_test, yhat)\n",
        "LassoMAPE= mean_absolute_percentage_error(y_test, yhat)\n",
        "LassoRMSE = mean_squared_error (y_test, yhat,squared=True)\n",
        "\n",
        "\n",
        "print(LassoRsquare, ': R^2')\n",
        "print(LassoMAE, ': MAE Mean absolute error')\n",
        "print(LassoMAPE, ': MAPE mean absolute percentage error')\n",
        "print(LassoRMSE, ': RMSE root mean squared error')"
      ],
      "metadata": {
        "colab": {
          "base_uri": "https://localhost:8080/"
        },
        "outputId": "b5cfb142-79e3-4510-8a96-979aaf521d12",
        "id": "tjVOyKqfMowD"
      },
      "execution_count": 198,
      "outputs": [
        {
          "output_type": "stream",
          "name": "stdout",
          "text": [
            "0.6818693208256488 : R^2\n",
            "143367.5394006658 : MAE Mean absolute error\n",
            "0.29108859132905607 : MAPE mean absolute percentage error\n",
            "50120967127.50709 : RMSE root mean squared error\n"
          ]
        }
      ]
    },
    {
      "cell_type": "code",
      "source": [
        "error_table = {    'Error' : ['Rsquare',  'MAPE'],\n",
        "    'Linear' : [RLRsquare,  RLMAPE],\n",
        "    'Polinomial' : [PolyRsquare,  PolyMAPE],\n",
        "    'Ridge' : [RidgeRsquare, RidgeMAPE],\n",
        "    'Lasso' : [LassoRsquare,  LassoMAPE]}\n",
        "\n",
        "error_table_df = pd.DataFrame(error_table)\n",
        "error_table_df"
      ],
      "metadata": {
        "colab": {
          "base_uri": "https://localhost:8080/",
          "height": 112
        },
        "outputId": "cf091438-5903-4b9b-bf4d-4355601fd208",
        "id": "Gc8kXpwIMowD"
      },
      "execution_count": 199,
      "outputs": [
        {
          "output_type": "execute_result",
          "data": {
            "text/plain": [
              "     Error    Linear  Polinomial     Ridge     Lasso\n",
              "0  Rsquare  0.543435    0.689187  0.689187  0.681869\n",
              "1     MAPE  0.322862    0.290978  0.290978  0.291089"
            ],
            "text/html": [
              "\n",
              "  <div id=\"df-5983b757-2858-4612-9452-f1c55c0559b2\">\n",
              "    <div class=\"colab-df-container\">\n",
              "      <div>\n",
              "<style scoped>\n",
              "    .dataframe tbody tr th:only-of-type {\n",
              "        vertical-align: middle;\n",
              "    }\n",
              "\n",
              "    .dataframe tbody tr th {\n",
              "        vertical-align: top;\n",
              "    }\n",
              "\n",
              "    .dataframe thead th {\n",
              "        text-align: right;\n",
              "    }\n",
              "</style>\n",
              "<table border=\"1\" class=\"dataframe\">\n",
              "  <thead>\n",
              "    <tr style=\"text-align: right;\">\n",
              "      <th></th>\n",
              "      <th>Error</th>\n",
              "      <th>Linear</th>\n",
              "      <th>Polinomial</th>\n",
              "      <th>Ridge</th>\n",
              "      <th>Lasso</th>\n",
              "    </tr>\n",
              "  </thead>\n",
              "  <tbody>\n",
              "    <tr>\n",
              "      <th>0</th>\n",
              "      <td>Rsquare</td>\n",
              "      <td>0.543435</td>\n",
              "      <td>0.689187</td>\n",
              "      <td>0.689187</td>\n",
              "      <td>0.681869</td>\n",
              "    </tr>\n",
              "    <tr>\n",
              "      <th>1</th>\n",
              "      <td>MAPE</td>\n",
              "      <td>0.322862</td>\n",
              "      <td>0.290978</td>\n",
              "      <td>0.290978</td>\n",
              "      <td>0.291089</td>\n",
              "    </tr>\n",
              "  </tbody>\n",
              "</table>\n",
              "</div>\n",
              "      <button class=\"colab-df-convert\" onclick=\"convertToInteractive('df-5983b757-2858-4612-9452-f1c55c0559b2')\"\n",
              "              title=\"Convert this dataframe to an interactive table.\"\n",
              "              style=\"display:none;\">\n",
              "        \n",
              "  <svg xmlns=\"http://www.w3.org/2000/svg\" height=\"24px\"viewBox=\"0 0 24 24\"\n",
              "       width=\"24px\">\n",
              "    <path d=\"M0 0h24v24H0V0z\" fill=\"none\"/>\n",
              "    <path d=\"M18.56 5.44l.94 2.06.94-2.06 2.06-.94-2.06-.94-.94-2.06-.94 2.06-2.06.94zm-11 1L8.5 8.5l.94-2.06 2.06-.94-2.06-.94L8.5 2.5l-.94 2.06-2.06.94zm10 10l.94 2.06.94-2.06 2.06-.94-2.06-.94-.94-2.06-.94 2.06-2.06.94z\"/><path d=\"M17.41 7.96l-1.37-1.37c-.4-.4-.92-.59-1.43-.59-.52 0-1.04.2-1.43.59L10.3 9.45l-7.72 7.72c-.78.78-.78 2.05 0 2.83L4 21.41c.39.39.9.59 1.41.59.51 0 1.02-.2 1.41-.59l7.78-7.78 2.81-2.81c.8-.78.8-2.07 0-2.86zM5.41 20L4 18.59l7.72-7.72 1.47 1.35L5.41 20z\"/>\n",
              "  </svg>\n",
              "      </button>\n",
              "      \n",
              "  <style>\n",
              "    .colab-df-container {\n",
              "      display:flex;\n",
              "      flex-wrap:wrap;\n",
              "      gap: 12px;\n",
              "    }\n",
              "\n",
              "    .colab-df-convert {\n",
              "      background-color: #E8F0FE;\n",
              "      border: none;\n",
              "      border-radius: 50%;\n",
              "      cursor: pointer;\n",
              "      display: none;\n",
              "      fill: #1967D2;\n",
              "      height: 32px;\n",
              "      padding: 0 0 0 0;\n",
              "      width: 32px;\n",
              "    }\n",
              "\n",
              "    .colab-df-convert:hover {\n",
              "      background-color: #E2EBFA;\n",
              "      box-shadow: 0px 1px 2px rgba(60, 64, 67, 0.3), 0px 1px 3px 1px rgba(60, 64, 67, 0.15);\n",
              "      fill: #174EA6;\n",
              "    }\n",
              "\n",
              "    [theme=dark] .colab-df-convert {\n",
              "      background-color: #3B4455;\n",
              "      fill: #D2E3FC;\n",
              "    }\n",
              "\n",
              "    [theme=dark] .colab-df-convert:hover {\n",
              "      background-color: #434B5C;\n",
              "      box-shadow: 0px 1px 3px 1px rgba(0, 0, 0, 0.15);\n",
              "      filter: drop-shadow(0px 1px 2px rgba(0, 0, 0, 0.3));\n",
              "      fill: #FFFFFF;\n",
              "    }\n",
              "  </style>\n",
              "\n",
              "      <script>\n",
              "        const buttonEl =\n",
              "          document.querySelector('#df-5983b757-2858-4612-9452-f1c55c0559b2 button.colab-df-convert');\n",
              "        buttonEl.style.display =\n",
              "          google.colab.kernel.accessAllowed ? 'block' : 'none';\n",
              "\n",
              "        async function convertToInteractive(key) {\n",
              "          const element = document.querySelector('#df-5983b757-2858-4612-9452-f1c55c0559b2');\n",
              "          const dataTable =\n",
              "            await google.colab.kernel.invokeFunction('convertToInteractive',\n",
              "                                                     [key], {});\n",
              "          if (!dataTable) return;\n",
              "\n",
              "          const docLinkHtml = 'Like what you see? Visit the ' +\n",
              "            '<a target=\"_blank\" href=https://colab.research.google.com/notebooks/data_table.ipynb>data table notebook</a>'\n",
              "            + ' to learn more about interactive tables.';\n",
              "          element.innerHTML = '';\n",
              "          dataTable['output_type'] = 'display_data';\n",
              "          await google.colab.output.renderOutput(dataTable, element);\n",
              "          const docLink = document.createElement('div');\n",
              "          docLink.innerHTML = docLinkHtml;\n",
              "          element.appendChild(docLink);\n",
              "        }\n",
              "      </script>\n",
              "    </div>\n",
              "  </div>\n",
              "  "
            ]
          },
          "metadata": {},
          "execution_count": 199
        }
      ]
    },
    {
      "cell_type": "code",
      "source": [
        "unpivot = pd.melt(\n",
        "    error_table_df,\n",
        "    id_vars=\"Error\",\n",
        "    var_name=\"Model\",\n",
        "    value_name=\"Error value\")\n",
        "\n",
        "sns.catplot(data=unpivot, x=\"Error value\", y=\"Model\", hue='Error', kind=\"bar\")\n",
        "plt.show()"
      ],
      "metadata": {
        "colab": {
          "base_uri": "https://localhost:8080/",
          "height": 369
        },
        "outputId": "50a7028a-48a6-4c9e-8f2f-a4c650c66f47",
        "id": "y_U-K8TQMowE"
      },
      "execution_count": 200,
      "outputs": [
        {
          "output_type": "display_data",
          "data": {
            "text/plain": [
              "<Figure size 437x360 with 1 Axes>"
            ],
            "image/png": "[encoded data removed]"
          },
          "metadata": {
            "needs_background": "light"
          }
        }
      ]
    }
  ]
}