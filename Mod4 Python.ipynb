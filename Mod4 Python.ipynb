{
  "nbformat": 4,
  "nbformat_minor": 0,
  "metadata": {
    "colab": {
      "provenance": [],
      "collapsed_sections": [],
      "toc_visible": true,
      "authorship_tag": "ABX9TyNUhH7DsPyAU/iBkl5QbBKW",
      "include_colab_link": true
    },
    "kernelspec": {
      "name": "python3",
      "display_name": "Python 3"
    },
    "language_info": {
      "name": "python"
    }
  },
  "cells": [
    {
      "cell_type": "markdown",
      "metadata": {
        "id": "view-in-github",
        "colab_type": "text"
      },
      "source": [
        "<a href=\"https://colab.research.google.com/github/PosgradoMNA/actividades-de-aprendizaje-AleRami89/blob/main/Mod4%20Python.ipynb\" target=\"_parent\"><img src=\"https://colab.research.google.com/assets/colab-badge.svg\" alt=\"Open In Colab\"/></a>"
      ]
    },
    {
      "cell_type": "code",
      "execution_count": null,
      "metadata": {
        "id": "TelkUXpCd4VF"
      },
      "outputs": [],
      "source": []
    },
    {
      "cell_type": "markdown",
      "source": [
        "#Proyecto: Módulo 4 Python\n",
        "\n",
        "- Maestría: Inteligencia Artificial Aplicada\n",
        "\n",
        "- Materia: Ciencia y analítica de datos\n",
        "\n",
        "- Alumna: Alejandra Ramírez Romano\n",
        "\n",
        "- Matricula: A01793144\n"
      ],
      "metadata": {
        "id": "lA92jbHzd5ej"
      }
    },
    {
      "cell_type": "markdown",
      "source": [
        "#LAB1"
      ],
      "metadata": {
        "id": "5h3lUBOHp9TY"
      }
    },
    {
      "cell_type": "markdown",
      "source": [
        "##Reading Text Files\n",
        " Lee el archivo Example1 "
      ],
      "metadata": {
        "id": "7oDGAmFMe-AZ"
      }
    },
    {
      "cell_type": "code",
      "source": [
        "# Read the Example1.txt\n",
        "example1 = \"Example1.txt\"\n",
        "file1 = open(example1, \"r\")"
      ],
      "metadata": {
        "id": "NJhrAu0QlIHz"
      },
      "execution_count": null,
      "outputs": []
    },
    {
      "cell_type": "markdown",
      "source": [
        "Lee los atributos del archivo:\n",
        "Nombre del archivo"
      ],
      "metadata": {
        "id": "k1T9F_aXlohT"
      }
    },
    {
      "cell_type": "code",
      "source": [
        "# Print the path of file\n",
        "\n",
        "file1.name"
      ],
      "metadata": {
        "id": "PiF3hvEAmi5K"
      },
      "execution_count": null,
      "outputs": []
    },
    {
      "cell_type": "markdown",
      "source": [
        "Hace el print del archivo r o w  - reading (lectura)  W (escritura)"
      ],
      "metadata": {
        "id": "W3rBnxWRmhFa"
      }
    },
    {
      "cell_type": "code",
      "source": [
        "# Print the mode of file, either 'r' or 'w'\n",
        "\n",
        "file1.mode"
      ],
      "metadata": {
        "id": "ZGOIu-VfnFCk"
      },
      "execution_count": null,
      "outputs": []
    },
    {
      "cell_type": "markdown",
      "source": [
        "Leer el archivo "
      ],
      "metadata": {
        "id": "JSTdLMlRmEWW"
      }
    },
    {
      "cell_type": "code",
      "source": [
        "# Read the file\n",
        "\n",
        "FileContent = file1.read()\n",
        "FileContent"
      ],
      "metadata": {
        "id": "NO7m7hXlnYhb"
      },
      "execution_count": null,
      "outputs": []
    },
    {
      "cell_type": "markdown",
      "source": [
        "La /n significa una nueva linea\n",
        "Podemos hacer el print del archivo"
      ],
      "metadata": {
        "id": "fCOHcGPInZpq"
      }
    },
    {
      "cell_type": "code",
      "source": [
        "# Print the file with '\\n' as a new line\n",
        "\n",
        "print(FileContent)"
      ],
      "metadata": {
        "id": "Tt8Gm3rWnzxz"
      },
      "execution_count": null,
      "outputs": []
    },
    {
      "cell_type": "markdown",
      "source": [
        "Asi se cierra el archivo"
      ],
      "metadata": {
        "id": "v-xb3d6un0au"
      }
    },
    {
      "cell_type": "code",
      "source": [
        "# Close file after finish\n",
        "\n",
        "file1.close()"
      ],
      "metadata": {
        "id": "T1NpbuzAn39-"
      },
      "execution_count": null,
      "outputs": []
    },
    {
      "cell_type": "markdown",
      "source": [
        "##A Better Way to Open a File"
      ],
      "metadata": {
        "id": "abZEEAatn7T7"
      }
    },
    {
      "cell_type": "markdown",
      "source": [
        "Utilizar el With statement es una mejor practica"
      ],
      "metadata": {
        "id": "JzhD31ELoAOz"
      }
    },
    {
      "cell_type": "code",
      "source": [
        "# Open file using with\n",
        "\n",
        "with open(example1, \"r\") as file1:\n",
        "    FileContent = file1.read()\n",
        "    print(FileContent)"
      ],
      "metadata": {
        "id": "pVEpXRHgn_0H"
      },
      "execution_count": null,
      "outputs": []
    },
    {
      "cell_type": "markdown",
      "source": [
        "Cerrar el archivo"
      ],
      "metadata": {
        "id": "dL1Eh9GjoKxz"
      }
    },
    {
      "cell_type": "code",
      "source": [
        "# Verify if the file is closed\n",
        "\n",
        "file1.closed"
      ],
      "metadata": {
        "id": "zbLC-W0xomnJ"
      },
      "execution_count": null,
      "outputs": []
    },
    {
      "cell_type": "markdown",
      "source": [
        "Podemos ver la info del archivo"
      ],
      "metadata": {
        "id": "FWm_JlLiol7z"
      }
    },
    {
      "cell_type": "code",
      "source": [
        "# See the content of file\n",
        "\n",
        "print(FileContent)"
      ],
      "metadata": {
        "id": "c9JUxyeiouQm"
      },
      "execution_count": null,
      "outputs": []
    },
    {
      "cell_type": "markdown",
      "source": [
        "Podemos leer los primeros 4 caracteres con el metodo.read() o cierto monto de caracteres"
      ],
      "metadata": {
        "id": "aOO899Hgowqt"
      }
    },
    {
      "cell_type": "code",
      "source": [
        "# Read first four characters\n",
        "\n",
        "with open(example1, \"r\") as file1:\n",
        "    print(file1.read(4))"
      ],
      "metadata": {
        "id": "7CQ-UxQRowYS"
      },
      "execution_count": null,
      "outputs": []
    },
    {
      "cell_type": "code",
      "source": [
        "# Read certain amount of characters\n",
        "\n",
        "with open(example1, \"r\") as file1:\n",
        "    print(file1.read(4))\n",
        "    print(file1.read(4))\n",
        "    print(file1.read(7))\n",
        "    print(file1.read(15))"
      ],
      "metadata": {
        "id": "TUIc7u0npQtg"
      },
      "execution_count": null,
      "outputs": []
    },
    {
      "cell_type": "markdown",
      "source": [
        "Podemos leer lineas usando el metodo readlines() "
      ],
      "metadata": {
        "id": "GRfZHNklpKyo"
      }
    },
    {
      "cell_type": "code",
      "source": [
        "# Read one line\n",
        "\n",
        "with open(example1, \"r\") as file1:\n",
        "    print(\"first line: \" + file1.readline())"
      ],
      "metadata": {
        "id": "fC_ViQpppapt"
      },
      "execution_count": null,
      "outputs": []
    },
    {
      "cell_type": "markdown",
      "source": [
        "Podemos usar un loop para iterar y leer cada linea"
      ],
      "metadata": {
        "id": "UeMDSizvpsff"
      }
    },
    {
      "cell_type": "code",
      "source": [
        "# Iterate through the lines\n",
        "\n",
        "with open(example1,\"r\") as file1:\n",
        "        i = 0;\n",
        "        for line in file1:\n",
        "            print(\"Iteration\", str(i), \": \", line)\n",
        "            i = i + 1"
      ],
      "metadata": {
        "id": "i3X-jZTupr3a"
      },
      "execution_count": null,
      "outputs": []
    },
    {
      "cell_type": "markdown",
      "source": [
        "#LAB2"
      ],
      "metadata": {
        "id": "mcg1MERDqASo"
      }
    },
    {
      "cell_type": "markdown",
      "source": [
        "##Writing Files"
      ],
      "metadata": {
        "id": "iF97L9P-qCYc"
      }
    },
    {
      "cell_type": "markdown",
      "source": [
        "Podemos abrir un archio usando el metodo write()  para guardar el texto de un archivo en una lista, para escribir en un archivo , el modo de argumento debe ser W "
      ],
      "metadata": {
        "id": "74JzgnayqE1N"
      }
    },
    {
      "cell_type": "code",
      "source": [
        "# Write line to file\n",
        "exmp2 = 'Example2.txt'\n",
        "with open(exmp2, 'w') as writefile:\n",
        "    writefile.write(\"This is line A\")"
      ],
      "metadata": {
        "id": "Y-3PcJ_ZuTcE"
      },
      "execution_count": null,
      "outputs": []
    },
    {
      "cell_type": "markdown",
      "source": [
        "Asi lo leemos para ver si funciono"
      ],
      "metadata": {
        "id": "t2z3Go-EuSjr"
      }
    },
    {
      "cell_type": "code",
      "source": [
        "# Read file\n",
        "\n",
        "with open(exmp2, 'r') as testwritefile:\n",
        "    print(testwritefile.read())"
      ],
      "metadata": {
        "id": "TSkrJhVru2U-"
      },
      "execution_count": null,
      "outputs": []
    },
    {
      "cell_type": "markdown",
      "source": [
        "Podemos también escribir multiples lineas"
      ],
      "metadata": {
        "id": "lFKcnGWZu6Em"
      }
    },
    {
      "cell_type": "code",
      "source": [
        "# Write lines to file\n",
        "\n",
        "with open(exmp2, 'w') as writefile:\n",
        "    writefile.write(\"This is line A\\n\")\n",
        "    writefile.write(\"This is line B\\n\")"
      ],
      "metadata": {
        "id": "XjvxtX7qvA6H"
      },
      "execution_count": null,
      "outputs": []
    },
    {
      "cell_type": "markdown",
      "source": [
        "Asi checamos si esta bien"
      ],
      "metadata": {
        "id": "de0pl6kkvDFG"
      }
    },
    {
      "cell_type": "code",
      "source": [
        "# Check whether write to file\n",
        "\n",
        "with open(exmp2, 'r') as testwritefile:\n",
        "    print(testwritefile.read())"
      ],
      "metadata": {
        "id": "LKMILsTLvVU6"
      },
      "execution_count": null,
      "outputs": []
    },
    {
      "cell_type": "markdown",
      "source": [
        "Así puedo hacer lo mismo pero en un txt"
      ],
      "metadata": {
        "id": "NisqLunPvXEC"
      }
    },
    {
      "cell_type": "code",
      "source": [
        "# Sample list of text\n",
        "\n",
        "Lines = [\"This is line A\\n\", \"This is line B\\n\", \"This is line C\\n\"]\n",
        "Lines\n",
        "# Write the strings in the list to text file\n",
        "\n",
        "with open('Example2.txt', 'w') as writefile:\n",
        "    for line in Lines:\n",
        "        print(line)\n",
        "        writefile.write(line)\n",
        "# Verify if writing to file is successfully executed\n",
        "\n",
        "with open('Example2.txt', 'r') as testwritefile:\n",
        "    print(testwritefile.read())\n"
      ],
      "metadata": {
        "id": "kR8iAc7-vdjj"
      },
      "execution_count": null,
      "outputs": []
    },
    {
      "cell_type": "markdown",
      "source": [
        "##Appending Files"
      ],
      "metadata": {
        "id": "bZfP2fMDvrkt"
      }
    },
    {
      "cell_type": "markdown",
      "source": [
        "Podemos escribir a los archivos sin perder o sobreescribir informacion usando el argumento a - append."
      ],
      "metadata": {
        "id": "hbipEqFbvx93"
      }
    },
    {
      "cell_type": "code",
      "source": [
        "# Write a new line to text file\n",
        "\n",
        "with open('Example2.txt', 'a') as testwritefile:\n",
        "    testwritefile.write(\"This is line C\\n\")\n",
        "    testwritefile.write(\"This is line D\\n\")\n",
        "    testwritefile.write(\"This is line E\\n\")"
      ],
      "metadata": {
        "id": "_HR0kNyxwJmU"
      },
      "execution_count": null,
      "outputs": []
    },
    {
      "cell_type": "markdown",
      "source": [
        "Asi verificamos"
      ],
      "metadata": {
        "id": "4MZylOcywLcI"
      }
    },
    {
      "cell_type": "code",
      "source": [
        "# Verify if the new line is in the text file\n",
        "\n",
        "with open('Example2.txt', 'r') as testwritefile:\n",
        "    print(testwritefile.read())"
      ],
      "metadata": {
        "id": "yFXq0yk6wOTj"
      },
      "execution_count": null,
      "outputs": []
    },
    {
      "cell_type": "markdown",
      "source": [
        "##Additional Modes\n",
        "- r+ : Reading and writing. Cannot truncate the file.\n",
        "- w+ : Writing and reading. Truncates the file.\n",
        "- a+ : Appending and Reading. Creates a new file, if none exists."
      ],
      "metadata": {
        "id": "g_jpHFDLwRST"
      }
    },
    {
      "cell_type": "markdown",
      "source": [
        "##Copy a File\n",
        "Asi copiamos el archivo Example2.txt a el archivo Example3.txt\n",
        "\n"
      ],
      "metadata": {
        "id": "yIxrsWjCwhoh"
      }
    },
    {
      "cell_type": "code",
      "source": [
        "# Copy file to another\n",
        "\n",
        "with open('Example2.txt','r') as readfile:\n",
        "    with open('Example3.txt','w') as writefile:\n",
        "          for line in readfile:\n",
        "                writefile.write(line)"
      ],
      "metadata": {
        "id": "MYJ6WnB8wyd9"
      },
      "execution_count": null,
      "outputs": []
    },
    {
      "cell_type": "markdown",
      "source": [
        "Para verificar"
      ],
      "metadata": {
        "id": "sSeR5nZuwweX"
      }
    },
    {
      "cell_type": "code",
      "source": [
        "# Verify if the copy is successfully executed\n",
        "\n",
        "with open('Example3.txt','r') as testwritefile:\n",
        "    print(testwritefile.read())"
      ],
      "metadata": {
        "id": "6sUGOTRDw2VP"
      },
      "execution_count": null,
      "outputs": []
    },
    {
      "cell_type": "markdown",
      "source": [
        "#LAB3"
      ],
      "metadata": {
        "id": "E-edu3O4w6lh"
      }
    },
    {
      "cell_type": "markdown",
      "source": [
        "##Introduction to Pandas in Python"
      ],
      "metadata": {
        "id": "JMIUKPudw_pF"
      }
    },
    {
      "cell_type": "markdown",
      "source": [
        "Así se instala la libreria de Pandas"
      ],
      "metadata": {
        "id": "bXbMAFCwxFOg"
      }
    },
    {
      "cell_type": "code",
      "source": [
        "# Dependency needed to install file \n",
        "\n",
        "# If running the notebook on your machine, else leave it commented\n",
        "# !pip install xlrd\n",
        "\n",
        "import piplite\n",
        "await piplite.install(['xlrd','openpyxl'])"
      ],
      "metadata": {
        "id": "vBfsoEx4xiSp"
      },
      "execution_count": null,
      "outputs": []
    },
    {
      "cell_type": "markdown",
      "source": [
        "Así la mando a llamar"
      ],
      "metadata": {
        "id": "f6tLxDTlxhWM"
      }
    },
    {
      "cell_type": "code",
      "source": [
        "# Import required library\n",
        "\n",
        "import pandas as pd"
      ],
      "metadata": {
        "id": "-CJyvaLnxpbs"
      },
      "execution_count": null,
      "outputs": []
    },
    {
      "cell_type": "markdown",
      "source": [
        "Pyidide tambien es una libreria \n",
        "Asi lo metemos a un df = dataframe"
      ],
      "metadata": {
        "id": "pv_gL2LzxqVp"
      }
    },
    {
      "cell_type": "code",
      "source": [
        "# Read data from CSV file\n",
        "\n",
        "# csv_path = 'https://cf-courses-data.s3.us.cloud-object-storage.appdomain.cloud/IBMDeveloperSkillsNetwork-PY0101EN-SkillsNetwork/labs/Module%204/data/TopSellingAlbums.csv'\n",
        "# df = pd.read_csv(csv_path)\n",
        "\n",
        "from pyodide.http import pyfetch\n",
        "import pandas as pd\n",
        "\n",
        "filename = \"https://cf-courses-data.s3.us.cloud-object-storage.appdomain.cloud/IBMDeveloperSkillsNetwork-PY0101EN-SkillsNetwork/labs/Module%204/data/TopSellingAlbums.csv\"\n",
        "\n",
        "async def download(url, filename):\n",
        "    response = await pyfetch(url)\n",
        "    if response.status == 200:\n",
        "        with open(filename, \"wb\") as f:\n",
        "            f.write(await response.bytes())\n",
        "\n",
        "\n",
        "await download(filename, \"TopSellingAlbums.csv\")\n",
        "df = pd.read_csv(\"TopSellingAlbums.csv\")"
      ],
      "metadata": {
        "id": "KOjeLmF9xyth"
      },
      "execution_count": null,
      "outputs": []
    },
    {
      "cell_type": "markdown",
      "source": [
        "Usamos el metodo head() para examinar las primeras 5 rows del dataset"
      ],
      "metadata": {
        "id": "MDuGgt6xyFlR"
      }
    },
    {
      "cell_type": "code",
      "source": [
        "# Print first five rows of the dataframe\n",
        "\n",
        "df.head()"
      ],
      "metadata": {
        "id": "Mwz1cAELyNzK"
      },
      "execution_count": null,
      "outputs": []
    },
    {
      "cell_type": "markdown",
      "source": [
        "Accesar una columna y crear un nuevo dataframe"
      ],
      "metadata": {
        "id": "rIh7u4JJyQfu"
      }
    },
    {
      "cell_type": "code",
      "source": [
        "# Access to the column Length\n",
        "\n",
        "x = df[['Length']]\n",
        "x"
      ],
      "metadata": {
        "id": "d6Ocl5UiybmY"
      },
      "execution_count": null,
      "outputs": []
    },
    {
      "cell_type": "markdown",
      "source": [
        "##Viewing Data and Accessing Data"
      ],
      "metadata": {
        "id": "ToyHUBK9yd3A"
      }
    },
    {
      "cell_type": "markdown",
      "source": [
        "Tambien puedo jalar solo una columna  a modo serie"
      ],
      "metadata": {
        "id": "HXLQCB3Eyj1_"
      }
    },
    {
      "cell_type": "code",
      "source": [
        "# Get the column as a series\n",
        "\n",
        "x = df['Length']\n",
        "x"
      ],
      "metadata": {
        "id": "17hRTNH9ytfF"
      },
      "execution_count": null,
      "outputs": []
    },
    {
      "cell_type": "markdown",
      "source": [
        "Jalar solo una columna del dataframe\n",
        "\n",
        "\n"
      ],
      "metadata": {
        "id": "u9b3K0nXy0aI"
      }
    },
    {
      "cell_type": "code",
      "source": [
        "# Get the column as a dataframe\n",
        "\n",
        "x = df[['Artist']]\n",
        "type(x)"
      ],
      "metadata": {
        "id": "lwo7MGyMzC5Y"
      },
      "execution_count": null,
      "outputs": []
    },
    {
      "cell_type": "markdown",
      "source": [
        "Para jalar ciertas columnas de un data frame:"
      ],
      "metadata": {
        "id": "peWwSQn8zH33"
      }
    },
    {
      "cell_type": "code",
      "source": [
        "# Access to multiple columns\n",
        "\n",
        "y = df[['Artist','Length','Genre']]\n",
        "y"
      ],
      "metadata": {
        "id": "FksrlDIjzOH3"
      },
      "execution_count": null,
      "outputs": []
    },
    {
      "cell_type": "markdown",
      "source": [
        "Diferentes formas de accesar a elementos especficos - metodo iloc[]\n"
      ],
      "metadata": {
        "id": "dTyl5iS2zS8Y"
      }
    },
    {
      "cell_type": "code",
      "source": [
        "# Access the value on the first row and the first column\n",
        "\n",
        "df.iloc[0, 0]\n",
        "# Access the value on the second row and the first column\n",
        "\n",
        "df.iloc[1,0]\n",
        "# Access the value on the first row and the third column\n",
        "\n",
        "df.iloc[0,2]\n",
        "# Access the value on the second row and the third column\n",
        "df.iloc[1,2]"
      ],
      "metadata": {
        "id": "HZ7twwQezfmA"
      },
      "execution_count": null,
      "outputs": []
    },
    {
      "cell_type": "markdown",
      "source": [
        "seccionar el data frame se hace asi:"
      ],
      "metadata": {
        "id": "GWm1r__UzrsE"
      }
    },
    {
      "cell_type": "code",
      "source": [
        "# Slicing the dataframe\n",
        "\n",
        "df.iloc[0:2, 0:3]\n",
        "# Slicing the dataframe using name\n",
        "\n",
        "df.loc[0:2, 'Artist':'Released']"
      ],
      "metadata": {
        "id": "-n-dnyktzw_Y"
      },
      "execution_count": null,
      "outputs": []
    }
  ]
}