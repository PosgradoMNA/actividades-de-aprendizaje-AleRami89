{
  "nbformat": 4,
  "nbformat_minor": 0,
  "metadata": {
    "colab": {
      "provenance": [],
      "toc_visible": true,
      "authorship_tag": "ABX9TyODk4mjYU87nvRQcZfR/bVG",
      "include_colab_link": true
    },
    "kernelspec": {
      "name": "python3",
      "display_name": "Python 3"
    },
    "language_info": {
      "name": "python"
    }
  },
  "cells": [
    {
      "cell_type": "markdown",
      "metadata": {
        "id": "view-in-github",
        "colab_type": "text"
      },
      "source": [
        "<a href=\"https://colab.research.google.com/github/PosgradoMNA/actividades-de-aprendizaje-AleRami89/blob/main/M%C3%B3dulo_1_Python_Parte2.ipynb\" target=\"_parent\"><img src=\"https://colab.research.google.com/assets/colab-badge.svg\" alt=\"Open In Colab\"/></a>"
      ]
    },
    {
      "cell_type": "markdown",
      "source": [
        "#Proyecto: Módulo 1 Python Parte2\n",
        "\n",
        "- Maestría: Inteligencia Artificial Aplicada\n",
        "\n",
        "- Materia: Ciencia y analítica de datos\n",
        "\n",
        "- Alumna: Alejandra Ramírez Romano\n",
        "\n",
        "- Matricula: A01793144"
      ],
      "metadata": {
        "id": "z5q-dQqUoUxX"
      }
    },
    {
      "cell_type": "code",
      "execution_count": null,
      "metadata": {
        "id": "7_5oUEAvlKfp"
      },
      "outputs": [],
      "source": []
    },
    {
      "cell_type": "markdown",
      "source": [
        "##LAB 1\n"
      ],
      "metadata": {
        "id": "Rf8N86dpoUKV"
      }
    },
    {
      "cell_type": "markdown",
      "source": [
        "###Introduction Notebook"
      ],
      "metadata": {
        "id": "KhfCtv7HqLH2"
      }
    },
    {
      "cell_type": "markdown",
      "source": [
        "There are **various formats** for a dataset: .csv, .json, .xlsx etc. The dataset can be stored in different places, on your **local machine or** sometimes **online**.\n",
        "\n",
        "The **Pandas Library** is a useful tool that enables us to **read various datasets into a dataframe**\n",
        "\n",
        "To install the library:'piplite'\n",
        "import piplite\n",
        "import micropip\n",
        "await piplite.install(['pandas'])\n",
        "await piplite.install(['matplotlib'])\n",
        "await piplite.install(['scipy'])\n",
        "await piplite.install(['seaborn'])\n",
        "await micropip.install(['ipywidgets'],keep_going=True)\n",
        "await micropip.install(['tqdm'],keep_going=True)\n",
        "\n"
      ],
      "metadata": {
        "id": "azhU9lKzpFAL"
      }
    },
    {
      "cell_type": "code",
      "source": [
        "# import pandas library   - I am using colab , so I just have to import the library wo intalling it\n",
        "import pandas as pd\n",
        "import numpy as np"
      ],
      "metadata": {
        "id": "PTvZdLhYpy3p"
      },
      "execution_count": null,
      "outputs": []
    },
    {
      "cell_type": "markdown",
      "source": [
        "###Read Data"
      ],
      "metadata": {
        "id": "jkl-IH5rp5DS"
      }
    },
    {
      "cell_type": "markdown",
      "source": [
        "We use pandas.read_csv() function to read the csv file or:\n",
        "\n",
        "![image.png](data:image/png;base64,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)\n"
      ],
      "metadata": {
        "id": "6nxDnaDBqGqh"
      }
    },
    {
      "cell_type": "markdown",
      "source": [],
      "metadata": {
        "id": "JEJKrRWDrmTS"
      }
    },
    {
      "cell_type": "code",
      "source": [
        "#assign the dataset to any variable you create\n",
        "path = \"https://cf-courses-data.s3.us.cloud-object-storage.appdomain.cloud/IBMDeveloperSkillsNetwork-DA0101EN-SkillsNetwork/labs/Data%20files/auto.csv\""
      ],
      "metadata": {
        "id": "83JhwddKp4pJ"
      },
      "execution_count": null,
      "outputs": []
    },
    {
      "cell_type": "code",
      "source": [
        "#download the dataset\n",
        "await download(path, \"auto.csv\")\n",
        "path=\"auto.csv\""
      ],
      "metadata": {
        "id": "D7CaeLFgp4e5"
      },
      "execution_count": null,
      "outputs": []
    },
    {
      "cell_type": "code",
      "source": [
        "# Read the online file by the URL provides above, and assign it to variable \"df\"\n",
        "\n",
        "df = pd.read_csv(path, header=None)"
      ],
      "metadata": {
        "id": "auAUhQEyr_he"
      },
      "execution_count": null,
      "outputs": []
    },
    {
      "cell_type": "code",
      "source": [
        "# show the first 5 rows using dataframe.head() method\n",
        "print(\"The first 5 rows of the dataframe\") \n",
        "df.head(5)"
      ],
      "metadata": {
        "id": "31zLQbIPsGdq"
      },
      "execution_count": null,
      "outputs": []
    },
    {
      "cell_type": "code",
      "source": [
        "# show the last 10 rows \n",
        "df.tail(30)"
      ],
      "metadata": {
        "id": "Hms3lLzLsLjZ"
      },
      "execution_count": null,
      "outputs": []
    },
    {
      "cell_type": "markdown",
      "source": [
        "###Add Headers"
      ],
      "metadata": {
        "id": "M7CeQR7IsVNE"
      }
    },
    {
      "cell_type": "markdown",
      "source": [
        "create a list \"headers\" that include all column names in order. Then, we **use dataframe.columns = headers to replace the headers** with the list we created."
      ],
      "metadata": {
        "id": "zMkTn20xsarC"
      }
    },
    {
      "cell_type": "code",
      "source": [
        "# create headers list\n",
        "headers = [\"symboling\",\"normalized-losses\",\"make\",\"fuel-type\",\"aspiration\", \"num-of-doors\",\"body-style\",\n",
        "         \"drive-wheels\",\"engine-location\",\"wheel-base\", \"length\",\"width\",\"height\",\"curb-weight\",\"engine-type\",\n",
        "         \"num-of-cylinders\", \"engine-size\",\"fuel-system\",\"bore\",\"stroke\",\"compression-ratio\",\"horsepower\",\n",
        "         \"peak-rpm\",\"city-mpg\",\"highway-mpg\",\"price\"]\n",
        "print(\"headers\\n\", headers)"
      ],
      "metadata": {
        "id": "r3r3Wwhcsx_S"
      },
      "execution_count": null,
      "outputs": []
    },
    {
      "cell_type": "code",
      "source": [
        "#We replace headers \n",
        "df.columns = headers\n",
        "df.head(10)"
      ],
      "metadata": {
        "id": "2Nj6JBO5s45p"
      },
      "execution_count": null,
      "outputs": []
    },
    {
      "cell_type": "code",
      "source": [
        "#We need to replace the \"?\" symbol with NaN so the dropna() can remove the missing values:\n",
        "#df1 nuevo data frame\n",
        "df1=df.replace('?',np.NaN)"
      ],
      "metadata": {
        "id": "YATyqx2OtPYz"
      },
      "execution_count": null,
      "outputs": []
    },
    {
      "cell_type": "code",
      "source": [
        "#Podemos eliminar los valores faltantes a lo largo de la columna \"precio\" de la siguiente manera:\n",
        "df=df1.dropna(subset=[\"price\"], axis=0)\n",
        "df.head(20)"
      ],
      "metadata": {
        "id": "RsnLN_ZytSyj"
      },
      "execution_count": null,
      "outputs": []
    },
    {
      "cell_type": "markdown",
      "source": [
        "###Data Types"
      ],
      "metadata": {
        "id": "_cMgmb6Et3uI"
      }
    },
    {
      "cell_type": "code",
      "source": [
        "#The main types stored in Pandas dataframes are object, float, int, bool and datetime64.\n",
        "df.dtypes\n"
      ],
      "metadata": {
        "id": "x4j8WLJFt52i"
      },
      "execution_count": null,
      "outputs": []
    },
    {
      "cell_type": "markdown",
      "source": [
        "###Describe"
      ],
      "metadata": {
        "id": "p9A42eVCr_P6"
      }
    },
    {
      "cell_type": "code",
      "source": [
        "#to get a statistical summary of each column\n",
        "df.describe()"
      ],
      "metadata": {
        "id": "4S0I4r1zuFDu"
      },
      "execution_count": null,
      "outputs": []
    },
    {
      "cell_type": "code",
      "source": [
        "# describe all the columns in \"df\" -Full summary statistics (includes unique,top,freq for categorical values)\n",
        "df.describe(include = \"all\")"
      ],
      "metadata": {
        "id": "oEZkWXpKuiyR"
      },
      "execution_count": null,
      "outputs": []
    }
  ]
}