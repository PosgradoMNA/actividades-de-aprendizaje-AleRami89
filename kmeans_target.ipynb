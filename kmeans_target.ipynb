{
  "nbformat": 4,
  "nbformat_minor": 0,
  "metadata": {
    "colab": {
      "provenance": [],
      "include_colab_link": true
    },
    "kernelspec": {
      "name": "python3",
      "display_name": "Python 3"
    },
    "language_info": {
      "name": "python"
    }
  },
  "cells": [
    {
      "cell_type": "markdown",
      "metadata": {
        "id": "view-in-github",
        "colab_type": "text"
      },
      "source": [
        "<a href=\"https://colab.research.google.com/github/PosgradoMNA/actividades-de-aprendizaje-AleRami89/blob/main/kmeans_target.ipynb\" target=\"_parent\"><img src=\"https://colab.research.google.com/assets/colab-badge.svg\" alt=\"Open In Colab\"/></a>"
      ]
    },
    {
      "cell_type": "markdown",
      "source": [
        "#**Semana 7 - K means**\n",
        "\n",
        "## **Maestría:** Inteligencia Artificial Aplicada\n",
        "## **Alumno:** Alejandra Ramírez Romano A01793144\n",
        "## **Fecha de entrega:** 09 de Noviembre de 2022\n",
        "\n",
        "![Picture1.png](data:image/png;base64,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)"
      ],
      "metadata": {
        "id": "6Io8Hynt2C-I"
      }
    },
    {
      "cell_type": "markdown",
      "source": [
        "Este notebook se basa en información de target\n",
        "![imagen.png](https://www.america-retail.com/static//2020/12/target01.jpg)\n",
        "\n",
        "\n",
        "Ahora imagina que somos parte del equipo de data science de la empresa Target, una de las tiendas con mayor presencia en Estados Unidos. El departamento de logistica acude a nosotros para saber donde le conviene poner sus almacenes, para que se optimice el gasto de gasolina, los tiempos de entrega de los productos y se disminuyan costos. Para ello, nos pasan los datos de latitud y longitud de cada una de las tiendas.\n",
        "\n",
        "https://www.kaggle.com/datasets/saejinmahlauheinert/target-store-locations?select=target-locations.csv\n",
        "\n",
        "Si quieres saber un poco más de graficas geográficas consulta el siguiente notebook\n",
        "https://colab.research.google.com/github/QuantEcon/quantecon-notebooks-datascience/blob/master/applications/maps.ipynb#scrollTo=uo2oPtSCeAOz"
      ],
      "metadata": {
        "id": "6mUW5QNwhz5T"
      }
    },
    {
      "cell_type": "code",
      "source": [
        "! pip install qeds fiona geopandas xgboost gensim folium pyLDAvis descartes"
      ],
      "metadata": {
        "colab": {
          "base_uri": "https://localhost:8080/"
        },
        "id": "YwkfEqinwESD",
        "outputId": "6a8c0e10-23c1-4c65-b6b9-2d4436df68ff"
      },
      "execution_count": 1,
      "outputs": [
        {
          "output_type": "stream",
          "name": "stdout",
          "text": [
            "Looking in indexes: https://pypi.org/simple, https://us-python.pkg.dev/colab-wheels/public/simple/\n",
            "Collecting qeds\n",
            "  Downloading qeds-0.7.0.tar.gz (24 kB)\n",
            "Collecting fiona\n",
            "  Downloading Fiona-1.8.22-cp37-cp37m-manylinux2014_x86_64.whl (16.7 MB)\n",
            "\u001b[K     |████████████████████████████████| 16.7 MB 6.3 MB/s \n",
            "\u001b[?25hCollecting geopandas\n",
            "  Downloading geopandas-0.10.2-py2.py3-none-any.whl (1.0 MB)\n",
            "\u001b[K     |████████████████████████████████| 1.0 MB 53.2 MB/s \n",
            "\u001b[?25hRequirement already satisfied: xgboost in /usr/local/lib/python3.7/dist-packages (0.90)\n",
            "Requirement already satisfied: gensim in /usr/local/lib/python3.7/dist-packages (3.6.0)\n",
            "Requirement already satisfied: folium in /usr/local/lib/python3.7/dist-packages (0.12.1.post1)\n",
            "Collecting pyLDAvis\n",
            "  Downloading pyLDAvis-3.3.1.tar.gz (1.7 MB)\n",
            "\u001b[K     |████████████████████████████████| 1.7 MB 15.5 MB/s \n",
            "\u001b[?25h  Installing build dependencies ... \u001b[?25l\u001b[?25hdone\n",
            "  Getting requirements to build wheel ... \u001b[?25l\u001b[?25hdone\n",
            "  Installing backend dependencies ... \u001b[?25l\u001b[?25hdone\n",
            "    Preparing wheel metadata ... \u001b[?25l\u001b[?25hdone\n",
            "Requirement already satisfied: descartes in /usr/local/lib/python3.7/dist-packages (1.1.0)\n",
            "Requirement already satisfied: pandas in /usr/local/lib/python3.7/dist-packages (from qeds) (1.3.5)\n",
            "Requirement already satisfied: requests in /usr/local/lib/python3.7/dist-packages (from qeds) (2.23.0)\n",
            "Collecting quandl\n",
            "  Downloading Quandl-3.7.0-py2.py3-none-any.whl (26 kB)\n",
            "Requirement already satisfied: scipy in /usr/local/lib/python3.7/dist-packages (from qeds) (1.7.3)\n",
            "Requirement already satisfied: numpy in /usr/local/lib/python3.7/dist-packages (from qeds) (1.21.6)\n",
            "Collecting quantecon\n",
            "  Downloading quantecon-0.5.3-py3-none-any.whl (179 kB)\n",
            "\u001b[K     |████████████████████████████████| 179 kB 42.6 MB/s \n",
            "\u001b[?25hRequirement already satisfied: matplotlib in /usr/local/lib/python3.7/dist-packages (from qeds) (3.2.2)\n",
            "Requirement already satisfied: pyarrow in /usr/local/lib/python3.7/dist-packages (from qeds) (6.0.1)\n",
            "Requirement already satisfied: openpyxl in /usr/local/lib/python3.7/dist-packages (from qeds) (3.0.10)\n",
            "Requirement already satisfied: plotly in /usr/local/lib/python3.7/dist-packages (from qeds) (5.5.0)\n",
            "Requirement already satisfied: pandas_datareader in /usr/local/lib/python3.7/dist-packages (from qeds) (0.9.0)\n",
            "Requirement already satisfied: scikit-learn in /usr/local/lib/python3.7/dist-packages (from qeds) (1.0.2)\n",
            "Requirement already satisfied: seaborn in /usr/local/lib/python3.7/dist-packages (from qeds) (0.11.2)\n",
            "Requirement already satisfied: statsmodels in /usr/local/lib/python3.7/dist-packages (from qeds) (0.12.2)\n",
            "Collecting click-plugins>=1.0\n",
            "  Downloading click_plugins-1.1.1-py2.py3-none-any.whl (7.5 kB)\n",
            "Collecting munch\n",
            "  Downloading munch-2.5.0-py2.py3-none-any.whl (10 kB)\n",
            "Requirement already satisfied: setuptools in /usr/local/lib/python3.7/dist-packages (from fiona) (57.4.0)\n",
            "Collecting cligj>=0.5\n",
            "  Downloading cligj-0.7.2-py3-none-any.whl (7.1 kB)\n",
            "Requirement already satisfied: click>=4.0 in /usr/local/lib/python3.7/dist-packages (from fiona) (7.1.2)\n",
            "Requirement already satisfied: certifi in /usr/local/lib/python3.7/dist-packages (from fiona) (2022.9.24)\n",
            "Requirement already satisfied: six>=1.7 in /usr/local/lib/python3.7/dist-packages (from fiona) (1.15.0)\n",
            "Requirement already satisfied: attrs>=17 in /usr/local/lib/python3.7/dist-packages (from fiona) (22.1.0)\n",
            "Collecting pyproj>=2.2.0\n",
            "  Downloading pyproj-3.2.1-cp37-cp37m-manylinux2010_x86_64.whl (6.3 MB)\n",
            "\u001b[K     |████████████████████████████████| 6.3 MB 47.3 MB/s \n",
            "\u001b[?25hRequirement already satisfied: shapely>=1.6 in /usr/local/lib/python3.7/dist-packages (from geopandas) (1.8.5.post1)\n",
            "Requirement already satisfied: pytz>=2017.3 in /usr/local/lib/python3.7/dist-packages (from pandas->qeds) (2022.6)\n",
            "Requirement already satisfied: python-dateutil>=2.7.3 in /usr/local/lib/python3.7/dist-packages (from pandas->qeds) (2.8.2)\n",
            "Requirement already satisfied: smart-open>=1.2.1 in /usr/local/lib/python3.7/dist-packages (from gensim) (5.2.1)\n",
            "Requirement already satisfied: jinja2>=2.9 in /usr/local/lib/python3.7/dist-packages (from folium) (2.11.3)\n",
            "Requirement already satisfied: branca>=0.3.0 in /usr/local/lib/python3.7/dist-packages (from folium) (0.5.0)\n",
            "Requirement already satisfied: MarkupSafe>=0.23 in /usr/local/lib/python3.7/dist-packages (from jinja2>=2.9->folium) (2.0.1)\n",
            "Requirement already satisfied: joblib in /usr/local/lib/python3.7/dist-packages (from pyLDAvis) (1.2.0)\n",
            "Collecting sklearn\n",
            "  Downloading sklearn-0.0.post1.tar.gz (3.6 kB)\n",
            "Requirement already satisfied: numexpr in /usr/local/lib/python3.7/dist-packages (from pyLDAvis) (2.8.4)\n",
            "Collecting funcy\n",
            "  Downloading funcy-1.17-py2.py3-none-any.whl (33 kB)\n",
            "Requirement already satisfied: future in /usr/local/lib/python3.7/dist-packages (from pyLDAvis) (0.16.0)\n",
            "Requirement already satisfied: pyparsing!=2.0.4,!=2.1.2,!=2.1.6,>=2.0.1 in /usr/local/lib/python3.7/dist-packages (from matplotlib->qeds) (3.0.9)\n",
            "Requirement already satisfied: cycler>=0.10 in /usr/local/lib/python3.7/dist-packages (from matplotlib->qeds) (0.11.0)\n",
            "Requirement already satisfied: kiwisolver>=1.0.1 in /usr/local/lib/python3.7/dist-packages (from matplotlib->qeds) (1.4.4)\n",
            "Requirement already satisfied: typing-extensions in /usr/local/lib/python3.7/dist-packages (from kiwisolver>=1.0.1->matplotlib->qeds) (4.1.1)\n",
            "Requirement already satisfied: et-xmlfile in /usr/local/lib/python3.7/dist-packages (from openpyxl->qeds) (1.1.0)\n",
            "Requirement already satisfied: lxml in /usr/local/lib/python3.7/dist-packages (from pandas_datareader->qeds) (4.9.1)\n",
            "Requirement already satisfied: urllib3!=1.25.0,!=1.25.1,<1.26,>=1.21.1 in /usr/local/lib/python3.7/dist-packages (from requests->qeds) (1.24.3)\n",
            "Requirement already satisfied: chardet<4,>=3.0.2 in /usr/local/lib/python3.7/dist-packages (from requests->qeds) (3.0.4)\n",
            "Requirement already satisfied: idna<3,>=2.5 in /usr/local/lib/python3.7/dist-packages (from requests->qeds) (2.10)\n",
            "Requirement already satisfied: tenacity>=6.2.0 in /usr/local/lib/python3.7/dist-packages (from plotly->qeds) (8.1.0)\n",
            "Collecting inflection>=0.3.1\n",
            "  Downloading inflection-0.5.1-py2.py3-none-any.whl (9.5 kB)\n",
            "Requirement already satisfied: more-itertools in /usr/local/lib/python3.7/dist-packages (from quandl->qeds) (9.0.0)\n",
            "Requirement already satisfied: numba in /usr/local/lib/python3.7/dist-packages (from quantecon->qeds) (0.56.4)\n",
            "Requirement already satisfied: sympy in /usr/local/lib/python3.7/dist-packages (from quantecon->qeds) (1.7.1)\n",
            "Requirement already satisfied: llvmlite<0.40,>=0.39.0dev0 in /usr/local/lib/python3.7/dist-packages (from numba->quantecon->qeds) (0.39.1)\n",
            "Requirement already satisfied: importlib-metadata in /usr/local/lib/python3.7/dist-packages (from numba->quantecon->qeds) (4.13.0)\n",
            "Requirement already satisfied: zipp>=0.5 in /usr/local/lib/python3.7/dist-packages (from importlib-metadata->numba->quantecon->qeds) (3.10.0)\n",
            "Requirement already satisfied: threadpoolctl>=2.0.0 in /usr/local/lib/python3.7/dist-packages (from scikit-learn->qeds) (3.1.0)\n",
            "Requirement already satisfied: patsy>=0.5 in /usr/local/lib/python3.7/dist-packages (from statsmodels->qeds) (0.5.3)\n",
            "Requirement already satisfied: mpmath>=0.19 in /usr/local/lib/python3.7/dist-packages (from sympy->quantecon->qeds) (1.2.1)\n",
            "Building wheels for collected packages: qeds, pyLDAvis, sklearn\n",
            "  Building wheel for qeds (setup.py) ... \u001b[?25l\u001b[?25hdone\n",
            "  Created wheel for qeds: filename=qeds-0.7.0-py3-none-any.whl size=27812 sha256=8825087c00c340c91ff877bbb246411590931fba651323845a8112ecba65a77a\n",
            "  Stored in directory: /root/.cache/pip/wheels/fc/8c/52/0cc036b9730b75850b9845770780f8d05ed08ff38a67cbaa29\n",
            "  Building wheel for pyLDAvis (PEP 517) ... \u001b[?25l\u001b[?25hdone\n",
            "  Created wheel for pyLDAvis: filename=pyLDAvis-3.3.1-py2.py3-none-any.whl size=136897 sha256=5d8cb6d1f813dffe4a22f53996ff83956b6c31ca21fd0cb3d2a0e183d17d438e\n",
            "  Stored in directory: /root/.cache/pip/wheels/c9/21/f6/17bcf2667e8a68532ba2fbf6d5c72fdf4c7f7d9abfa4852d2f\n",
            "  Building wheel for sklearn (setup.py) ... \u001b[?25l\u001b[?25hdone\n",
            "  Created wheel for sklearn: filename=sklearn-0.0.post1-py3-none-any.whl size=2344 sha256=ca788dda637b29655c2c4222aa5fdac320af7f936c07d8053446a819489f39e0\n",
            "  Stored in directory: /root/.cache/pip/wheels/42/56/cc/4a8bf86613aafd5b7f1b310477667c1fca5c51c3ae4124a003\n",
            "Successfully built qeds pyLDAvis sklearn\n",
            "Installing collected packages: munch, inflection, cligj, click-plugins, sklearn, quantecon, quandl, pyproj, funcy, fiona, qeds, pyLDAvis, geopandas\n",
            "Successfully installed click-plugins-1.1.1 cligj-0.7.2 fiona-1.8.22 funcy-1.17 geopandas-0.10.2 inflection-0.5.1 munch-2.5.0 pyLDAvis-3.3.1 pyproj-3.2.1 qeds-0.7.0 quandl-3.7.0 quantecon-0.5.3 sklearn-0.0.post1\n"
          ]
        }
      ]
    },
    {
      "cell_type": "code",
      "source": [
        "import pandas as pd\n",
        "import numpy as np\n",
        "from tqdm import tqdm\n",
        "%matplotlib inline\n",
        "import numpy as np\n",
        "import matplotlib.pyplot as plt\n",
        "import geopandas"
      ],
      "metadata": {
        "id": "WBpdGjbquQii"
      },
      "execution_count": 2,
      "outputs": []
    },
    {
      "cell_type": "markdown",
      "source": [
        "Importa la base de datos"
      ],
      "metadata": {
        "id": "KNTIoZlGvPum"
      }
    },
    {
      "cell_type": "code",
      "source": [
        "url=\"https://raw.githubusercontent.com/marypazrf/bdd/main/target-locations.csv\"\n",
        "df=pd.read_csv(url)"
      ],
      "metadata": {
        "id": "PAJWHRVN781V"
      },
      "execution_count": 3,
      "outputs": []
    },
    {
      "cell_type": "markdown",
      "source": [
        "Exploremos los datos."
      ],
      "metadata": {
        "id": "sH4hvPAYvUGY"
      }
    },
    {
      "cell_type": "code",
      "source": [
        "\n",
        "df.head()\n"
      ],
      "metadata": {
        "colab": {
          "base_uri": "https://localhost:8080/",
          "height": 206
        },
        "id": "DuzNp7KseyBg",
        "outputId": "4d78da6f-9dfa-48ea-a290-238bed280780"
      },
      "execution_count": 4,
      "outputs": [
        {
          "output_type": "execute_result",
          "data": {
            "text/plain": [
              "        name   latitude  longitude  \\\n",
              "0  Alabaster  33.224225 -86.804174   \n",
              "1   Bessemer  33.334550 -86.989778   \n",
              "2     Daphne  30.602875 -87.895932   \n",
              "3    Decatur  34.560148 -86.971559   \n",
              "4     Dothan  31.266061 -85.446422   \n",
              "\n",
              "                                             address         phone  \\\n",
              "0        250 S Colonial Dr, Alabaster, AL 35007-4657  205-564-2608   \n",
              "1       4889 Promenade Pkwy, Bessemer, AL 35022-7305  205-565-3760   \n",
              "2          1698 US Highway 98, Daphne, AL 36526-4252  251-621-3540   \n",
              "3  1235 Point Mallard Pkwy SE, Decatur, AL 35601-...  256-898-3036   \n",
              "4         4601 Montgomery Hwy, Dothan, AL 36303-1522  334-340-1112   \n",
              "\n",
              "                                    website  \n",
              "0  https://www.target.com/sl/alabaster/2276  \n",
              "1   https://www.target.com/sl/bessemer/2375  \n",
              "2     https://www.target.com/sl/daphne/1274  \n",
              "3    https://www.target.com/sl/decatur/2084  \n",
              "4     https://www.target.com/sl/dothan/1468  "
            ],
            "text/html": [
              "\n",
              "  <div id=\"df-c22448d5-15fb-4725-a964-f044834534d1\">\n",
              "    <div class=\"colab-df-container\">\n",
              "      <div>\n",
              "<style scoped>\n",
              "    .dataframe tbody tr th:only-of-type {\n",
              "        vertical-align: middle;\n",
              "    }\n",
              "\n",
              "    .dataframe tbody tr th {\n",
              "        vertical-align: top;\n",
              "    }\n",
              "\n",
              "    .dataframe thead th {\n",
              "        text-align: right;\n",
              "    }\n",
              "</style>\n",
              "<table border=\"1\" class=\"dataframe\">\n",
              "  <thead>\n",
              "    <tr style=\"text-align: right;\">\n",
              "      <th></th>\n",
              "      <th>name</th>\n",
              "      <th>latitude</th>\n",
              "      <th>longitude</th>\n",
              "      <th>address</th>\n",
              "      <th>phone</th>\n",
              "      <th>website</th>\n",
              "    </tr>\n",
              "  </thead>\n",
              "  <tbody>\n",
              "    <tr>\n",
              "      <th>0</th>\n",
              "      <td>Alabaster</td>\n",
              "      <td>33.224225</td>\n",
              "      <td>-86.804174</td>\n",
              "      <td>250 S Colonial Dr, Alabaster, AL 35007-4657</td>\n",
              "      <td>205-564-2608</td>\n",
              "      <td>https://www.target.com/sl/alabaster/2276</td>\n",
              "    </tr>\n",
              "    <tr>\n",
              "      <th>1</th>\n",
              "      <td>Bessemer</td>\n",
              "      <td>33.334550</td>\n",
              "      <td>-86.989778</td>\n",
              "      <td>4889 Promenade Pkwy, Bessemer, AL 35022-7305</td>\n",
              "      <td>205-565-3760</td>\n",
              "      <td>https://www.target.com/sl/bessemer/2375</td>\n",
              "    </tr>\n",
              "    <tr>\n",
              "      <th>2</th>\n",
              "      <td>Daphne</td>\n",
              "      <td>30.602875</td>\n",
              "      <td>-87.895932</td>\n",
              "      <td>1698 US Highway 98, Daphne, AL 36526-4252</td>\n",
              "      <td>251-621-3540</td>\n",
              "      <td>https://www.target.com/sl/daphne/1274</td>\n",
              "    </tr>\n",
              "    <tr>\n",
              "      <th>3</th>\n",
              "      <td>Decatur</td>\n",
              "      <td>34.560148</td>\n",
              "      <td>-86.971559</td>\n",
              "      <td>1235 Point Mallard Pkwy SE, Decatur, AL 35601-...</td>\n",
              "      <td>256-898-3036</td>\n",
              "      <td>https://www.target.com/sl/decatur/2084</td>\n",
              "    </tr>\n",
              "    <tr>\n",
              "      <th>4</th>\n",
              "      <td>Dothan</td>\n",
              "      <td>31.266061</td>\n",
              "      <td>-85.446422</td>\n",
              "      <td>4601 Montgomery Hwy, Dothan, AL 36303-1522</td>\n",
              "      <td>334-340-1112</td>\n",
              "      <td>https://www.target.com/sl/dothan/1468</td>\n",
              "    </tr>\n",
              "  </tbody>\n",
              "</table>\n",
              "</div>\n",
              "      <button class=\"colab-df-convert\" onclick=\"convertToInteractive('df-c22448d5-15fb-4725-a964-f044834534d1')\"\n",
              "              title=\"Convert this dataframe to an interactive table.\"\n",
              "              style=\"display:none;\">\n",
              "        \n",
              "  <svg xmlns=\"http://www.w3.org/2000/svg\" height=\"24px\"viewBox=\"0 0 24 24\"\n",
              "       width=\"24px\">\n",
              "    <path d=\"M0 0h24v24H0V0z\" fill=\"none\"/>\n",
              "    <path d=\"M18.56 5.44l.94 2.06.94-2.06 2.06-.94-2.06-.94-.94-2.06-.94 2.06-2.06.94zm-11 1L8.5 8.5l.94-2.06 2.06-.94-2.06-.94L8.5 2.5l-.94 2.06-2.06.94zm10 10l.94 2.06.94-2.06 2.06-.94-2.06-.94-.94-2.06-.94 2.06-2.06.94z\"/><path d=\"M17.41 7.96l-1.37-1.37c-.4-.4-.92-.59-1.43-.59-.52 0-1.04.2-1.43.59L10.3 9.45l-7.72 7.72c-.78.78-.78 2.05 0 2.83L4 21.41c.39.39.9.59 1.41.59.51 0 1.02-.2 1.41-.59l7.78-7.78 2.81-2.81c.8-.78.8-2.07 0-2.86zM5.41 20L4 18.59l7.72-7.72 1.47 1.35L5.41 20z\"/>\n",
              "  </svg>\n",
              "      </button>\n",
              "      \n",
              "  <style>\n",
              "    .colab-df-container {\n",
              "      display:flex;\n",
              "      flex-wrap:wrap;\n",
              "      gap: 12px;\n",
              "    }\n",
              "\n",
              "    .colab-df-convert {\n",
              "      background-color: #E8F0FE;\n",
              "      border: none;\n",
              "      border-radius: 50%;\n",
              "      cursor: pointer;\n",
              "      display: none;\n",
              "      fill: #1967D2;\n",
              "      height: 32px;\n",
              "      padding: 0 0 0 0;\n",
              "      width: 32px;\n",
              "    }\n",
              "\n",
              "    .colab-df-convert:hover {\n",
              "      background-color: #E2EBFA;\n",
              "      box-shadow: 0px 1px 2px rgba(60, 64, 67, 0.3), 0px 1px 3px 1px rgba(60, 64, 67, 0.15);\n",
              "      fill: #174EA6;\n",
              "    }\n",
              "\n",
              "    [theme=dark] .colab-df-convert {\n",
              "      background-color: #3B4455;\n",
              "      fill: #D2E3FC;\n",
              "    }\n",
              "\n",
              "    [theme=dark] .colab-df-convert:hover {\n",
              "      background-color: #434B5C;\n",
              "      box-shadow: 0px 1px 3px 1px rgba(0, 0, 0, 0.15);\n",
              "      filter: drop-shadow(0px 1px 2px rgba(0, 0, 0, 0.3));\n",
              "      fill: #FFFFFF;\n",
              "    }\n",
              "  </style>\n",
              "\n",
              "      <script>\n",
              "        const buttonEl =\n",
              "          document.querySelector('#df-c22448d5-15fb-4725-a964-f044834534d1 button.colab-df-convert');\n",
              "        buttonEl.style.display =\n",
              "          google.colab.kernel.accessAllowed ? 'block' : 'none';\n",
              "\n",
              "        async function convertToInteractive(key) {\n",
              "          const element = document.querySelector('#df-c22448d5-15fb-4725-a964-f044834534d1');\n",
              "          const dataTable =\n",
              "            await google.colab.kernel.invokeFunction('convertToInteractive',\n",
              "                                                     [key], {});\n",
              "          if (!dataTable) return;\n",
              "\n",
              "          const docLinkHtml = 'Like what you see? Visit the ' +\n",
              "            '<a target=\"_blank\" href=https://colab.research.google.com/notebooks/data_table.ipynb>data table notebook</a>'\n",
              "            + ' to learn more about interactive tables.';\n",
              "          element.innerHTML = '';\n",
              "          dataTable['output_type'] = 'display_data';\n",
              "          await google.colab.output.renderOutput(dataTable, element);\n",
              "          const docLink = document.createElement('div');\n",
              "          docLink.innerHTML = docLinkHtml;\n",
              "          element.appendChild(docLink);\n",
              "        }\n",
              "      </script>\n",
              "    </div>\n",
              "  </div>\n",
              "  "
            ]
          },
          "metadata": {},
          "execution_count": 4
        }
      ]
    },
    {
      "cell_type": "code",
      "source": [
        "df.info()"
      ],
      "metadata": {
        "colab": {
          "base_uri": "https://localhost:8080/"
        },
        "id": "MxbhdLkavl7Q",
        "outputId": "515b90b4-ad8b-4aa6-f92b-ad8ddbfc3726"
      },
      "execution_count": 5,
      "outputs": [
        {
          "output_type": "stream",
          "name": "stdout",
          "text": [
            "<class 'pandas.core.frame.DataFrame'>\n",
            "RangeIndex: 1839 entries, 0 to 1838\n",
            "Data columns (total 6 columns):\n",
            " #   Column     Non-Null Count  Dtype  \n",
            "---  ------     --------------  -----  \n",
            " 0   name       1839 non-null   object \n",
            " 1   latitude   1839 non-null   float64\n",
            " 2   longitude  1839 non-null   float64\n",
            " 3   address    1839 non-null   object \n",
            " 4   phone      1839 non-null   object \n",
            " 5   website    1839 non-null   object \n",
            "dtypes: float64(2), object(4)\n",
            "memory usage: 86.3+ KB\n"
          ]
        }
      ]
    },
    {
      "cell_type": "markdown",
      "source": [
        "**Definición de Latitud y Longitud**\n",
        "\n",
        "**Latitud** Es la distancia en grados, minutos y segundos que hay con respecto al paralelo principal, que es el ecuador (0º). La latitud puede ser norte y sur.\n",
        "\n",
        "**Longitud**: Es la distancia en grados, minutos y segundos que hay con respecto al meridiano principal, que es el meridiano de Greenwich (0º).La longitud puede ser este y oeste."
      ],
      "metadata": {
        "id": "cpfqKT4qxAZz"
      }
    },
    {
      "cell_type": "code",
      "source": [
        "latlong=df[[\"latitude\",\"longitude\"]]"
      ],
      "metadata": {
        "id": "oPzX3DGju0As"
      },
      "execution_count": 6,
      "outputs": []
    },
    {
      "cell_type": "code",
      "source": [],
      "metadata": {
        "id": "n4QKgxn4e6V0"
      },
      "execution_count": 6,
      "outputs": []
    },
    {
      "cell_type": "markdown",
      "source": [
        "¡Visualizemos los datos!, para empezar a notar algún patron. \n",
        "\n",
        "A simple vista pudieramos pensar que tenemos algunos datos atípicos u outliers, pero .... no es así, simplemente esta grafica no nos está dando toda la información."
      ],
      "metadata": {
        "id": "gMk6UVE2e67y"
      }
    },
    {
      "cell_type": "code",
      "source": [
        "#extrae los datos interesantes\n",
        "latlong.plot.scatter( \"longitude\",\"latitude\")"
      ],
      "metadata": {
        "colab": {
          "base_uri": "https://localhost:8080/",
          "height": 296
        },
        "id": "-QZRqKiDfj2J",
        "outputId": "6584027f-42aa-4c19-aad6-aec513e57d96"
      },
      "execution_count": 7,
      "outputs": [
        {
          "output_type": "execute_result",
          "data": {
            "text/plain": [
              "<matplotlib.axes._subplots.AxesSubplot at 0x7ff2b63ab590>"
            ]
          },
          "metadata": {},
          "execution_count": 7
        },
        {
          "output_type": "display_data",
          "data": {
            "text/plain": [
              "<Figure size 432x288 with 1 Axes>"
            ],
            "image/png": "[encoded data removed]"
          },
          "metadata": {
            "needs_background": "light"
          }
        }
      ]
    },
    {
      "cell_type": "code",
      "source": [
        "latlong.describe()"
      ],
      "metadata": {
        "colab": {
          "base_uri": "https://localhost:8080/",
          "height": 300
        },
        "id": "O6b3QguyyjM_",
        "outputId": "7fb1c5aa-49d4-45dc-fe78-1e0b7b2d6a50"
      },
      "execution_count": 8,
      "outputs": [
        {
          "output_type": "execute_result",
          "data": {
            "text/plain": [
              "          latitude    longitude\n",
              "count  1839.000000  1839.000000\n",
              "mean     37.791238   -91.986881\n",
              "std       5.272299    16.108046\n",
              "min      19.647855  -159.376962\n",
              "25%      33.882605   -98.268828\n",
              "50%      38.955432   -87.746346\n",
              "75%      41.658341   -80.084833\n",
              "max      61.577919   -68.742331"
            ],
            "text/html": [
              "\n",
              "  <div id=\"df-90d43adc-2137-4809-bb68-cdc6f2c9fe2c\">\n",
              "    <div class=\"colab-df-container\">\n",
              "      <div>\n",
              "<style scoped>\n",
              "    .dataframe tbody tr th:only-of-type {\n",
              "        vertical-align: middle;\n",
              "    }\n",
              "\n",
              "    .dataframe tbody tr th {\n",
              "        vertical-align: top;\n",
              "    }\n",
              "\n",
              "    .dataframe thead th {\n",
              "        text-align: right;\n",
              "    }\n",
              "</style>\n",
              "<table border=\"1\" class=\"dataframe\">\n",
              "  <thead>\n",
              "    <tr style=\"text-align: right;\">\n",
              "      <th></th>\n",
              "      <th>latitude</th>\n",
              "      <th>longitude</th>\n",
              "    </tr>\n",
              "  </thead>\n",
              "  <tbody>\n",
              "    <tr>\n",
              "      <th>count</th>\n",
              "      <td>1839.000000</td>\n",
              "      <td>1839.000000</td>\n",
              "    </tr>\n",
              "    <tr>\n",
              "      <th>mean</th>\n",
              "      <td>37.791238</td>\n",
              "      <td>-91.986881</td>\n",
              "    </tr>\n",
              "    <tr>\n",
              "      <th>std</th>\n",
              "      <td>5.272299</td>\n",
              "      <td>16.108046</td>\n",
              "    </tr>\n",
              "    <tr>\n",
              "      <th>min</th>\n",
              "      <td>19.647855</td>\n",
              "      <td>-159.376962</td>\n",
              "    </tr>\n",
              "    <tr>\n",
              "      <th>25%</th>\n",
              "      <td>33.882605</td>\n",
              "      <td>-98.268828</td>\n",
              "    </tr>\n",
              "    <tr>\n",
              "      <th>50%</th>\n",
              "      <td>38.955432</td>\n",
              "      <td>-87.746346</td>\n",
              "    </tr>\n",
              "    <tr>\n",
              "      <th>75%</th>\n",
              "      <td>41.658341</td>\n",
              "      <td>-80.084833</td>\n",
              "    </tr>\n",
              "    <tr>\n",
              "      <th>max</th>\n",
              "      <td>61.577919</td>\n",
              "      <td>-68.742331</td>\n",
              "    </tr>\n",
              "  </tbody>\n",
              "</table>\n",
              "</div>\n",
              "      <button class=\"colab-df-convert\" onclick=\"convertToInteractive('df-90d43adc-2137-4809-bb68-cdc6f2c9fe2c')\"\n",
              "              title=\"Convert this dataframe to an interactive table.\"\n",
              "              style=\"display:none;\">\n",
              "        \n",
              "  <svg xmlns=\"http://www.w3.org/2000/svg\" height=\"24px\"viewBox=\"0 0 24 24\"\n",
              "       width=\"24px\">\n",
              "    <path d=\"M0 0h24v24H0V0z\" fill=\"none\"/>\n",
              "    <path d=\"M18.56 5.44l.94 2.06.94-2.06 2.06-.94-2.06-.94-.94-2.06-.94 2.06-2.06.94zm-11 1L8.5 8.5l.94-2.06 2.06-.94-2.06-.94L8.5 2.5l-.94 2.06-2.06.94zm10 10l.94 2.06.94-2.06 2.06-.94-2.06-.94-.94-2.06-.94 2.06-2.06.94z\"/><path d=\"M17.41 7.96l-1.37-1.37c-.4-.4-.92-.59-1.43-.59-.52 0-1.04.2-1.43.59L10.3 9.45l-7.72 7.72c-.78.78-.78 2.05 0 2.83L4 21.41c.39.39.9.59 1.41.59.51 0 1.02-.2 1.41-.59l7.78-7.78 2.81-2.81c.8-.78.8-2.07 0-2.86zM5.41 20L4 18.59l7.72-7.72 1.47 1.35L5.41 20z\"/>\n",
              "  </svg>\n",
              "      </button>\n",
              "      \n",
              "  <style>\n",
              "    .colab-df-container {\n",
              "      display:flex;\n",
              "      flex-wrap:wrap;\n",
              "      gap: 12px;\n",
              "    }\n",
              "\n",
              "    .colab-df-convert {\n",
              "      background-color: #E8F0FE;\n",
              "      border: none;\n",
              "      border-radius: 50%;\n",
              "      cursor: pointer;\n",
              "      display: none;\n",
              "      fill: #1967D2;\n",
              "      height: 32px;\n",
              "      padding: 0 0 0 0;\n",
              "      width: 32px;\n",
              "    }\n",
              "\n",
              "    .colab-df-convert:hover {\n",
              "      background-color: #E2EBFA;\n",
              "      box-shadow: 0px 1px 2px rgba(60, 64, 67, 0.3), 0px 1px 3px 1px rgba(60, 64, 67, 0.15);\n",
              "      fill: #174EA6;\n",
              "    }\n",
              "\n",
              "    [theme=dark] .colab-df-convert {\n",
              "      background-color: #3B4455;\n",
              "      fill: #D2E3FC;\n",
              "    }\n",
              "\n",
              "    [theme=dark] .colab-df-convert:hover {\n",
              "      background-color: #434B5C;\n",
              "      box-shadow: 0px 1px 3px 1px rgba(0, 0, 0, 0.15);\n",
              "      filter: drop-shadow(0px 1px 2px rgba(0, 0, 0, 0.3));\n",
              "      fill: #FFFFFF;\n",
              "    }\n",
              "  </style>\n",
              "\n",
              "      <script>\n",
              "        const buttonEl =\n",
              "          document.querySelector('#df-90d43adc-2137-4809-bb68-cdc6f2c9fe2c button.colab-df-convert');\n",
              "        buttonEl.style.display =\n",
              "          google.colab.kernel.accessAllowed ? 'block' : 'none';\n",
              "\n",
              "        async function convertToInteractive(key) {\n",
              "          const element = document.querySelector('#df-90d43adc-2137-4809-bb68-cdc6f2c9fe2c');\n",
              "          const dataTable =\n",
              "            await google.colab.kernel.invokeFunction('convertToInteractive',\n",
              "                                                     [key], {});\n",
              "          if (!dataTable) return;\n",
              "\n",
              "          const docLinkHtml = 'Like what you see? Visit the ' +\n",
              "            '<a target=\"_blank\" href=https://colab.research.google.com/notebooks/data_table.ipynb>data table notebook</a>'\n",
              "            + ' to learn more about interactive tables.';\n",
              "          element.innerHTML = '';\n",
              "          dataTable['output_type'] = 'display_data';\n",
              "          await google.colab.output.renderOutput(dataTable, element);\n",
              "          const docLink = document.createElement('div');\n",
              "          docLink.innerHTML = docLinkHtml;\n",
              "          element.appendChild(docLink);\n",
              "        }\n",
              "      </script>\n",
              "    </div>\n",
              "  </div>\n",
              "  "
            ]
          },
          "metadata": {},
          "execution_count": 8
        }
      ]
    },
    {
      "cell_type": "markdown",
      "source": [
        "Para entender un poco más, nos auxiliaremos de una librería para graficar datos geográficos. Esto nos ayudara a tener un mejor entendimiento de ellos.\n",
        "\n",
        "\n"
      ],
      "metadata": {
        "id": "hkPMyAyIDunz"
      }
    },
    {
      "cell_type": "code",
      "source": [
        "import geopandas as gpd\n",
        "import matplotlib.pyplot as plt\n",
        "import pandas as pd\n",
        "\n",
        "from shapely.geometry import Point\n",
        "\n",
        "%matplotlib inline\n",
        "# activate plot theme\n",
        "import qeds\n",
        "qeds.themes.mpl_style();"
      ],
      "metadata": {
        "id": "_blyM4esyJTu"
      },
      "execution_count": 9,
      "outputs": []
    },
    {
      "cell_type": "code",
      "source": [
        "df[\"Coordinates\"] = list(zip(df.longitude, df.latitude))\n",
        "df[\"Coordinates\"] = df[\"Coordinates\"].apply(Point)\n",
        "df.head()"
      ],
      "metadata": {
        "colab": {
          "base_uri": "https://localhost:8080/",
          "height": 206
        },
        "id": "01i0TciKfPco",
        "outputId": "408c0320-0d21-4bf7-d5cf-35b4ec0e4e64"
      },
      "execution_count": 10,
      "outputs": [
        {
          "output_type": "execute_result",
          "data": {
            "text/plain": [
              "        name   latitude  longitude  \\\n",
              "0  Alabaster  33.224225 -86.804174   \n",
              "1   Bessemer  33.334550 -86.989778   \n",
              "2     Daphne  30.602875 -87.895932   \n",
              "3    Decatur  34.560148 -86.971559   \n",
              "4     Dothan  31.266061 -85.446422   \n",
              "\n",
              "                                             address         phone  \\\n",
              "0        250 S Colonial Dr, Alabaster, AL 35007-4657  205-564-2608   \n",
              "1       4889 Promenade Pkwy, Bessemer, AL 35022-7305  205-565-3760   \n",
              "2          1698 US Highway 98, Daphne, AL 36526-4252  251-621-3540   \n",
              "3  1235 Point Mallard Pkwy SE, Decatur, AL 35601-...  256-898-3036   \n",
              "4         4601 Montgomery Hwy, Dothan, AL 36303-1522  334-340-1112   \n",
              "\n",
              "                                    website  \\\n",
              "0  https://www.target.com/sl/alabaster/2276   \n",
              "1   https://www.target.com/sl/bessemer/2375   \n",
              "2     https://www.target.com/sl/daphne/1274   \n",
              "3    https://www.target.com/sl/decatur/2084   \n",
              "4     https://www.target.com/sl/dothan/1468   \n",
              "\n",
              "                             Coordinates  \n",
              "0  POINT (-86.80417369999999 33.2242254)  \n",
              "1  POINT (-86.98977789999999 33.3345501)  \n",
              "2  POINT (-87.89593169999999 30.6028747)  \n",
              "3         POINT (-86.9715595 34.5601477)  \n",
              "4         POINT (-85.4464222 31.2660613)  "
            ],
            "text/html": [
              "\n",
              "  <div id=\"df-e252c1d6-3e7f-4429-9342-11a768bf249b\">\n",
              "    <div class=\"colab-df-container\">\n",
              "      <div>\n",
              "<style scoped>\n",
              "    .dataframe tbody tr th:only-of-type {\n",
              "        vertical-align: middle;\n",
              "    }\n",
              "\n",
              "    .dataframe tbody tr th {\n",
              "        vertical-align: top;\n",
              "    }\n",
              "\n",
              "    .dataframe thead th {\n",
              "        text-align: right;\n",
              "    }\n",
              "</style>\n",
              "<table border=\"1\" class=\"dataframe\">\n",
              "  <thead>\n",
              "    <tr style=\"text-align: right;\">\n",
              "      <th></th>\n",
              "      <th>name</th>\n",
              "      <th>latitude</th>\n",
              "      <th>longitude</th>\n",
              "      <th>address</th>\n",
              "      <th>phone</th>\n",
              "      <th>website</th>\n",
              "      <th>Coordinates</th>\n",
              "    </tr>\n",
              "  </thead>\n",
              "  <tbody>\n",
              "    <tr>\n",
              "      <th>0</th>\n",
              "      <td>Alabaster</td>\n",
              "      <td>33.224225</td>\n",
              "      <td>-86.804174</td>\n",
              "      <td>250 S Colonial Dr, Alabaster, AL 35007-4657</td>\n",
              "      <td>205-564-2608</td>\n",
              "      <td>https://www.target.com/sl/alabaster/2276</td>\n",
              "      <td>POINT (-86.80417369999999 33.2242254)</td>\n",
              "    </tr>\n",
              "    <tr>\n",
              "      <th>1</th>\n",
              "      <td>Bessemer</td>\n",
              "      <td>33.334550</td>\n",
              "      <td>-86.989778</td>\n",
              "      <td>4889 Promenade Pkwy, Bessemer, AL 35022-7305</td>\n",
              "      <td>205-565-3760</td>\n",
              "      <td>https://www.target.com/sl/bessemer/2375</td>\n",
              "      <td>POINT (-86.98977789999999 33.3345501)</td>\n",
              "    </tr>\n",
              "    <tr>\n",
              "      <th>2</th>\n",
              "      <td>Daphne</td>\n",
              "      <td>30.602875</td>\n",
              "      <td>-87.895932</td>\n",
              "      <td>1698 US Highway 98, Daphne, AL 36526-4252</td>\n",
              "      <td>251-621-3540</td>\n",
              "      <td>https://www.target.com/sl/daphne/1274</td>\n",
              "      <td>POINT (-87.89593169999999 30.6028747)</td>\n",
              "    </tr>\n",
              "    <tr>\n",
              "      <th>3</th>\n",
              "      <td>Decatur</td>\n",
              "      <td>34.560148</td>\n",
              "      <td>-86.971559</td>\n",
              "      <td>1235 Point Mallard Pkwy SE, Decatur, AL 35601-...</td>\n",
              "      <td>256-898-3036</td>\n",
              "      <td>https://www.target.com/sl/decatur/2084</td>\n",
              "      <td>POINT (-86.9715595 34.5601477)</td>\n",
              "    </tr>\n",
              "    <tr>\n",
              "      <th>4</th>\n",
              "      <td>Dothan</td>\n",
              "      <td>31.266061</td>\n",
              "      <td>-85.446422</td>\n",
              "      <td>4601 Montgomery Hwy, Dothan, AL 36303-1522</td>\n",
              "      <td>334-340-1112</td>\n",
              "      <td>https://www.target.com/sl/dothan/1468</td>\n",
              "      <td>POINT (-85.4464222 31.2660613)</td>\n",
              "    </tr>\n",
              "  </tbody>\n",
              "</table>\n",
              "</div>\n",
              "      <button class=\"colab-df-convert\" onclick=\"convertToInteractive('df-e252c1d6-3e7f-4429-9342-11a768bf249b')\"\n",
              "              title=\"Convert this dataframe to an interactive table.\"\n",
              "              style=\"display:none;\">\n",
              "        \n",
              "  <svg xmlns=\"http://www.w3.org/2000/svg\" height=\"24px\"viewBox=\"0 0 24 24\"\n",
              "       width=\"24px\">\n",
              "    <path d=\"M0 0h24v24H0V0z\" fill=\"none\"/>\n",
              "    <path d=\"M18.56 5.44l.94 2.06.94-2.06 2.06-.94-2.06-.94-.94-2.06-.94 2.06-2.06.94zm-11 1L8.5 8.5l.94-2.06 2.06-.94-2.06-.94L8.5 2.5l-.94 2.06-2.06.94zm10 10l.94 2.06.94-2.06 2.06-.94-2.06-.94-.94-2.06-.94 2.06-2.06.94z\"/><path d=\"M17.41 7.96l-1.37-1.37c-.4-.4-.92-.59-1.43-.59-.52 0-1.04.2-1.43.59L10.3 9.45l-7.72 7.72c-.78.78-.78 2.05 0 2.83L4 21.41c.39.39.9.59 1.41.59.51 0 1.02-.2 1.41-.59l7.78-7.78 2.81-2.81c.8-.78.8-2.07 0-2.86zM5.41 20L4 18.59l7.72-7.72 1.47 1.35L5.41 20z\"/>\n",
              "  </svg>\n",
              "      </button>\n",
              "      \n",
              "  <style>\n",
              "    .colab-df-container {\n",
              "      display:flex;\n",
              "      flex-wrap:wrap;\n",
              "      gap: 12px;\n",
              "    }\n",
              "\n",
              "    .colab-df-convert {\n",
              "      background-color: #E8F0FE;\n",
              "      border: none;\n",
              "      border-radius: 50%;\n",
              "      cursor: pointer;\n",
              "      display: none;\n",
              "      fill: #1967D2;\n",
              "      height: 32px;\n",
              "      padding: 0 0 0 0;\n",
              "      width: 32px;\n",
              "    }\n",
              "\n",
              "    .colab-df-convert:hover {\n",
              "      background-color: #E2EBFA;\n",
              "      box-shadow: 0px 1px 2px rgba(60, 64, 67, 0.3), 0px 1px 3px 1px rgba(60, 64, 67, 0.15);\n",
              "      fill: #174EA6;\n",
              "    }\n",
              "\n",
              "    [theme=dark] .colab-df-convert {\n",
              "      background-color: #3B4455;\n",
              "      fill: #D2E3FC;\n",
              "    }\n",
              "\n",
              "    [theme=dark] .colab-df-convert:hover {\n",
              "      background-color: #434B5C;\n",
              "      box-shadow: 0px 1px 3px 1px rgba(0, 0, 0, 0.15);\n",
              "      filter: drop-shadow(0px 1px 2px rgba(0, 0, 0, 0.3));\n",
              "      fill: #FFFFFF;\n",
              "    }\n",
              "  </style>\n",
              "\n",
              "      <script>\n",
              "        const buttonEl =\n",
              "          document.querySelector('#df-e252c1d6-3e7f-4429-9342-11a768bf249b button.colab-df-convert');\n",
              "        buttonEl.style.display =\n",
              "          google.colab.kernel.accessAllowed ? 'block' : 'none';\n",
              "\n",
              "        async function convertToInteractive(key) {\n",
              "          const element = document.querySelector('#df-e252c1d6-3e7f-4429-9342-11a768bf249b');\n",
              "          const dataTable =\n",
              "            await google.colab.kernel.invokeFunction('convertToInteractive',\n",
              "                                                     [key], {});\n",
              "          if (!dataTable) return;\n",
              "\n",
              "          const docLinkHtml = 'Like what you see? Visit the ' +\n",
              "            '<a target=\"_blank\" href=https://colab.research.google.com/notebooks/data_table.ipynb>data table notebook</a>'\n",
              "            + ' to learn more about interactive tables.';\n",
              "          element.innerHTML = '';\n",
              "          dataTable['output_type'] = 'display_data';\n",
              "          await google.colab.output.renderOutput(dataTable, element);\n",
              "          const docLink = document.createElement('div');\n",
              "          docLink.innerHTML = docLinkHtml;\n",
              "          element.appendChild(docLink);\n",
              "        }\n",
              "      </script>\n",
              "    </div>\n",
              "  </div>\n",
              "  "
            ]
          },
          "metadata": {},
          "execution_count": 10
        }
      ]
    },
    {
      "cell_type": "code",
      "source": [
        "gdf = gpd.GeoDataFrame(df, geometry=\"Coordinates\")\n",
        "gdf.head()"
      ],
      "metadata": {
        "colab": {
          "base_uri": "https://localhost:8080/",
          "height": 206
        },
        "id": "SBTBrsvlfIU_",
        "outputId": "b985d3fc-bd17-4b4b-ac6f-8d3d64d93618"
      },
      "execution_count": 11,
      "outputs": [
        {
          "output_type": "execute_result",
          "data": {
            "text/plain": [
              "        name   latitude  longitude  \\\n",
              "0  Alabaster  33.224225 -86.804174   \n",
              "1   Bessemer  33.334550 -86.989778   \n",
              "2     Daphne  30.602875 -87.895932   \n",
              "3    Decatur  34.560148 -86.971559   \n",
              "4     Dothan  31.266061 -85.446422   \n",
              "\n",
              "                                             address         phone  \\\n",
              "0        250 S Colonial Dr, Alabaster, AL 35007-4657  205-564-2608   \n",
              "1       4889 Promenade Pkwy, Bessemer, AL 35022-7305  205-565-3760   \n",
              "2          1698 US Highway 98, Daphne, AL 36526-4252  251-621-3540   \n",
              "3  1235 Point Mallard Pkwy SE, Decatur, AL 35601-...  256-898-3036   \n",
              "4         4601 Montgomery Hwy, Dothan, AL 36303-1522  334-340-1112   \n",
              "\n",
              "                                    website                 Coordinates  \n",
              "0  https://www.target.com/sl/alabaster/2276  POINT (-86.80417 33.22423)  \n",
              "1   https://www.target.com/sl/bessemer/2375  POINT (-86.98978 33.33455)  \n",
              "2     https://www.target.com/sl/daphne/1274  POINT (-87.89593 30.60287)  \n",
              "3    https://www.target.com/sl/decatur/2084  POINT (-86.97156 34.56015)  \n",
              "4     https://www.target.com/sl/dothan/1468  POINT (-85.44642 31.26606)  "
            ],
            "text/html": [
              "\n",
              "  <div id=\"df-89a459ac-f4b5-4516-940b-ca366ada0e39\">\n",
              "    <div class=\"colab-df-container\">\n",
              "      <div>\n",
              "<style scoped>\n",
              "    .dataframe tbody tr th:only-of-type {\n",
              "        vertical-align: middle;\n",
              "    }\n",
              "\n",
              "    .dataframe tbody tr th {\n",
              "        vertical-align: top;\n",
              "    }\n",
              "\n",
              "    .dataframe thead th {\n",
              "        text-align: right;\n",
              "    }\n",
              "</style>\n",
              "<table border=\"1\" class=\"dataframe\">\n",
              "  <thead>\n",
              "    <tr style=\"text-align: right;\">\n",
              "      <th></th>\n",
              "      <th>name</th>\n",
              "      <th>latitude</th>\n",
              "      <th>longitude</th>\n",
              "      <th>address</th>\n",
              "      <th>phone</th>\n",
              "      <th>website</th>\n",
              "      <th>Coordinates</th>\n",
              "    </tr>\n",
              "  </thead>\n",
              "  <tbody>\n",
              "    <tr>\n",
              "      <th>0</th>\n",
              "      <td>Alabaster</td>\n",
              "      <td>33.224225</td>\n",
              "      <td>-86.804174</td>\n",
              "      <td>250 S Colonial Dr, Alabaster, AL 35007-4657</td>\n",
              "      <td>205-564-2608</td>\n",
              "      <td>https://www.target.com/sl/alabaster/2276</td>\n",
              "      <td>POINT (-86.80417 33.22423)</td>\n",
              "    </tr>\n",
              "    <tr>\n",
              "      <th>1</th>\n",
              "      <td>Bessemer</td>\n",
              "      <td>33.334550</td>\n",
              "      <td>-86.989778</td>\n",
              "      <td>4889 Promenade Pkwy, Bessemer, AL 35022-7305</td>\n",
              "      <td>205-565-3760</td>\n",
              "      <td>https://www.target.com/sl/bessemer/2375</td>\n",
              "      <td>POINT (-86.98978 33.33455)</td>\n",
              "    </tr>\n",
              "    <tr>\n",
              "      <th>2</th>\n",
              "      <td>Daphne</td>\n",
              "      <td>30.602875</td>\n",
              "      <td>-87.895932</td>\n",
              "      <td>1698 US Highway 98, Daphne, AL 36526-4252</td>\n",
              "      <td>251-621-3540</td>\n",
              "      <td>https://www.target.com/sl/daphne/1274</td>\n",
              "      <td>POINT (-87.89593 30.60287)</td>\n",
              "    </tr>\n",
              "    <tr>\n",
              "      <th>3</th>\n",
              "      <td>Decatur</td>\n",
              "      <td>34.560148</td>\n",
              "      <td>-86.971559</td>\n",
              "      <td>1235 Point Mallard Pkwy SE, Decatur, AL 35601-...</td>\n",
              "      <td>256-898-3036</td>\n",
              "      <td>https://www.target.com/sl/decatur/2084</td>\n",
              "      <td>POINT (-86.97156 34.56015)</td>\n",
              "    </tr>\n",
              "    <tr>\n",
              "      <th>4</th>\n",
              "      <td>Dothan</td>\n",
              "      <td>31.266061</td>\n",
              "      <td>-85.446422</td>\n",
              "      <td>4601 Montgomery Hwy, Dothan, AL 36303-1522</td>\n",
              "      <td>334-340-1112</td>\n",
              "      <td>https://www.target.com/sl/dothan/1468</td>\n",
              "      <td>POINT (-85.44642 31.26606)</td>\n",
              "    </tr>\n",
              "  </tbody>\n",
              "</table>\n",
              "</div>\n",
              "      <button class=\"colab-df-convert\" onclick=\"convertToInteractive('df-89a459ac-f4b5-4516-940b-ca366ada0e39')\"\n",
              "              title=\"Convert this dataframe to an interactive table.\"\n",
              "              style=\"display:none;\">\n",
              "        \n",
              "  <svg xmlns=\"http://www.w3.org/2000/svg\" height=\"24px\"viewBox=\"0 0 24 24\"\n",
              "       width=\"24px\">\n",
              "    <path d=\"M0 0h24v24H0V0z\" fill=\"none\"/>\n",
              "    <path d=\"M18.56 5.44l.94 2.06.94-2.06 2.06-.94-2.06-.94-.94-2.06-.94 2.06-2.06.94zm-11 1L8.5 8.5l.94-2.06 2.06-.94-2.06-.94L8.5 2.5l-.94 2.06-2.06.94zm10 10l.94 2.06.94-2.06 2.06-.94-2.06-.94-.94-2.06-.94 2.06-2.06.94z\"/><path d=\"M17.41 7.96l-1.37-1.37c-.4-.4-.92-.59-1.43-.59-.52 0-1.04.2-1.43.59L10.3 9.45l-7.72 7.72c-.78.78-.78 2.05 0 2.83L4 21.41c.39.39.9.59 1.41.59.51 0 1.02-.2 1.41-.59l7.78-7.78 2.81-2.81c.8-.78.8-2.07 0-2.86zM5.41 20L4 18.59l7.72-7.72 1.47 1.35L5.41 20z\"/>\n",
              "  </svg>\n",
              "      </button>\n",
              "      \n",
              "  <style>\n",
              "    .colab-df-container {\n",
              "      display:flex;\n",
              "      flex-wrap:wrap;\n",
              "      gap: 12px;\n",
              "    }\n",
              "\n",
              "    .colab-df-convert {\n",
              "      background-color: #E8F0FE;\n",
              "      border: none;\n",
              "      border-radius: 50%;\n",
              "      cursor: pointer;\n",
              "      display: none;\n",
              "      fill: #1967D2;\n",
              "      height: 32px;\n",
              "      padding: 0 0 0 0;\n",
              "      width: 32px;\n",
              "    }\n",
              "\n",
              "    .colab-df-convert:hover {\n",
              "      background-color: #E2EBFA;\n",
              "      box-shadow: 0px 1px 2px rgba(60, 64, 67, 0.3), 0px 1px 3px 1px rgba(60, 64, 67, 0.15);\n",
              "      fill: #174EA6;\n",
              "    }\n",
              "\n",
              "    [theme=dark] .colab-df-convert {\n",
              "      background-color: #3B4455;\n",
              "      fill: #D2E3FC;\n",
              "    }\n",
              "\n",
              "    [theme=dark] .colab-df-convert:hover {\n",
              "      background-color: #434B5C;\n",
              "      box-shadow: 0px 1px 3px 1px rgba(0, 0, 0, 0.15);\n",
              "      filter: drop-shadow(0px 1px 2px rgba(0, 0, 0, 0.3));\n",
              "      fill: #FFFFFF;\n",
              "    }\n",
              "  </style>\n",
              "\n",
              "      <script>\n",
              "        const buttonEl =\n",
              "          document.querySelector('#df-89a459ac-f4b5-4516-940b-ca366ada0e39 button.colab-df-convert');\n",
              "        buttonEl.style.display =\n",
              "          google.colab.kernel.accessAllowed ? 'block' : 'none';\n",
              "\n",
              "        async function convertToInteractive(key) {\n",
              "          const element = document.querySelector('#df-89a459ac-f4b5-4516-940b-ca366ada0e39');\n",
              "          const dataTable =\n",
              "            await google.colab.kernel.invokeFunction('convertToInteractive',\n",
              "                                                     [key], {});\n",
              "          if (!dataTable) return;\n",
              "\n",
              "          const docLinkHtml = 'Like what you see? Visit the ' +\n",
              "            '<a target=\"_blank\" href=https://colab.research.google.com/notebooks/data_table.ipynb>data table notebook</a>'\n",
              "            + ' to learn more about interactive tables.';\n",
              "          element.innerHTML = '';\n",
              "          dataTable['output_type'] = 'display_data';\n",
              "          await google.colab.output.renderOutput(dataTable, element);\n",
              "          const docLink = document.createElement('div');\n",
              "          docLink.innerHTML = docLinkHtml;\n",
              "          element.appendChild(docLink);\n",
              "        }\n",
              "      </script>\n",
              "    </div>\n",
              "  </div>\n",
              "  "
            ]
          },
          "metadata": {},
          "execution_count": 11
        }
      ]
    },
    {
      "cell_type": "code",
      "source": [
        "#mapa\n",
        "\n",
        "world = gpd.read_file(gpd.datasets.get_path(\"naturalearth_lowres\"))\n",
        "world = world.set_index(\"iso_a3\")\n",
        "\n",
        "world.head()"
      ],
      "metadata": {
        "colab": {
          "base_uri": "https://localhost:8080/",
          "height": 237
        },
        "id": "wB6Jkrvbfef1",
        "outputId": "d605f9d4-fa05-47e6-c0e0-bcedd9166a76"
      },
      "execution_count": 12,
      "outputs": [
        {
          "output_type": "execute_result",
          "data": {
            "text/plain": [
              "          pop_est      continent                      name  gdp_md_est  \\\n",
              "iso_a3                                                                   \n",
              "FJI        920938        Oceania                      Fiji      8374.0   \n",
              "TZA      53950935         Africa                  Tanzania    150600.0   \n",
              "ESH        603253         Africa                 W. Sahara       906.5   \n",
              "CAN      35623680  North America                    Canada   1674000.0   \n",
              "USA     326625791  North America  United States of America  18560000.0   \n",
              "\n",
              "                                                 geometry  \n",
              "iso_a3                                                     \n",
              "FJI     MULTIPOLYGON (((180.00000 -16.06713, 180.00000...  \n",
              "TZA     POLYGON ((33.90371 -0.95000, 34.07262 -1.05982...  \n",
              "ESH     POLYGON ((-8.66559 27.65643, -8.66512 27.58948...  \n",
              "CAN     MULTIPOLYGON (((-122.84000 49.00000, -122.9742...  \n",
              "USA     MULTIPOLYGON (((-122.84000 49.00000, -120.0000...  "
            ],
            "text/html": [
              "\n",
              "  <div id=\"df-8f0dbc2a-3cfe-4d74-b4ce-a97632167364\">\n",
              "    <div class=\"colab-df-container\">\n",
              "      <div>\n",
              "<style scoped>\n",
              "    .dataframe tbody tr th:only-of-type {\n",
              "        vertical-align: middle;\n",
              "    }\n",
              "\n",
              "    .dataframe tbody tr th {\n",
              "        vertical-align: top;\n",
              "    }\n",
              "\n",
              "    .dataframe thead th {\n",
              "        text-align: right;\n",
              "    }\n",
              "</style>\n",
              "<table border=\"1\" class=\"dataframe\">\n",
              "  <thead>\n",
              "    <tr style=\"text-align: right;\">\n",
              "      <th></th>\n",
              "      <th>pop_est</th>\n",
              "      <th>continent</th>\n",
              "      <th>name</th>\n",
              "      <th>gdp_md_est</th>\n",
              "      <th>geometry</th>\n",
              "    </tr>\n",
              "    <tr>\n",
              "      <th>iso_a3</th>\n",
              "      <th></th>\n",
              "      <th></th>\n",
              "      <th></th>\n",
              "      <th></th>\n",
              "      <th></th>\n",
              "    </tr>\n",
              "  </thead>\n",
              "  <tbody>\n",
              "    <tr>\n",
              "      <th>FJI</th>\n",
              "      <td>920938</td>\n",
              "      <td>Oceania</td>\n",
              "      <td>Fiji</td>\n",
              "      <td>8374.0</td>\n",
              "      <td>MULTIPOLYGON (((180.00000 -16.06713, 180.00000...</td>\n",
              "    </tr>\n",
              "    <tr>\n",
              "      <th>TZA</th>\n",
              "      <td>53950935</td>\n",
              "      <td>Africa</td>\n",
              "      <td>Tanzania</td>\n",
              "      <td>150600.0</td>\n",
              "      <td>POLYGON ((33.90371 -0.95000, 34.07262 -1.05982...</td>\n",
              "    </tr>\n",
              "    <tr>\n",
              "      <th>ESH</th>\n",
              "      <td>603253</td>\n",
              "      <td>Africa</td>\n",
              "      <td>W. Sahara</td>\n",
              "      <td>906.5</td>\n",
              "      <td>POLYGON ((-8.66559 27.65643, -8.66512 27.58948...</td>\n",
              "    </tr>\n",
              "    <tr>\n",
              "      <th>CAN</th>\n",
              "      <td>35623680</td>\n",
              "      <td>North America</td>\n",
              "      <td>Canada</td>\n",
              "      <td>1674000.0</td>\n",
              "      <td>MULTIPOLYGON (((-122.84000 49.00000, -122.9742...</td>\n",
              "    </tr>\n",
              "    <tr>\n",
              "      <th>USA</th>\n",
              "      <td>326625791</td>\n",
              "      <td>North America</td>\n",
              "      <td>United States of America</td>\n",
              "      <td>18560000.0</td>\n",
              "      <td>MULTIPOLYGON (((-122.84000 49.00000, -120.0000...</td>\n",
              "    </tr>\n",
              "  </tbody>\n",
              "</table>\n",
              "</div>\n",
              "      <button class=\"colab-df-convert\" onclick=\"convertToInteractive('df-8f0dbc2a-3cfe-4d74-b4ce-a97632167364')\"\n",
              "              title=\"Convert this dataframe to an interactive table.\"\n",
              "              style=\"display:none;\">\n",
              "        \n",
              "  <svg xmlns=\"http://www.w3.org/2000/svg\" height=\"24px\"viewBox=\"0 0 24 24\"\n",
              "       width=\"24px\">\n",
              "    <path d=\"M0 0h24v24H0V0z\" fill=\"none\"/>\n",
              "    <path d=\"M18.56 5.44l.94 2.06.94-2.06 2.06-.94-2.06-.94-.94-2.06-.94 2.06-2.06.94zm-11 1L8.5 8.5l.94-2.06 2.06-.94-2.06-.94L8.5 2.5l-.94 2.06-2.06.94zm10 10l.94 2.06.94-2.06 2.06-.94-2.06-.94-.94-2.06-.94 2.06-2.06.94z\"/><path d=\"M17.41 7.96l-1.37-1.37c-.4-.4-.92-.59-1.43-.59-.52 0-1.04.2-1.43.59L10.3 9.45l-7.72 7.72c-.78.78-.78 2.05 0 2.83L4 21.41c.39.39.9.59 1.41.59.51 0 1.02-.2 1.41-.59l7.78-7.78 2.81-2.81c.8-.78.8-2.07 0-2.86zM5.41 20L4 18.59l7.72-7.72 1.47 1.35L5.41 20z\"/>\n",
              "  </svg>\n",
              "      </button>\n",
              "      \n",
              "  <style>\n",
              "    .colab-df-container {\n",
              "      display:flex;\n",
              "      flex-wrap:wrap;\n",
              "      gap: 12px;\n",
              "    }\n",
              "\n",
              "    .colab-df-convert {\n",
              "      background-color: #E8F0FE;\n",
              "      border: none;\n",
              "      border-radius: 50%;\n",
              "      cursor: pointer;\n",
              "      display: none;\n",
              "      fill: #1967D2;\n",
              "      height: 32px;\n",
              "      padding: 0 0 0 0;\n",
              "      width: 32px;\n",
              "    }\n",
              "\n",
              "    .colab-df-convert:hover {\n",
              "      background-color: #E2EBFA;\n",
              "      box-shadow: 0px 1px 2px rgba(60, 64, 67, 0.3), 0px 1px 3px 1px rgba(60, 64, 67, 0.15);\n",
              "      fill: #174EA6;\n",
              "    }\n",
              "\n",
              "    [theme=dark] .colab-df-convert {\n",
              "      background-color: #3B4455;\n",
              "      fill: #D2E3FC;\n",
              "    }\n",
              "\n",
              "    [theme=dark] .colab-df-convert:hover {\n",
              "      background-color: #434B5C;\n",
              "      box-shadow: 0px 1px 3px 1px rgba(0, 0, 0, 0.15);\n",
              "      filter: drop-shadow(0px 1px 2px rgba(0, 0, 0, 0.3));\n",
              "      fill: #FFFFFF;\n",
              "    }\n",
              "  </style>\n",
              "\n",
              "      <script>\n",
              "        const buttonEl =\n",
              "          document.querySelector('#df-8f0dbc2a-3cfe-4d74-b4ce-a97632167364 button.colab-df-convert');\n",
              "        buttonEl.style.display =\n",
              "          google.colab.kernel.accessAllowed ? 'block' : 'none';\n",
              "\n",
              "        async function convertToInteractive(key) {\n",
              "          const element = document.querySelector('#df-8f0dbc2a-3cfe-4d74-b4ce-a97632167364');\n",
              "          const dataTable =\n",
              "            await google.colab.kernel.invokeFunction('convertToInteractive',\n",
              "                                                     [key], {});\n",
              "          if (!dataTable) return;\n",
              "\n",
              "          const docLinkHtml = 'Like what you see? Visit the ' +\n",
              "            '<a target=\"_blank\" href=https://colab.research.google.com/notebooks/data_table.ipynb>data table notebook</a>'\n",
              "            + ' to learn more about interactive tables.';\n",
              "          element.innerHTML = '';\n",
              "          dataTable['output_type'] = 'display_data';\n",
              "          await google.colab.output.renderOutput(dataTable, element);\n",
              "          const docLink = document.createElement('div');\n",
              "          docLink.innerHTML = docLinkHtml;\n",
              "          element.appendChild(docLink);\n",
              "        }\n",
              "      </script>\n",
              "    </div>\n",
              "  </div>\n",
              "  "
            ]
          },
          "metadata": {},
          "execution_count": 12
        }
      ]
    },
    {
      "cell_type": "code",
      "source": [
        "#graficar el mapa\n",
        "world.name.unique()"
      ],
      "metadata": {
        "colab": {
          "base_uri": "https://localhost:8080/"
        },
        "id": "0qkBCMSUflw_",
        "outputId": "e04a41a3-d853-477e-f5ff-9ed014d4c2b8"
      },
      "execution_count": 13,
      "outputs": [
        {
          "output_type": "execute_result",
          "data": {
            "text/plain": [
              "array(['Fiji', 'Tanzania', 'W. Sahara', 'Canada',\n",
              "       'United States of America', 'Kazakhstan', 'Uzbekistan',\n",
              "       'Papua New Guinea', 'Indonesia', 'Argentina', 'Chile',\n",
              "       'Dem. Rep. Congo', 'Somalia', 'Kenya', 'Sudan', 'Chad', 'Haiti',\n",
              "       'Dominican Rep.', 'Russia', 'Bahamas', 'Falkland Is.', 'Norway',\n",
              "       'Greenland', 'Fr. S. Antarctic Lands', 'Timor-Leste',\n",
              "       'South Africa', 'Lesotho', 'Mexico', 'Uruguay', 'Brazil',\n",
              "       'Bolivia', 'Peru', 'Colombia', 'Panama', 'Costa Rica', 'Nicaragua',\n",
              "       'Honduras', 'El Salvador', 'Guatemala', 'Belize', 'Venezuela',\n",
              "       'Guyana', 'Suriname', 'France', 'Ecuador', 'Puerto Rico',\n",
              "       'Jamaica', 'Cuba', 'Zimbabwe', 'Botswana', 'Namibia', 'Senegal',\n",
              "       'Mali', 'Mauritania', 'Benin', 'Niger', 'Nigeria', 'Cameroon',\n",
              "       'Togo', 'Ghana', \"Côte d'Ivoire\", 'Guinea', 'Guinea-Bissau',\n",
              "       'Liberia', 'Sierra Leone', 'Burkina Faso', 'Central African Rep.',\n",
              "       'Congo', 'Gabon', 'Eq. Guinea', 'Zambia', 'Malawi', 'Mozambique',\n",
              "       'eSwatini', 'Angola', 'Burundi', 'Israel', 'Lebanon', 'Madagascar',\n",
              "       'Palestine', 'Gambia', 'Tunisia', 'Algeria', 'Jordan',\n",
              "       'United Arab Emirates', 'Qatar', 'Kuwait', 'Iraq', 'Oman',\n",
              "       'Vanuatu', 'Cambodia', 'Thailand', 'Laos', 'Myanmar', 'Vietnam',\n",
              "       'North Korea', 'South Korea', 'Mongolia', 'India', 'Bangladesh',\n",
              "       'Bhutan', 'Nepal', 'Pakistan', 'Afghanistan', 'Tajikistan',\n",
              "       'Kyrgyzstan', 'Turkmenistan', 'Iran', 'Syria', 'Armenia', 'Sweden',\n",
              "       'Belarus', 'Ukraine', 'Poland', 'Austria', 'Hungary', 'Moldova',\n",
              "       'Romania', 'Lithuania', 'Latvia', 'Estonia', 'Germany', 'Bulgaria',\n",
              "       'Greece', 'Turkey', 'Albania', 'Croatia', 'Switzerland',\n",
              "       'Luxembourg', 'Belgium', 'Netherlands', 'Portugal', 'Spain',\n",
              "       'Ireland', 'New Caledonia', 'Solomon Is.', 'New Zealand',\n",
              "       'Australia', 'Sri Lanka', 'China', 'Taiwan', 'Italy', 'Denmark',\n",
              "       'United Kingdom', 'Iceland', 'Azerbaijan', 'Georgia',\n",
              "       'Philippines', 'Malaysia', 'Brunei', 'Slovenia', 'Finland',\n",
              "       'Slovakia', 'Czechia', 'Eritrea', 'Japan', 'Paraguay', 'Yemen',\n",
              "       'Saudi Arabia', 'Antarctica', 'N. Cyprus', 'Cyprus', 'Morocco',\n",
              "       'Egypt', 'Libya', 'Ethiopia', 'Djibouti', 'Somaliland', 'Uganda',\n",
              "       'Rwanda', 'Bosnia and Herz.', 'Macedonia', 'Serbia', 'Montenegro',\n",
              "       'Kosovo', 'Trinidad and Tobago', 'S. Sudan'], dtype=object)"
            ]
          },
          "metadata": {},
          "execution_count": 13
        }
      ]
    },
    {
      "cell_type": "code",
      "source": [
        "fig, gax = plt.subplots(figsize=(10,10))\n",
        "\n",
        "# By only plotting rows in which the continent is 'South America' we only plot SA.\n",
        "world.query(\"name == 'United States of America'\").plot(ax=gax, edgecolor='black',color='white')\n",
        "\n",
        "# By the way, if you haven't read the book 'longitude' by Dava Sobel, you should...\n",
        "gax.set_xlabel('longitude')\n",
        "gax.set_ylabel('latitude')\n",
        "\n",
        "gax.spines['top'].set_visible(False)\n",
        "gax.spines['right'].set_visible(False)"
      ],
      "metadata": {
        "colab": {
          "base_uri": "https://localhost:8080/",
          "height": 476
        },
        "id": "swDogh7dfusl",
        "outputId": "e1a8bfec-f862-42ef-8912-0ebac09c64c8"
      },
      "execution_count": 14,
      "outputs": [
        {
          "output_type": "display_data",
          "data": {
            "text/plain": [
              "<Figure size 720x720 with 1 Axes>"
            ],
            "image/png": "[encoded data removed]"
          },
          "metadata": {}
        }
      ]
    },
    {
      "cell_type": "code",
      "source": [
        "# Step 3: Plot the cities onto the map\n",
        "# We mostly use the code from before --- we still want the country borders plotted --- and we\n",
        "# add a command to plot the cities\n",
        "fig, gax = plt.subplots(figsize=(10,10))\n",
        "\n",
        "# By only plotting rows in which the continent is 'South America' we only plot, well,\n",
        "# South America.\n",
        "world.query(\"name == 'United States of America'\").plot(ax = gax, edgecolor='black', color='white')\n",
        "\n",
        "# This plot the cities. It's the same syntax, but we are plotting from a different GeoDataFrame.\n",
        "# I want the cities as pale red dots.\n",
        "gdf.plot(ax=gax, color='red', alpha = 0.5)\n",
        "\n",
        "gax.set_xlabel('longitude')\n",
        "gax.set_ylabel('latitude')\n",
        "gax.set_title('Target en Estados Unidos')\n",
        "\n",
        "gax.spines['top'].set_visible(False)\n",
        "gax.spines['right'].set_visible(False)\n",
        "\n",
        "plt.show()"
      ],
      "metadata": {
        "colab": {
          "base_uri": "https://localhost:8080/",
          "height": 381
        },
        "id": "OR0ydTOvf_Xp",
        "outputId": "204d04bd-78c1-44f9-d0ee-8c5a0481fad0"
      },
      "execution_count": 15,
      "outputs": [
        {
          "output_type": "display_data",
          "data": {
            "text/plain": [
              "<Figure size 720x720 with 1 Axes>"
            ],
            "image/png": "[encoded data removed]"
          },
          "metadata": {}
        }
      ]
    },
    {
      "cell_type": "markdown",
      "source": [
        "¿qué tal ahora?, tiene mayor sentido verdad, entonces los datos lejanos no eran atípicos, de aquí la importancia de ver los datos con el tipo de gráfica correcta.\n",
        "\n",
        "Ahora sí, implementa K means a los datos de latitud y longitud :) y encuentra donde colocar los almacenes. \n",
        "\n",
        "Nota: si te llama la atención implementar alguna otra visualización con otra librería, lo puedes hacer, no hay restricciones."
      ],
      "metadata": {
        "id": "SMkonhsqfgSf"
      }
    },
    {
      "cell_type": "code",
      "source": [
        "#tu codigo aquí\n",
        "from sklearn.cluster import KMeans\n",
        "columns = ['longitude', 'latitude']\n",
        "X = df[columns]"
      ],
      "metadata": {
        "id": "IfXq2ieSgD2e"
      },
      "execution_count": 19,
      "outputs": []
    },
    {
      "cell_type": "code",
      "source": [
        "Kmeanslist = []\n",
        "for i in range(1, 8):\n",
        "    k_means = KMeans(n_clusters=i, init='random',n_init=10, max_iter=300,tol=0.0001, random_state=0)\n",
        "    k_means.fit(X)\n",
        "    Kmeanslist.append(k_means.inertia_)"
      ],
      "metadata": {
        "id": "dLH8uv3j2jPS"
      },
      "execution_count": 24,
      "outputs": []
    },
    {
      "cell_type": "code",
      "source": [
        "plt.figure(figsize=(6,5))\n",
        "plt.plot(range(1, 8), distortions, marker='D')\n",
        "plt.xlabel('Numero de clusters')\n",
        "plt.ylabel('Codo')\n",
        "plt.show()"
      ],
      "metadata": {
        "colab": {
          "base_uri": "https://localhost:8080/",
          "height": 352
        },
        "id": "R6ngRulu4Qmn",
        "outputId": "5be46a87-9808-44fe-a249-8402cfc9e508"
      },
      "execution_count": 33,
      "outputs": [
        {
          "output_type": "display_data",
          "data": {
            "text/plain": [
              "<Figure size 432x360 with 1 Axes>"
            ],
            "image/png": "[encoded data removed]"
          },
          "metadata": {}
        }
      ]
    },
    {
      "cell_type": "code",
      "source": [
        "k = 3\n",
        "kmeans = KMeans(n_clusters=k, random_state=42).fit(X)\n",
        "y_hat = kmeans.predict(X)\n",
        "y_hat"
      ],
      "metadata": {
        "colab": {
          "base_uri": "https://localhost:8080/"
        },
        "id": "-UnUHq5v6LgE",
        "outputId": "daf53633-2ff1-4fe0-8bfc-fdd47f31f56b"
      },
      "execution_count": 34,
      "outputs": [
        {
          "output_type": "execute_result",
          "data": {
            "text/plain": [
              "array([0, 0, 0, ..., 2, 0, 2], dtype=int32)"
            ]
          },
          "metadata": {},
          "execution_count": 34
        }
      ]
    },
    {
      "cell_type": "code",
      "source": [
        "CentrosLnL = kmeans.cluster_centers_\n",
        "print(CentrosLnL)"
      ],
      "metadata": {
        "colab": {
          "base_uri": "https://localhost:8080/"
        },
        "id": "UbG6ZcAc6ZHy",
        "outputId": "ebe5376b-d24b-49f5-807e-c9a0d604d33f"
      },
      "execution_count": 36,
      "outputs": [
        {
          "output_type": "stream",
          "name": "stdout",
          "text": [
            "[[ -93.3271723    37.98006261]\n",
            " [ -78.56990807   37.789554  ]\n",
            " [-118.62447332   37.48734203]]\n"
          ]
        }
      ]
    },
    {
      "cell_type": "code",
      "source": [
        "from geopy.geocoders import Nominatim\n",
        "geolocator = Nominatim(user_agent=\"geoapiExercises\")\n",
        "\n",
        "i = 1\n",
        "warehouse_location = []\n",
        "for centroid in centroids:\n",
        "    latitude = round(centroid[1], 6)\n",
        "    longitude = round(centroid[0], 6)\n",
        "    location = geolocator.reverse(f\"{latitude}, {longitude}\")\n",
        "    warehouse_location.append(location)\n",
        "    print(f\"Localicación del almacén {i} en {location}\")\n",
        "    i += 1 "
      ],
      "metadata": {
        "colab": {
          "base_uri": "https://localhost:8080/"
        },
        "id": "3yZra5qh7cA1",
        "outputId": "321f0ab5-91ef-4803-90af-4b4d5f08a54b"
      },
      "execution_count": 38,
      "outputs": [
        {
          "output_type": "stream",
          "name": "stdout",
          "text": [
            "Localicación del almacén 1 en Hickory County, Missouri, United States\n",
            "Localicación del almacén 2 en Langhorne Road, Totier Hills, Albemarle County, Virginia, 22946, United States\n",
            "Localicación del almacén 3 en Paradise Estates, Mono County, California, United States\n"
          ]
        }
      ]
    },
    {
      "cell_type": "code",
      "source": [
        "Centros= pd.DataFrame(CentrosLnL)\n",
        "Centros.rename(columns={0: \"Longitude\", 1: \"Latitude\"},inplace=True)\n",
        "Centros"
      ],
      "metadata": {
        "colab": {
          "base_uri": "https://localhost:8080/",
          "height": 143
        },
        "id": "ojp1HdLm7_nx",
        "outputId": "f42778da-8a9a-4e65-93ec-4c849beccc08"
      },
      "execution_count": 53,
      "outputs": [
        {
          "output_type": "execute_result",
          "data": {
            "text/plain": [
              "    Longitude   Latitude\n",
              "0  -93.327172  37.980063\n",
              "1  -78.569908  37.789554\n",
              "2 -118.624473  37.487342"
            ],
            "text/html": [
              "\n",
              "  <div id=\"df-14a06deb-734a-4d0b-aaee-d372784a192b\">\n",
              "    <div class=\"colab-df-container\">\n",
              "      <div>\n",
              "<style scoped>\n",
              "    .dataframe tbody tr th:only-of-type {\n",
              "        vertical-align: middle;\n",
              "    }\n",
              "\n",
              "    .dataframe tbody tr th {\n",
              "        vertical-align: top;\n",
              "    }\n",
              "\n",
              "    .dataframe thead th {\n",
              "        text-align: right;\n",
              "    }\n",
              "</style>\n",
              "<table border=\"1\" class=\"dataframe\">\n",
              "  <thead>\n",
              "    <tr style=\"text-align: right;\">\n",
              "      <th></th>\n",
              "      <th>Longitude</th>\n",
              "      <th>Latitude</th>\n",
              "    </tr>\n",
              "  </thead>\n",
              "  <tbody>\n",
              "    <tr>\n",
              "      <th>0</th>\n",
              "      <td>-93.327172</td>\n",
              "      <td>37.980063</td>\n",
              "    </tr>\n",
              "    <tr>\n",
              "      <th>1</th>\n",
              "      <td>-78.569908</td>\n",
              "      <td>37.789554</td>\n",
              "    </tr>\n",
              "    <tr>\n",
              "      <th>2</th>\n",
              "      <td>-118.624473</td>\n",
              "      <td>37.487342</td>\n",
              "    </tr>\n",
              "  </tbody>\n",
              "</table>\n",
              "</div>\n",
              "      <button class=\"colab-df-convert\" onclick=\"convertToInteractive('df-14a06deb-734a-4d0b-aaee-d372784a192b')\"\n",
              "              title=\"Convert this dataframe to an interactive table.\"\n",
              "              style=\"display:none;\">\n",
              "        \n",
              "  <svg xmlns=\"http://www.w3.org/2000/svg\" height=\"24px\"viewBox=\"0 0 24 24\"\n",
              "       width=\"24px\">\n",
              "    <path d=\"M0 0h24v24H0V0z\" fill=\"none\"/>\n",
              "    <path d=\"M18.56 5.44l.94 2.06.94-2.06 2.06-.94-2.06-.94-.94-2.06-.94 2.06-2.06.94zm-11 1L8.5 8.5l.94-2.06 2.06-.94-2.06-.94L8.5 2.5l-.94 2.06-2.06.94zm10 10l.94 2.06.94-2.06 2.06-.94-2.06-.94-.94-2.06-.94 2.06-2.06.94z\"/><path d=\"M17.41 7.96l-1.37-1.37c-.4-.4-.92-.59-1.43-.59-.52 0-1.04.2-1.43.59L10.3 9.45l-7.72 7.72c-.78.78-.78 2.05 0 2.83L4 21.41c.39.39.9.59 1.41.59.51 0 1.02-.2 1.41-.59l7.78-7.78 2.81-2.81c.8-.78.8-2.07 0-2.86zM5.41 20L4 18.59l7.72-7.72 1.47 1.35L5.41 20z\"/>\n",
              "  </svg>\n",
              "      </button>\n",
              "      \n",
              "  <style>\n",
              "    .colab-df-container {\n",
              "      display:flex;\n",
              "      flex-wrap:wrap;\n",
              "      gap: 12px;\n",
              "    }\n",
              "\n",
              "    .colab-df-convert {\n",
              "      background-color: #E8F0FE;\n",
              "      border: none;\n",
              "      border-radius: 50%;\n",
              "      cursor: pointer;\n",
              "      display: none;\n",
              "      fill: #1967D2;\n",
              "      height: 32px;\n",
              "      padding: 0 0 0 0;\n",
              "      width: 32px;\n",
              "    }\n",
              "\n",
              "    .colab-df-convert:hover {\n",
              "      background-color: #E2EBFA;\n",
              "      box-shadow: 0px 1px 2px rgba(60, 64, 67, 0.3), 0px 1px 3px 1px rgba(60, 64, 67, 0.15);\n",
              "      fill: #174EA6;\n",
              "    }\n",
              "\n",
              "    [theme=dark] .colab-df-convert {\n",
              "      background-color: #3B4455;\n",
              "      fill: #D2E3FC;\n",
              "    }\n",
              "\n",
              "    [theme=dark] .colab-df-convert:hover {\n",
              "      background-color: #434B5C;\n",
              "      box-shadow: 0px 1px 3px 1px rgba(0, 0, 0, 0.15);\n",
              "      filter: drop-shadow(0px 1px 2px rgba(0, 0, 0, 0.3));\n",
              "      fill: #FFFFFF;\n",
              "    }\n",
              "  </style>\n",
              "\n",
              "      <script>\n",
              "        const buttonEl =\n",
              "          document.querySelector('#df-14a06deb-734a-4d0b-aaee-d372784a192b button.colab-df-convert');\n",
              "        buttonEl.style.display =\n",
              "          google.colab.kernel.accessAllowed ? 'block' : 'none';\n",
              "\n",
              "        async function convertToInteractive(key) {\n",
              "          const element = document.querySelector('#df-14a06deb-734a-4d0b-aaee-d372784a192b');\n",
              "          const dataTable =\n",
              "            await google.colab.kernel.invokeFunction('convertToInteractive',\n",
              "                                                     [key], {});\n",
              "          if (!dataTable) return;\n",
              "\n",
              "          const docLinkHtml = 'Like what you see? Visit the ' +\n",
              "            '<a target=\"_blank\" href=https://colab.research.google.com/notebooks/data_table.ipynb>data table notebook</a>'\n",
              "            + ' to learn more about interactive tables.';\n",
              "          element.innerHTML = '';\n",
              "          dataTable['output_type'] = 'display_data';\n",
              "          await google.colab.output.renderOutput(dataTable, element);\n",
              "          const docLink = document.createElement('div');\n",
              "          docLink.innerHTML = docLinkHtml;\n",
              "          element.appendChild(docLink);\n",
              "        }\n",
              "      </script>\n",
              "    </div>\n",
              "  </div>\n",
              "  "
            ]
          },
          "metadata": {},
          "execution_count": 53
        }
      ]
    },
    {
      "cell_type": "code",
      "source": [
        "gdf = geopandas.GeoDataFrame(\n",
        "    Centros, geometry=geopandas.points_from_xy(Centros.Longitude, Centros.Latitude))\n",
        "gdf"
      ],
      "metadata": {
        "colab": {
          "base_uri": "https://localhost:8080/",
          "height": 143
        },
        "id": "WH2JNi4K_Bxz",
        "outputId": "843f65c3-94ae-4d13-b3a3-e3250749d357"
      },
      "execution_count": 55,
      "outputs": [
        {
          "output_type": "execute_result",
          "data": {
            "text/plain": [
              "    Longitude   Latitude                     geometry\n",
              "0  -93.327172  37.980063   POINT (-93.32717 37.98006)\n",
              "1  -78.569908  37.789554   POINT (-78.56991 37.78955)\n",
              "2 -118.624473  37.487342  POINT (-118.62447 37.48734)"
            ],
            "text/html": [
              "\n",
              "  <div id=\"df-309e394f-b7de-4dc5-bb76-866a74d92e05\">\n",
              "    <div class=\"colab-df-container\">\n",
              "      <div>\n",
              "<style scoped>\n",
              "    .dataframe tbody tr th:only-of-type {\n",
              "        vertical-align: middle;\n",
              "    }\n",
              "\n",
              "    .dataframe tbody tr th {\n",
              "        vertical-align: top;\n",
              "    }\n",
              "\n",
              "    .dataframe thead th {\n",
              "        text-align: right;\n",
              "    }\n",
              "</style>\n",
              "<table border=\"1\" class=\"dataframe\">\n",
              "  <thead>\n",
              "    <tr style=\"text-align: right;\">\n",
              "      <th></th>\n",
              "      <th>Longitude</th>\n",
              "      <th>Latitude</th>\n",
              "      <th>geometry</th>\n",
              "    </tr>\n",
              "  </thead>\n",
              "  <tbody>\n",
              "    <tr>\n",
              "      <th>0</th>\n",
              "      <td>-93.327172</td>\n",
              "      <td>37.980063</td>\n",
              "      <td>POINT (-93.32717 37.98006)</td>\n",
              "    </tr>\n",
              "    <tr>\n",
              "      <th>1</th>\n",
              "      <td>-78.569908</td>\n",
              "      <td>37.789554</td>\n",
              "      <td>POINT (-78.56991 37.78955)</td>\n",
              "    </tr>\n",
              "    <tr>\n",
              "      <th>2</th>\n",
              "      <td>-118.624473</td>\n",
              "      <td>37.487342</td>\n",
              "      <td>POINT (-118.62447 37.48734)</td>\n",
              "    </tr>\n",
              "  </tbody>\n",
              "</table>\n",
              "</div>\n",
              "      <button class=\"colab-df-convert\" onclick=\"convertToInteractive('df-309e394f-b7de-4dc5-bb76-866a74d92e05')\"\n",
              "              title=\"Convert this dataframe to an interactive table.\"\n",
              "              style=\"display:none;\">\n",
              "        \n",
              "  <svg xmlns=\"http://www.w3.org/2000/svg\" height=\"24px\"viewBox=\"0 0 24 24\"\n",
              "       width=\"24px\">\n",
              "    <path d=\"M0 0h24v24H0V0z\" fill=\"none\"/>\n",
              "    <path d=\"M18.56 5.44l.94 2.06.94-2.06 2.06-.94-2.06-.94-.94-2.06-.94 2.06-2.06.94zm-11 1L8.5 8.5l.94-2.06 2.06-.94-2.06-.94L8.5 2.5l-.94 2.06-2.06.94zm10 10l.94 2.06.94-2.06 2.06-.94-2.06-.94-.94-2.06-.94 2.06-2.06.94z\"/><path d=\"M17.41 7.96l-1.37-1.37c-.4-.4-.92-.59-1.43-.59-.52 0-1.04.2-1.43.59L10.3 9.45l-7.72 7.72c-.78.78-.78 2.05 0 2.83L4 21.41c.39.39.9.59 1.41.59.51 0 1.02-.2 1.41-.59l7.78-7.78 2.81-2.81c.8-.78.8-2.07 0-2.86zM5.41 20L4 18.59l7.72-7.72 1.47 1.35L5.41 20z\"/>\n",
              "  </svg>\n",
              "      </button>\n",
              "      \n",
              "  <style>\n",
              "    .colab-df-container {\n",
              "      display:flex;\n",
              "      flex-wrap:wrap;\n",
              "      gap: 12px;\n",
              "    }\n",
              "\n",
              "    .colab-df-convert {\n",
              "      background-color: #E8F0FE;\n",
              "      border: none;\n",
              "      border-radius: 50%;\n",
              "      cursor: pointer;\n",
              "      display: none;\n",
              "      fill: #1967D2;\n",
              "      height: 32px;\n",
              "      padding: 0 0 0 0;\n",
              "      width: 32px;\n",
              "    }\n",
              "\n",
              "    .colab-df-convert:hover {\n",
              "      background-color: #E2EBFA;\n",
              "      box-shadow: 0px 1px 2px rgba(60, 64, 67, 0.3), 0px 1px 3px 1px rgba(60, 64, 67, 0.15);\n",
              "      fill: #174EA6;\n",
              "    }\n",
              "\n",
              "    [theme=dark] .colab-df-convert {\n",
              "      background-color: #3B4455;\n",
              "      fill: #D2E3FC;\n",
              "    }\n",
              "\n",
              "    [theme=dark] .colab-df-convert:hover {\n",
              "      background-color: #434B5C;\n",
              "      box-shadow: 0px 1px 3px 1px rgba(0, 0, 0, 0.15);\n",
              "      filter: drop-shadow(0px 1px 2px rgba(0, 0, 0, 0.3));\n",
              "      fill: #FFFFFF;\n",
              "    }\n",
              "  </style>\n",
              "\n",
              "      <script>\n",
              "        const buttonEl =\n",
              "          document.querySelector('#df-309e394f-b7de-4dc5-bb76-866a74d92e05 button.colab-df-convert');\n",
              "        buttonEl.style.display =\n",
              "          google.colab.kernel.accessAllowed ? 'block' : 'none';\n",
              "\n",
              "        async function convertToInteractive(key) {\n",
              "          const element = document.querySelector('#df-309e394f-b7de-4dc5-bb76-866a74d92e05');\n",
              "          const dataTable =\n",
              "            await google.colab.kernel.invokeFunction('convertToInteractive',\n",
              "                                                     [key], {});\n",
              "          if (!dataTable) return;\n",
              "\n",
              "          const docLinkHtml = 'Like what you see? Visit the ' +\n",
              "            '<a target=\"_blank\" href=https://colab.research.google.com/notebooks/data_table.ipynb>data table notebook</a>'\n",
              "            + ' to learn more about interactive tables.';\n",
              "          element.innerHTML = '';\n",
              "          dataTable['output_type'] = 'display_data';\n",
              "          await google.colab.output.renderOutput(dataTable, element);\n",
              "          const docLink = document.createElement('div');\n",
              "          docLink.innerHTML = docLinkHtml;\n",
              "          element.appendChild(docLink);\n",
              "        }\n",
              "      </script>\n",
              "    </div>\n",
              "  </div>\n",
              "  "
            ]
          },
          "metadata": {},
          "execution_count": 55
        }
      ]
    },
    {
      "cell_type": "code",
      "source": [
        "world = geopandas.read_file(geopandas.datasets.get_path('naturalearth_lowres'))\n",
        "\n",
        "\n",
        "ax = world[world.continent == 'North America'].plot(\n",
        "    color='white', edgecolor='black')\n",
        "\n",
        "\n",
        "gdf.plot(ax=ax, color='red')\n",
        "\n",
        "plt.show()"
      ],
      "metadata": {
        "colab": {
          "base_uri": "https://localhost:8080/",
          "height": 219
        },
        "id": "pxnbPxqpBsXC",
        "outputId": "705e5ab2-8365-4501-dc80-942ab496dd24"
      },
      "execution_count": 60,
      "outputs": [
        {
          "output_type": "display_data",
          "data": {
            "text/plain": [
              "<Figure size 432x288 with 1 Axes>"
            ],
            "image/png": "[encoded data removed]"
          },
          "metadata": {}
        }
      ]
    },
    {
      "cell_type": "markdown",
      "source": [
        "#Conclusiones\n",
        "\n",
        "Número ideal de almacenes :3\n",
        "Para elegir la cantidad de almacenes utilice el algoritmo K-means, para determinar los clusters use el Método de Curva de codo. \n",
        "\n",
        "La inflexion del codo sucede en el K-3, es por esto que se usa este como número ideal. \n",
        "\n",
        "\n",
        "¿Qué librerías nos pueden ayudar a graficar este tipo de datos?\n",
        "1.  Cartopy-Análisis de datos geoespaciales\n",
        "2.  Geemap-Geemap es una librería de Python para mapas interactivos con Google Earth Engine\n",
        "3.  GeoPandas-es una de las más completas librerías de Python para GIS\n",
        "4.  GeoPy-para acceder a servicios de geocodificación \n",
        "5.  PySAL-es una librería de Python que nos da la posibilidad de la realizar distintos tipos de análisis espacial,\n",
        "\n",
        "¿Consideras importante que se grafique en un mapa?, Si, ya que de forma visual se puede apreciar las distancias aunque podrían ser engañosas ya que cada pais tiene diferente geografias (planicies, montañas,etc) ¿por qué? Pienso que visualizar los gráficos ayuda a hace un análisis más rápido de la info y se queda por más tiempo en la memoria de las personas. \n"
      ],
      "metadata": {
        "id": "zavMq-8UC2oq"
      }
    }
  ]
}